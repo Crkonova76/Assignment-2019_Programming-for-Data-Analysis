{
 "cells": [
  {
   "cell_type": "markdown",
   "metadata": {},
   "source": [
    "# NUMPY.RANDOM PACKAGE\n",
    "\n",
    "## Overal purpose of package\n",
    "\n",
    "The random module in Numpy package contains many functions used for generation of random numbers. In order to understand the main purpose of the package, the definition of random number needs to be introduced.\n",
    "\n",
    "Random numbers are numbers that occur in a such sequence that two conditions are met:\n",
    "\n",
    "* the values are uniformly distributed over a defined interval or set.\n",
    "* it is impossible to predict future values based on past or present ones.\n",
    "\n",
    "Random numbers are important in statistical analysis and probability theory (for example for generating data encryption keys, simulating and modeling complex phenomena and for selecting random samples from larger data sets).\n",
    "\n",
    "Computers use two main approaches how to generate the random numbers\n",
    "\n",
    "* Pseudo-Random Number Generators (PRNGs) \n",
    "* True Random Number Generators (TRNGs)\n"
   ]
  },
  {
   "cell_type": "markdown",
   "metadata": {},
   "source": [
    "### _Pseudo-Random Number Generators (PRNGs)_\n",
    "\n",
    "PRNGs are algorithms that use mathematical formulae or simply precalculated tables to produce sequences of numbers that appear random. The main features :\n",
    "\n",
    "    * efficiency (can produce many numbers in short time)\n",
    "    * deterministic (a given sequence of numbers can be reproduced at a later date if the starting point in the sequence is known)\n",
    "    * periodic (the sequence will eventually repeat)\n",
    "    \n",
    "These characteristics make PRNGs suitable for applications where many numbers are required and where it is useful that the same sequence can be replayed easily. Popular examples of such applications are simulation and modeling applications.\n",
    "\n",
    "Numpy’s random number routines produce pseudo random numbers using combinations of a BitGenerator to create sequences and a Generator to use those sequences to sample from different statistical distributions:\n",
    "\n",
    "    * BitGenerators: Objects that generate random numbers. These are typically unsigned integer words filled with sequences of either 32 or 64 random bits.\n",
    "    * Generators: Objects that transform sequences of random bits from a BitGenerator into sequences of numbers that follow a specific probability distribution (such as uniform, Normal or Binomial) within a specified interval.\n",
    "\n",
    "Python uses robust pseudorandom number generator called the Mersenne Twister.\n"
   ]
  },
  {
   "cell_type": "markdown",
   "metadata": {},
   "source": [
    "### _True Random Number Generators (TRNGs)_\n",
    "\n",
    "TRNGs extract randomness from physical phenomena and introduce it into a computer. The examples of physical phenoma can be the vatiations in mouse movements, athmospheric noise, radioactive source...\n",
    "The characteristics of TRNGs:\n",
    "\n",
    "    * TRNGs are generally rather inefficient compared to PRNGs, taking considerably longer time to produce numbers.\n",
    "    * non-deterministic, meaning that a given sequence of numbers cannot be reproduced, although the same sequence may of course occur several times by chance. \n",
    "    * non-periodic\n",
    "    "
   ]
  },
  {
   "cell_type": "markdown",
   "metadata": {},
   "source": [
    "_source:_\n",
    "* https://machinelearningmastery.com/how-to-generate-random-numbers-in-python/_\n",
    "* https://www.random.org/randomness/ \n",
    "* https://analyticstraining.com/random-numbers-applications/"
   ]
  },
  {
   "cell_type": "markdown",
   "metadata": {},
   "source": [
    "## 1. “SIMPLE RANDOM DATA” AND “PERMUTATIONS” METHODS\n",
    "\n",
    "###  __1a. Simple random data__\n",
    "\n",
    "Simple random data can be generated from Numpy by runing one of the functions below. They are all pseudo-random number generated.\n",
    "\n",
    "Types of random variable:\n",
    "> _Discrete random variables_ -take on only a countable number of distinct values,can be quantified <br />\n",
    "> _Continues random variable_ -the functions that take on continuous values\n",
    "\n",
    "\n",
    "### _numpy.random.rand_\n",
    "\n",
    "  * output are the random values in a given shape, from the uniform distribution from interval\n",
    " [0,1) -_zero inclusive, 1 exclusive_\n",
    "  \n"
   ]
  },
  {
   "cell_type": "markdown",
   "metadata": {},
   "source": [
    "_The below commands import librarias numpy, seaborn and matplotlib_"
   ]
  },
  {
   "cell_type": "code",
   "execution_count": 1,
   "metadata": {},
   "outputs": [],
   "source": [
    "import numpy as np\n",
    "import seaborn as sns\n",
    "import matplotlib.pyplot as pl"
   ]
  },
  {
   "cell_type": "markdown",
   "metadata": {},
   "source": [
    "Shape of array is defined by numbers in brackets:\n",
    "* the first position determines number of dimensions \n",
    "* second number defines number of samples in one array."
   ]
  },
  {
   "cell_type": "markdown",
   "metadata": {},
   "source": [
    "_By default, if no parameters are defined for the shape of array, the outcome is single integer from range zero inclusive to 1 exclusive_"
   ]
  },
  {
   "cell_type": "code",
   "execution_count": 2,
   "metadata": {},
   "outputs": [
    {
     "data": {
      "text/plain": [
       "0.2803656496434703"
      ]
     },
     "execution_count": 2,
     "metadata": {},
     "output_type": "execute_result"
    }
   ],
   "source": [
    "np.random.rand()"
   ]
  },
  {
   "cell_type": "markdown",
   "metadata": {},
   "source": [
    "_One number in bracket defines the size of one array dimension_"
   ]
  },
  {
   "cell_type": "code",
   "execution_count": 3,
   "metadata": {},
   "outputs": [
    {
     "data": {
      "text/plain": [
       "array([0.13399384, 0.44255033, 0.22511761, 0.97328907, 0.11503925])"
      ]
     },
     "execution_count": 3,
     "metadata": {},
     "output_type": "execute_result"
    }
   ],
   "source": [
    "np.random.rand(5)"
   ]
  },
  {
   "cell_type": "markdown",
   "metadata": {},
   "source": [
    "_Demonstration of specification of 3-dimensional array with 5 random numbers in each array_"
   ]
  },
  {
   "cell_type": "code",
   "execution_count": 4,
   "metadata": {},
   "outputs": [
    {
     "data": {
      "text/plain": [
       "array([[0.34193598, 0.56869678, 0.62830561, 0.02962008, 0.00712784],\n",
       "       [0.35312692, 0.49202195, 0.16896508, 0.19732155, 0.50029818],\n",
       "       [0.68526924, 0.58738916, 0.34740113, 0.97829228, 0.10241634]])"
      ]
     },
     "execution_count": 4,
     "metadata": {},
     "output_type": "execute_result"
    }
   ],
   "source": [
    "np.random.rand(3,5)"
   ]
  },
  {
   "cell_type": "markdown",
   "metadata": {},
   "source": [
    "_Histogram demonstrates the uniform distribution - numbers are evenly distributed in the interval. Refer below to section 2 \"Distributions\" for further details_"
   ]
  },
  {
   "cell_type": "code",
   "execution_count": 5,
   "metadata": {},
   "outputs": [
    {
     "data": {
      "text/plain": [
       "([array([1., 0., 0., 0., 1., 0., 0., 0., 0., 0.]),\n",
       "  array([1., 0., 0., 0., 0., 0., 0., 0., 0., 1.])],\n",
       " array([0.32596563, 0.37712182, 0.42827802, 0.47943421, 0.53059041,\n",
       "        0.5817466 , 0.6329028 , 0.68405899, 0.73521519, 0.78637138,\n",
       "        0.83752758]),\n",
       " <a list of 2 Lists of Patches objects>)"
      ]
     },
     "execution_count": 5,
     "metadata": {},
     "output_type": "execute_result"
    },
    {
     "data": {
      "image/png": "[encoded data removed]",
      "text/plain": [
       "<Figure size 432x288 with 1 Axes>"
      ]
     },
     "metadata": {
      "needs_background": "light"
     },
     "output_type": "display_data"
    }
   ],
   "source": [
    "pl.hist(np.random.rand(2,2))"
   ]
  },
  {
   "cell_type": "markdown",
   "metadata": {},
   "source": [
    "_As expected, the negative dimensions are not allowed_"
   ]
  },
  {
   "cell_type": "code",
   "execution_count": 6,
   "metadata": {},
   "outputs": [
    {
     "ename": "ValueError",
     "evalue": "negative dimensions are not allowed",
     "output_type": "error",
     "traceback": [
      "\u001b[1;31m---------------------------------------------------------------------------\u001b[0m",
      "\u001b[1;31mValueError\u001b[0m                                Traceback (most recent call last)",
      "\u001b[1;32m<ipython-input-6-3b78b5e0b307>\u001b[0m in \u001b[0;36m<module>\u001b[1;34m\u001b[0m\n\u001b[1;32m----> 1\u001b[1;33m \u001b[0mnp\u001b[0m\u001b[1;33m.\u001b[0m\u001b[0mrandom\u001b[0m\u001b[1;33m.\u001b[0m\u001b[0mrand\u001b[0m\u001b[1;33m(\u001b[0m\u001b[1;33m-\u001b[0m\u001b[1;36m2\u001b[0m\u001b[1;33m,\u001b[0m\u001b[1;33m-\u001b[0m\u001b[1;36m3\u001b[0m\u001b[1;33m)\u001b[0m\u001b[1;33m\u001b[0m\u001b[1;33m\u001b[0m\u001b[0m\n\u001b[0m",
      "\u001b[1;32mmtrand.pyx\u001b[0m in \u001b[0;36mmtrand.RandomState.rand\u001b[1;34m()\u001b[0m\n",
      "\u001b[1;32mmtrand.pyx\u001b[0m in \u001b[0;36mmtrand.RandomState.random_sample\u001b[1;34m()\u001b[0m\n",
      "\u001b[1;32mmtrand.pyx\u001b[0m in \u001b[0;36mmtrand.cont0_array\u001b[1;34m()\u001b[0m\n",
      "\u001b[1;31mValueError\u001b[0m: negative dimensions are not allowed"
     ]
    }
   ],
   "source": [
    "np.random.rand(-2,-3)"
   ]
  },
  {
   "cell_type": "markdown",
   "metadata": {},
   "source": [
    "### _numpy.random.randn_\n",
    "\n",
    "\n",
    "  * Return a sample (or samples) from the “standard normal” distribution.\n",
    "  * Generates an array of shape (d0, d1, ..., dn), filled with random floats sampled from a univariate “normal” (Gaussian) distribution of mean 0 and variance 1 "
   ]
  },
  {
   "cell_type": "markdown",
   "metadata": {},
   "source": [
    "_if no parameters used in brackets, the output is single float number_"
   ]
  },
  {
   "cell_type": "code",
   "execution_count": 7,
   "metadata": {},
   "outputs": [
    {
     "data": {
      "text/plain": [
       "0.25267663291092396"
      ]
     },
     "execution_count": 7,
     "metadata": {},
     "output_type": "execute_result"
    }
   ],
   "source": [
    "np.random.randn()"
   ]
  },
  {
   "cell_type": "markdown",
   "metadata": {},
   "source": [
    "_the paramenters in brackets defined the shape of array_\n",
    "* the first position determines number of dimensions\n",
    "* second number defines number of samples in one array."
   ]
  },
  {
   "cell_type": "markdown",
   "metadata": {},
   "source": [
    "_Two dimension arrays can be defined by the numbers in bvrackets._\n",
    "> First example-2 axes array with 5 samples<br/>\n",
    "> Second example- 2 axes array with 2 samples\n"
   ]
  },
  {
   "cell_type": "code",
   "execution_count": 8,
   "metadata": {},
   "outputs": [
    {
     "data": {
      "text/plain": [
       "array([[-1.14481721,  1.47133576, -0.25679984,  0.57708544, -0.35267737],\n",
       "       [ 0.18178362,  0.61692644,  2.12477851,  0.01332842,  0.25197129]])"
      ]
     },
     "execution_count": 8,
     "metadata": {},
     "output_type": "execute_result"
    }
   ],
   "source": [
    "np.random.randn(2,5)"
   ]
  },
  {
   "cell_type": "code",
   "execution_count": 9,
   "metadata": {},
   "outputs": [
    {
     "data": {
      "text/plain": [
       "array([[-1.25861075, -1.07650031],\n",
       "       [ 0.46744534,  0.28318679]])"
      ]
     },
     "execution_count": 9,
     "metadata": {},
     "output_type": "execute_result"
    }
   ],
   "source": [
    "np.random.randn(2,2)"
   ]
  },
  {
   "cell_type": "markdown",
   "metadata": {},
   "source": [
    "_To defined the mean as different value as by default value zero..._\n",
    "> Fisrt example- positive 5 as a mean<br/>\n",
    "> Second example-negative 5 as a mean<br/>\n",
    "> Plot demonstrate that the mean is -5<br/>\n",
    "> Second plot demonstrate the mean without defining any value for it, by default 0 is used\n"
   ]
  },
  {
   "cell_type": "code",
   "execution_count": 10,
   "metadata": {},
   "outputs": [
    {
     "data": {
      "text/plain": [
       "array([[5.301517  , 6.07442009],\n",
       "       [5.9914642 , 5.31231676]])"
      ]
     },
     "execution_count": 10,
     "metadata": {},
     "output_type": "execute_result"
    }
   ],
   "source": [
    "np.random.randn(2,2)+5\n"
   ]
  },
  {
   "cell_type": "code",
   "execution_count": 11,
   "metadata": {},
   "outputs": [
    {
     "data": {
      "text/plain": [
       "array([[-3.80900426, -3.50168867],\n",
       "       [-6.4487167 , -5.26300111]])"
      ]
     },
     "execution_count": 11,
     "metadata": {},
     "output_type": "execute_result"
    }
   ],
   "source": [
    "np.random.randn(2,2)-5"
   ]
  },
  {
   "cell_type": "code",
   "execution_count": 12,
   "metadata": {},
   "outputs": [
    {
     "data": {
      "text/plain": [
       "([array([ 1.,  5., 12., 16., 34., 21.,  8.,  1.,  1.,  1.]),\n",
       "  array([ 1.,  5.,  9., 23., 36., 18.,  7.,  1.,  0.,  0.]),\n",
       "  array([ 0.,  3.,  5., 24., 29., 15., 16.,  5.,  3.,  0.]),\n",
       "  array([ 0.,  2., 15., 18., 34., 12., 13.,  3.,  2.,  1.]),\n",
       "  array([ 1.,  5.,  7., 18., 29., 19., 15.,  3.,  2.,  1.]),\n",
       "  array([ 2.,  3., 14., 15., 26., 21., 13.,  4.,  2.,  0.]),\n",
       "  array([ 0.,  3., 10., 25., 21., 29.,  8.,  4.,  0.,  0.]),\n",
       "  array([ 1.,  3., 11., 19., 27., 22., 14.,  2.,  1.,  0.]),\n",
       "  array([ 2.,  7.,  5., 24., 22., 23., 16.,  1.,  0.,  0.]),\n",
       "  array([ 1.,  2., 11., 24., 30., 23.,  5.,  3.,  1.,  0.])],\n",
       " array([-8.04338598, -7.36966739, -6.69594879, -6.0222302 , -5.34851161,\n",
       "        -4.67479301, -4.00107442, -3.32735583, -2.65363723, -1.97991864,\n",
       "        -1.30620005]),\n",
       " <a list of 10 Lists of Patches objects>)"
      ]
     },
     "execution_count": 12,
     "metadata": {},
     "output_type": "execute_result"
    },
    {
     "data": {
      "image/png": "[encoded data removed]",
      "text/plain": [
       "<Figure size 432x288 with 1 Axes>"
      ]
     },
     "metadata": {
      "needs_background": "light"
     },
     "output_type": "display_data"
    }
   ],
   "source": [
    "pl.hist(np.random.randn(100,10)-5)"
   ]
  },
  {
   "cell_type": "code",
   "execution_count": 13,
   "metadata": {},
   "outputs": [
    {
     "data": {
      "text/plain": [
       "([array([ 1.,  3., 11., 15., 14., 24., 17., 10.,  3.,  2.]),\n",
       "  array([ 0.,  3.,  7., 14., 24., 17., 17., 10.,  5.,  3.]),\n",
       "  array([ 1.,  5.,  3., 15., 22., 19., 17.,  9.,  8.,  1.]),\n",
       "  array([ 1.,  3.,  3., 13., 21., 23., 20., 10.,  3.,  3.]),\n",
       "  array([ 0.,  3.,  5., 13., 19., 25., 18., 13.,  4.,  0.]),\n",
       "  array([ 1.,  0., 11., 18., 21., 20., 21.,  6.,  2.,  0.]),\n",
       "  array([ 0.,  3.,  4., 11., 24., 22., 17., 12.,  7.,  0.]),\n",
       "  array([ 0.,  1.,  5., 10., 25., 23., 11., 22.,  2.,  1.]),\n",
       "  array([ 1.,  4.,  4., 12., 15., 20., 19., 15.,  9.,  1.]),\n",
       "  array([ 0.,  2.,  4., 12., 21., 21., 24., 12.,  4.,  0.])],\n",
       " array([-3.17766651, -2.57553363, -1.97340075, -1.37126788, -0.769135  ,\n",
       "        -0.16700212,  0.43513076,  1.03726364,  1.63939651,  2.24152939,\n",
       "         2.84366227]),\n",
       " <a list of 10 Lists of Patches objects>)"
      ]
     },
     "execution_count": 13,
     "metadata": {},
     "output_type": "execute_result"
    },
    {
     "data": {
      "image/png": "[encoded data removed]",
      "text/plain": [
       "<Figure size 432x288 with 1 Axes>"
      ]
     },
     "metadata": {
      "needs_background": "light"
     },
     "output_type": "display_data"
    }
   ],
   "source": [
    "pl.hist(np.random.randn(100,10))"
   ]
  },
  {
   "cell_type": "markdown",
   "metadata": {},
   "source": [
    "### _numpy.random.randint_"
   ]
  },
  {
   "cell_type": "markdown",
   "metadata": {},
   "source": [
    "* Return random integers from low (inclusive) to high (exclusive).\n",
    "* Return random integers from the “discrete uniform” distribution of the specified dtype in the “half-open” interval "
   ]
  },
  {
   "cell_type": "markdown",
   "metadata": {},
   "source": [
    "_The output will be one dimensional array with 10 integers from the interval 0 (inclusive) to 3 (exclusive)_"
   ]
  },
  {
   "cell_type": "code",
   "execution_count": 14,
   "metadata": {},
   "outputs": [
    {
     "data": {
      "text/plain": [
       "array([0, 0, 1, 2, 0, 2, 0, 1, 0, 0])"
      ]
     },
     "execution_count": 14,
     "metadata": {},
     "output_type": "execute_result"
    }
   ],
   "source": [
    "np.random.randint(3, size=10)"
   ]
  },
  {
   "cell_type": "markdown",
   "metadata": {},
   "source": [
    "_The range can be determined by specifying the high paramenter. In this case the range is defined from -3 included to 0 excluded._ "
   ]
  },
  {
   "cell_type": "code",
   "execution_count": 15,
   "metadata": {},
   "outputs": [
    {
     "data": {
      "text/plain": [
       "array([-1, -3, -2, -3, -1, -1, -1, -3, -1, -3])"
      ]
     },
     "execution_count": 15,
     "metadata": {},
     "output_type": "execute_result"
    }
   ],
   "source": [
    "np.random.randint(-3,0, size=10)"
   ]
  },
  {
   "cell_type": "markdown",
   "metadata": {},
   "source": [
    "_Parameter \"size\" can determine more dimensional arrays of integers_"
   ]
  },
  {
   "cell_type": "code",
   "execution_count": 16,
   "metadata": {},
   "outputs": [
    {
     "data": {
      "text/plain": [
       "array([[3, 2, 0, 4],\n",
       "       [0, 3, 4, 0]])"
      ]
     },
     "execution_count": 16,
     "metadata": {},
     "output_type": "execute_result"
    }
   ],
   "source": [
    "np.random.randint(5, size=(2, 4))\n"
   ]
  },
  {
   "cell_type": "markdown",
   "metadata": {},
   "source": [
    "_TypeError below proves that parameter low integer is mandatory. The interval is not specified like in some other functions._"
   ]
  },
  {
   "cell_type": "code",
   "execution_count": 17,
   "metadata": {},
   "outputs": [
    {
     "ename": "TypeError",
     "evalue": "randint() takes at least 1 positional argument (0 given)",
     "output_type": "error",
     "traceback": [
      "\u001b[1;31m---------------------------------------------------------------------------\u001b[0m",
      "\u001b[1;31mTypeError\u001b[0m                                 Traceback (most recent call last)",
      "\u001b[1;32m<ipython-input-17-f49e882374b2>\u001b[0m in \u001b[0;36m<module>\u001b[1;34m\u001b[0m\n\u001b[1;32m----> 1\u001b[1;33m \u001b[0mnp\u001b[0m\u001b[1;33m.\u001b[0m\u001b[0mrandom\u001b[0m\u001b[1;33m.\u001b[0m\u001b[0mrandint\u001b[0m\u001b[1;33m(\u001b[0m\u001b[0msize\u001b[0m\u001b[1;33m=\u001b[0m\u001b[1;33m(\u001b[0m\u001b[1;36m2\u001b[0m\u001b[1;33m,\u001b[0m \u001b[1;36m4\u001b[0m\u001b[1;33m)\u001b[0m\u001b[1;33m)\u001b[0m\u001b[1;33m\u001b[0m\u001b[1;33m\u001b[0m\u001b[0m\n\u001b[0m",
      "\u001b[1;32mmtrand.pyx\u001b[0m in \u001b[0;36mmtrand.RandomState.randint\u001b[1;34m()\u001b[0m\n",
      "\u001b[1;31mTypeError\u001b[0m: randint() takes at least 1 positional argument (0 given)"
     ]
    }
   ],
   "source": [
    "np.random.randint(size=(2, 4))\n"
   ]
  },
  {
   "cell_type": "markdown",
   "metadata": {},
   "source": [
    "### _numpy.random.choice_"
   ]
  },
  {
   "cell_type": "markdown",
   "metadata": {},
   "source": [
    "Generates a random sample from a given 1-D array"
   ]
  },
  {
   "cell_type": "markdown",
   "metadata": {},
   "source": [
    "_Generate a uniform random sample from np.arange(5) of size 4_"
   ]
  },
  {
   "cell_type": "code",
   "execution_count": 18,
   "metadata": {},
   "outputs": [
    {
     "data": {
      "text/plain": [
       "array([3, 4, 4, 2])"
      ]
     },
     "execution_count": 18,
     "metadata": {},
     "output_type": "execute_result"
    }
   ],
   "source": [
    " np.random.choice(5, 4)"
   ]
  },
  {
   "cell_type": "markdown",
   "metadata": {},
   "source": [
    "The probabalities associated with entry can be defined by p. If p is not specified, the uniform distribution will be assumed across all samples.\n"
   ]
  },
  {
   "cell_type": "markdown",
   "metadata": {},
   "source": [
    "_In example below, 3 integers will be selected from the interval 0 to 5, when integer 2 has 60% chance to be selected. On the other side, integer 1 and 4 has zero probability to be selected._"
   ]
  },
  {
   "cell_type": "code",
   "execution_count": 19,
   "metadata": {},
   "outputs": [
    {
     "data": {
      "text/plain": [
       "array([0, 2, 5], dtype=int64)"
      ]
     },
     "execution_count": 19,
     "metadata": {},
     "output_type": "execute_result"
    }
   ],
   "source": [
    "np.random.choice(6, 3, p=[0.1, 0, 0.6, 0.2, 0, 0.1])"
   ]
  },
  {
   "cell_type": "markdown",
   "metadata": {},
   "source": [
    "__\"Replace\"__ parameter defines whether the sample is with or without replacement. \n"
   ]
  },
  {
   "cell_type": "markdown",
   "metadata": {},
   "source": [
    "_In example below we generate a non-uniform random sample with same probabilities like in example above without replacement_"
   ]
  },
  {
   "cell_type": "code",
   "execution_count": 20,
   "metadata": {},
   "outputs": [
    {
     "data": {
      "text/plain": [
       "array([2, 3, 0])"
      ]
     },
     "execution_count": 20,
     "metadata": {},
     "output_type": "execute_result"
    }
   ],
   "source": [
    "np.random.choice(6, 3, replace=False, p=[0.1, 0, 0.6, 0.2, 0, 0.1])"
   ]
  },
  {
   "cell_type": "markdown",
   "metadata": {},
   "source": [
    "_If we increase the sample size above the size of probable number specified by p, the result will be error. Based on probability defined above, only integers zero, two, three and five can be generated without repetition._"
   ]
  },
  {
   "cell_type": "code",
   "execution_count": 21,
   "metadata": {},
   "outputs": [
    {
     "ename": "ValueError",
     "evalue": "Fewer non-zero entries in p than size",
     "output_type": "error",
     "traceback": [
      "\u001b[1;31m---------------------------------------------------------------------------\u001b[0m",
      "\u001b[1;31mValueError\u001b[0m                                Traceback (most recent call last)",
      "\u001b[1;32m<ipython-input-21-b7f2f2584f65>\u001b[0m in \u001b[0;36m<module>\u001b[1;34m\u001b[0m\n\u001b[1;32m----> 1\u001b[1;33m \u001b[0mnp\u001b[0m\u001b[1;33m.\u001b[0m\u001b[0mrandom\u001b[0m\u001b[1;33m.\u001b[0m\u001b[0mchoice\u001b[0m\u001b[1;33m(\u001b[0m\u001b[1;36m6\u001b[0m\u001b[1;33m,\u001b[0m \u001b[1;36m5\u001b[0m\u001b[1;33m,\u001b[0m \u001b[0mreplace\u001b[0m\u001b[1;33m=\u001b[0m\u001b[1;32mFalse\u001b[0m\u001b[1;33m,\u001b[0m \u001b[0mp\u001b[0m\u001b[1;33m=\u001b[0m\u001b[1;33m[\u001b[0m\u001b[1;36m0.1\u001b[0m\u001b[1;33m,\u001b[0m \u001b[1;36m0\u001b[0m\u001b[1;33m,\u001b[0m \u001b[1;36m0.6\u001b[0m\u001b[1;33m,\u001b[0m \u001b[1;36m0.2\u001b[0m\u001b[1;33m,\u001b[0m \u001b[1;36m0\u001b[0m\u001b[1;33m,\u001b[0m \u001b[1;36m0.1\u001b[0m\u001b[1;33m]\u001b[0m\u001b[1;33m)\u001b[0m\u001b[1;33m\u001b[0m\u001b[1;33m\u001b[0m\u001b[0m\n\u001b[0m",
      "\u001b[1;32mmtrand.pyx\u001b[0m in \u001b[0;36mmtrand.RandomState.choice\u001b[1;34m()\u001b[0m\n",
      "\u001b[1;31mValueError\u001b[0m: Fewer non-zero entries in p than size"
     ]
    }
   ],
   "source": [
    "np.random.choice(6, 5, replace=False, p=[0.1, 0, 0.6, 0.2, 0, 0.1])"
   ]
  },
  {
   "cell_type": "markdown",
   "metadata": {},
   "source": [
    "_Any of the above can be repeated with an arbitrary array-like instead of just integers. For instance:_"
   ]
  },
  {
   "cell_type": "code",
   "execution_count": 22,
   "metadata": {},
   "outputs": [
    {
     "data": {
      "text/plain": [
       "array(['Martina', 'Baba', 'Oliver'], dtype='<U7')"
      ]
     },
     "execution_count": 22,
     "metadata": {},
     "output_type": "execute_result"
    }
   ],
   "source": [
    "crkon_family = [\"Martina\", \"Miso\", \"Oliver\",\"Alan\",\"Baba\",\"Beana\"]\n",
    "np.random.choice(crkon_family,3,replace=False, p=[0.4,0.2,0.1,0.1,0.2,0])"
   ]
  },
  {
   "cell_type": "markdown",
   "metadata": {},
   "source": [
    "### _numpy.random.random_\n"
   ]
  },
  {
   "cell_type": "markdown",
   "metadata": {},
   "source": [
    "Return random floats in the half-open interval [0.0,1.0). "
   ]
  },
  {
   "cell_type": "markdown",
   "metadata": {},
   "source": [
    "The outcome is from the \"continuous uniform\" distribution over tthe stated interval."
   ]
  },
  {
   "cell_type": "markdown",
   "metadata": {},
   "source": [
    "_Returns one integer from the interval [0.0,1.0) -zero inclusive, 1 exclusive_"
   ]
  },
  {
   "cell_type": "code",
   "execution_count": 23,
   "metadata": {},
   "outputs": [
    {
     "data": {
      "text/plain": [
       "0.3164712857694313"
      ]
     },
     "execution_count": 23,
     "metadata": {},
     "output_type": "execute_result"
    }
   ],
   "source": [
    "np.random.random_sample()"
   ]
  },
  {
   "cell_type": "markdown",
   "metadata": {},
   "source": [
    "_The numbers in the brackets defines the shape of the array_"
   ]
  },
  {
   "cell_type": "code",
   "execution_count": 24,
   "metadata": {},
   "outputs": [],
   "source": [
    "a = np.random.random_sample((2,4))"
   ]
  },
  {
   "cell_type": "markdown",
   "metadata": {},
   "source": [
    "_To confirm number of axes_"
   ]
  },
  {
   "cell_type": "code",
   "execution_count": 25,
   "metadata": {},
   "outputs": [
    {
     "data": {
      "text/plain": [
       "2"
      ]
     },
     "execution_count": 25,
     "metadata": {},
     "output_type": "execute_result"
    }
   ],
   "source": [
    "a.ndim"
   ]
  },
  {
   "cell_type": "markdown",
   "metadata": {},
   "source": [
    "_To confirm the range along each available axis_"
   ]
  },
  {
   "cell_type": "code",
   "execution_count": 26,
   "metadata": {},
   "outputs": [
    {
     "data": {
      "text/plain": [
       "(2, 4)"
      ]
     },
     "execution_count": 26,
     "metadata": {},
     "output_type": "execute_result"
    }
   ],
   "source": [
    "a.shape"
   ]
  },
  {
   "cell_type": "code",
   "execution_count": 27,
   "metadata": {},
   "outputs": [
    {
     "name": "stdout",
     "output_type": "stream",
     "text": [
      "[[0.06894839 0.49208776 0.48009791 0.18561696]\n",
      " [0.64414583 0.13510161 0.03128645 0.100704  ]]\n"
     ]
    }
   ],
   "source": [
    "print(a)"
   ]
  },
  {
   "cell_type": "markdown",
   "metadata": {},
   "source": [
    "Examples how the interval can be manipulated:\n",
    "* the starting point from which the half open interval [0.0,1.0) is taken can be changed by the number behind the brackets\n",
    "\n",
    "_In this case below the interval was altered to [100.0,101.0)_"
   ]
  },
  {
   "cell_type": "code",
   "execution_count": 28,
   "metadata": {},
   "outputs": [
    {
     "data": {
      "text/plain": [
       "array([[100.3807    , 100.05510156],\n",
       "       [100.27737627, 100.73035933]])"
      ]
     },
     "execution_count": 28,
     "metadata": {},
     "output_type": "execute_result"
    }
   ],
   "source": [
    "np.random.random_sample((2,2))+100"
   ]
  },
  {
   "cell_type": "markdown",
   "metadata": {},
   "source": [
    "_The starting point can be the negative integer also.\n",
    "In example below, the range was altered to [-100.0,-99.0)_"
   ]
  },
  {
   "cell_type": "code",
   "execution_count": 29,
   "metadata": {},
   "outputs": [
    {
     "data": {
      "text/plain": [
       "array([[-99.11760054, -99.35556792],\n",
       "       [-99.06882233, -99.43004095]])"
      ]
     },
     "execution_count": 29,
     "metadata": {},
     "output_type": "execute_result"
    }
   ],
   "source": [
    "np.random.random_sample((2,2))-100"
   ]
  },
  {
   "cell_type": "markdown",
   "metadata": {},
   "source": [
    "_the interval can be altered by multiplying the range and extending the interval [0.0,1.0) by the multiplyed value. \n",
    "Example below amend the range to [100.0,103.0)_"
   ]
  },
  {
   "cell_type": "code",
   "execution_count": 30,
   "metadata": {},
   "outputs": [
    {
     "data": {
      "text/plain": [
       "array([[101.39385117, 100.10326464],\n",
       "       [102.52487007, 102.86549641]])"
      ]
     },
     "execution_count": 30,
     "metadata": {},
     "output_type": "execute_result"
    }
   ],
   "source": [
    "3 * np.random.random_sample((2,2))+100"
   ]
  },
  {
   "cell_type": "markdown",
   "metadata": {},
   "source": [
    "### 1b, Permutations\n"
   ]
  },
  {
   "cell_type": "markdown",
   "metadata": {},
   "source": [
    "### _numpy.random.permutation_"
   ]
  },
  {
   "cell_type": "markdown",
   "metadata": {},
   "source": [
    "A permutation is ordered combination. Parameter x can be integer or array. If x is integer, the outcome will be permutation. If x is array, the copy is made and the elements are shuffled randomly "
   ]
  },
  {
   "cell_type": "markdown",
   "metadata": {},
   "source": [
    "_Random permutation of values from sequence 0 to 9_"
   ]
  },
  {
   "cell_type": "code",
   "execution_count": 31,
   "metadata": {},
   "outputs": [
    {
     "data": {
      "text/plain": [
       "array([4, 6, 1, 2, 5, 0, 7, 8, 9, 3])"
      ]
     },
     "execution_count": 31,
     "metadata": {},
     "output_type": "execute_result"
    }
   ],
   "source": [
    "np.random.permutation(10)"
   ]
  },
  {
   "cell_type": "markdown",
   "metadata": {},
   "source": [
    "_Sample of randomly selected items from the list provided, with no repetition._"
   ]
  },
  {
   "cell_type": "code",
   "execution_count": 32,
   "metadata": {},
   "outputs": [
    {
     "data": {
      "text/plain": [
       "array([ 1,  8, 15, 16, 12])"
      ]
     },
     "execution_count": 32,
     "metadata": {},
     "output_type": "execute_result"
    }
   ],
   "source": [
    "np.random.permutation([1, 8, 12, 16, 15])"
   ]
  },
  {
   "cell_type": "markdown",
   "metadata": {},
   "source": [
    "_Examples below prove, that in case of array, the first axes are shuffled randomly but their contents remains same._"
   ]
  },
  {
   "cell_type": "code",
   "execution_count": 33,
   "metadata": {},
   "outputs": [
    {
     "data": {
      "text/plain": [
       "array([[6, 7, 8],\n",
       "       [0, 1, 2],\n",
       "       [3, 4, 5]])"
      ]
     },
     "execution_count": 33,
     "metadata": {},
     "output_type": "execute_result"
    }
   ],
   "source": [
    "arr = np.arange(9).reshape((3, 3))\n",
    "np.random.permutation(arr)"
   ]
  },
  {
   "cell_type": "code",
   "execution_count": 34,
   "metadata": {},
   "outputs": [
    {
     "data": {
      "text/plain": [
       "array([[0, 1, 2],\n",
       "       [6, 7, 8],\n",
       "       [3, 4, 5]])"
      ]
     },
     "execution_count": 34,
     "metadata": {},
     "output_type": "execute_result"
    }
   ],
   "source": [
    "arr = np.arange(9).reshape((3, 3))\n",
    "np.random.permutation(arr)"
   ]
  },
  {
   "cell_type": "markdown",
   "metadata": {},
   "source": [
    "### _numpy.random.shuffle_"
   ]
  },
  {
   "cell_type": "markdown",
   "metadata": {},
   "source": [
    "Used for sequence modification by shuffling its contents. This function only shuffles the array along the first axis of a multi-dimensional array. The order of sub-arrays is changed but their contents remains the same."
   ]
  },
  {
   "cell_type": "markdown",
   "metadata": {},
   "source": [
    "_The list 0 to 10 (exclusive) modified by shuffling its contents_"
   ]
  },
  {
   "cell_type": "code",
   "execution_count": 35,
   "metadata": {},
   "outputs": [
    {
     "data": {
      "text/plain": [
       "array([9, 8, 6, 2, 1, 0, 4, 5, 3, 7])"
      ]
     },
     "execution_count": 35,
     "metadata": {},
     "output_type": "execute_result"
    }
   ],
   "source": [
    "arr = np.arange(10)\n",
    "np.random.shuffle(arr)\n",
    "arr"
   ]
  },
  {
   "cell_type": "markdown",
   "metadata": {},
   "source": [
    "_Multi-dimensional arrays are only shuffled along the first axis:_"
   ]
  },
  {
   "cell_type": "code",
   "execution_count": 36,
   "metadata": {},
   "outputs": [
    {
     "data": {
      "text/plain": [
       "array([[3, 4, 5],\n",
       "       [0, 1, 2],\n",
       "       [6, 7, 8]])"
      ]
     },
     "execution_count": 36,
     "metadata": {},
     "output_type": "execute_result"
    }
   ],
   "source": [
    "arr = np.arange(9).reshape((3, 3))\n",
    "np.random.shuffle(arr)\n",
    "arr"
   ]
  },
  {
   "cell_type": "markdown",
   "metadata": {},
   "source": [
    "_Note: Difference between permutation and shuffle_\n",
    "* _if passed an array, it will return a shuffled copy of the array; np.random.shuffle shuffles the array inplace_\n",
    "* _if passed an integer, it will return a shuffled range i.e. np.random.shuffle(np.arange(n))_\n",
    "\n",
    "_source:https://stackoverflow.com/questions/15474159/shuffle-vs-permute-numpy_\n",
    "\n"
   ]
  },
  {
   "cell_type": "markdown",
   "metadata": {},
   "source": [
    "## 2.DISTRIBUTIONS"
   ]
  },
  {
   "cell_type": "markdown",
   "metadata": {},
   "source": [
    "A distribution is a listing of the possible values of a variable (or intervals of values), and how often (or at what density) they occur.<br/>\n",
    "\n",
    "_Source: Statistics for Dummies, Deborah J.Rumsey, Phd_\n",
    "\n",
    "**Note: For definitions of different kind of distributions refer to Readme document.**"
   ]
  },
  {
   "cell_type": "markdown",
   "metadata": {},
   "source": [
    "### _Numpy.random.standard_normal_"
   ]
  },
  {
   "cell_type": "markdown",
   "metadata": {},
   "source": [
    "Output-samples from a standard normal distribution (mean=0, standard deviation=1)."
   ]
  },
  {
   "cell_type": "markdown",
   "metadata": {},
   "source": [
    "_The example below shows array of 100 randomply selected values which are drawn from a standard normal distribution with mean 0 and standard deviation 1.<br/>\n",
    "Plot below shows typical bell shaped graph of standard normal distribution_"
   ]
  },
  {
   "cell_type": "code",
   "execution_count": 37,
   "metadata": {},
   "outputs": [],
   "source": [
    " s = np.random.standard_normal(100)"
   ]
  },
  {
   "cell_type": "code",
   "execution_count": 38,
   "metadata": {},
   "outputs": [
    {
     "name": "stdout",
     "output_type": "stream",
     "text": [
      "[-0.06396501  0.75685997 -0.40051033  0.41206041  2.49030577 -0.2910091\n",
      " -0.01903342  0.30244412  1.3715165   1.18649195  0.63123852  0.76010301\n",
      "  1.69239735 -1.70812161 -0.39638689 -2.33342556  0.63180121  0.4788409\n",
      " -0.70302425 -1.59138361  0.9991506   0.76709584  0.00381444 -1.93248\n",
      "  0.35335213 -1.24293127  1.12611588  0.7676474   0.63206569  1.1496874\n",
      "  1.1720964  -0.8101846  -0.95990265  0.38687076  0.39966063 -0.47213989\n",
      " -0.81899884  1.16393979  0.22705637  2.34776032 -0.09939705  0.93721347\n",
      " -0.53110665  0.1619057  -1.20142273 -0.32188565 -0.46943263  1.79811575\n",
      "  0.16194554  0.45449731 -0.11823114  1.22636394  0.88894808  0.88451147\n",
      "  0.05018646  2.05062125 -0.07223108 -0.04927008  0.71616424 -0.31436425\n",
      "  0.91450108  0.11414312  0.28474513  0.63726347 -0.19179923 -0.15007952\n",
      " -0.2963982   0.30915081 -0.27584437 -0.03410263 -1.14552751 -0.19501044\n",
      "  1.20961047 -1.67610478  1.70726298 -0.38824677  0.87646667 -0.7412925\n",
      "  1.62375553 -0.29617414  0.14110695 -0.41235257  1.0886433  -0.0972736\n",
      "  0.17409346 -0.36718232  1.17199652  0.11308455  0.86281182  0.0915717\n",
      " -0.14743407 -0.00515721 -0.85888727 -1.4609831   0.36060869  1.88081645\n",
      "  0.84082425 -0.77223863 -1.22181213 -0.73599988]\n"
     ]
    }
   ],
   "source": [
    "print(s)"
   ]
  },
  {
   "cell_type": "code",
   "execution_count": 39,
   "metadata": {},
   "outputs": [
    {
     "data": {
      "text/plain": [
       "(array([ 2.,  4.,  5., 11., 25., 18., 17., 10.,  5.,  3.]),\n",
       " array([-2.33342556, -1.85105242, -1.36867929, -0.88630616, -0.40393303,\n",
       "         0.07844011,  0.56081324,  1.04318637,  1.5255595 ,  2.00793264,\n",
       "         2.49030577]),\n",
       " <a list of 10 Patch objects>)"
      ]
     },
     "execution_count": 39,
     "metadata": {},
     "output_type": "execute_result"
    },
    {
     "data": {
      "image/png": "[encoded data removed]",
      "text/plain": [
       "<Figure size 432x288 with 1 Axes>"
      ]
     },
     "metadata": {
      "needs_background": "light"
     },
     "output_type": "display_data"
    }
   ],
   "source": [
    "pl.hist(s)"
   ]
  },
  {
   "cell_type": "markdown",
   "metadata": {},
   "source": [
    "The distribution is pre-defined with the mean equaling to 0 and standard deviation of 1. This is contributing that 68% of data falls within 1 standard deviation of the mean, arond 95% within 2 standard deviations of mean and 99.7% of the data within 3 standard deviations of the mean."
   ]
  },
  {
   "cell_type": "markdown",
   "metadata": {},
   "source": [
    "Examples of normal distributions from real life:\n",
    "* height\n",
    "* IQ graph\n",
    "* shares prices in the stock market\n",
    "* income distribution in economy\n",
    "* shoe size\n",
    "* birth weight\n",
    "\n",
    "_Source:_\n",
    ">https://studiousguy.com/real-life-examples-normal-distribution/"
   ]
  },
  {
   "cell_type": "markdown",
   "metadata": {},
   "source": [
    "###  _Numpy.random.uniform_"
   ]
  },
  {
   "cell_type": "markdown",
   "metadata": {},
   "source": [
    "Returns samples from uniform distribution what means that any value within the given interval is equally likely to be selected."
   ]
  },
  {
   "cell_type": "markdown",
   "metadata": {},
   "source": [
    "Parameters in brackets indicate:\n",
    "> the interval \n",
    ">>- Low (included)<br/>\n",
    ">>- High (excluded)<br/>\n",
    "\n",
    "> size -Output shape"
   ]
  },
  {
   "cell_type": "markdown",
   "metadata": {},
   "source": [
    "\n",
    "_In example below parameters define the range from -1 (included) to 0 (excluded) and count of selected integers (10)._"
   ]
  },
  {
   "cell_type": "code",
   "execution_count": 40,
   "metadata": {},
   "outputs": [],
   "source": [
    "s = np.random.uniform(-1,0,10)"
   ]
  },
  {
   "cell_type": "code",
   "execution_count": 41,
   "metadata": {},
   "outputs": [
    {
     "name": "stdout",
     "output_type": "stream",
     "text": [
      "[-0.57253573 -0.96891939 -0.88616485 -0.0252409  -0.33447008 -0.45163043\n",
      " -0.8931526  -0.246619   -0.64130855 -0.79127056]\n"
     ]
    }
   ],
   "source": [
    "print(s)"
   ]
  },
  {
   "cell_type": "markdown",
   "metadata": {},
   "source": [
    "_In the case that the first parameter is not the lowest of the values, python can still identified the lowest parameter and run the code. No error will be displayed._    "
   ]
  },
  {
   "cell_type": "code",
   "execution_count": 42,
   "metadata": {},
   "outputs": [],
   "source": [
    "s = np.random.uniform(5,-6,10)"
   ]
  },
  {
   "cell_type": "code",
   "execution_count": 43,
   "metadata": {},
   "outputs": [
    {
     "name": "stdout",
     "output_type": "stream",
     "text": [
      "[-2.34452965  4.52285176 -3.6434653   0.99176767 -4.87647948  1.59648105\n",
      "  4.5662254  -3.132144   -1.39886518 -1.50117179]\n"
     ]
    }
   ],
   "source": [
    "print(s)"
   ]
  },
  {
   "cell_type": "markdown",
   "metadata": {},
   "source": [
    "_If no parameter for size is provided, by default only one float number is selected_"
   ]
  },
  {
   "cell_type": "code",
   "execution_count": 44,
   "metadata": {},
   "outputs": [],
   "source": [
    "s = np.random.uniform(2,4)"
   ]
  },
  {
   "cell_type": "code",
   "execution_count": 45,
   "metadata": {},
   "outputs": [
    {
     "name": "stdout",
     "output_type": "stream",
     "text": [
      "2.6113423601627215\n"
     ]
    }
   ],
   "source": [
    "print(s)"
   ]
  },
  {
   "cell_type": "markdown",
   "metadata": {},
   "source": [
    "_Plot displayed below proves that the values are distributed equaly._"
   ]
  },
  {
   "cell_type": "code",
   "execution_count": 46,
   "metadata": {},
   "outputs": [],
   "source": [
    "s = np.random.uniform(5,10,1000)"
   ]
  },
  {
   "cell_type": "code",
   "execution_count": 47,
   "metadata": {},
   "outputs": [
    {
     "data": {
      "text/plain": [
       "(array([ 91., 112., 108., 110., 102.,  88., 102.,  93.,  96.,  98.]),\n",
       " array([5.01108038, 5.50922766, 6.00737494, 6.50552223, 7.00366951,\n",
       "        7.50181679, 7.99996407, 8.49811135, 8.99625863, 9.49440592,\n",
       "        9.9925532 ]),\n",
       " <a list of 10 Patch objects>)"
      ]
     },
     "execution_count": 47,
     "metadata": {},
     "output_type": "execute_result"
    },
    {
     "data": {
      "image/png": "[encoded data removed]",
      "text/plain": [
       "<Figure size 432x288 with 1 Axes>"
      ]
     },
     "metadata": {
      "needs_background": "light"
     },
     "output_type": "display_data"
    }
   ],
   "source": [
    "pl.hist(s)"
   ]
  },
  {
   "cell_type": "markdown",
   "metadata": {},
   "source": [
    "The most common real life examples of uniform distribution are when we do not have any information that could favour one observation over another.\n",
    "* The day of the week of the hottest day of a year (can be equally any of the seven days)\n",
    "* The last digit of the social security number of USa citizen (can be equally any digit from 0 to 9)\n",
    "* The bus is scheduled to come once per hour. If you come to the bus stop and you do not know when the last bus left, the arrival time of the next bus is a continuous uniform distribution\n",
    "\n",
    "_Source:_\n",
    ">https://www.quora.com/What-are-the-real-life-examples-of-uniform-distribution <br/>\n",
    ">https://math.stackexchange.com/questions/1412305/real-world-examples-of-continuous-uniform-distribution-on-0-1"
   ]
  },
  {
   "cell_type": "markdown",
   "metadata": {},
   "source": [
    "### Pareto distribution"
   ]
  },
  {
   "cell_type": "markdown",
   "metadata": {},
   "source": [
    "The output are the samples from Pareto II or Lomax distribution with specified shape. Lomax can also be considered as a simplified version of the Generalized Pareto distribution, with the scale set to one and the location set to zero."
   ]
  },
  {
   "cell_type": "markdown",
   "metadata": {},
   "source": [
    "The Pareto distribution is also known as the “80-20 rule”. In this distribution, 80 percent of the weights are in the lowest 20 percent of the range, while the other 20 percent fill the remaining 80 percent of the range."
   ]
  },
  {
   "cell_type": "markdown",
   "metadata": {},
   "source": [
    "First parameter defined the shape of distribution. Needs to be higher than 0.Second parameter is for output shape."
   ]
  },
  {
   "cell_type": "code",
   "execution_count": 48,
   "metadata": {},
   "outputs": [],
   "source": [
    "a, m = 1000., 1.\n",
    "s = (np.random.pareto(a, 1000) + 10) * m"
   ]
  },
  {
   "cell_type": "code",
   "execution_count": 49,
   "metadata": {},
   "outputs": [
    {
     "data": {
      "text/plain": [
       "(array([454., 265., 122.,  87.,  36.,  16.,  12.,   4.,   1.,   3.]),\n",
       " array([10.00000042, 10.00066155, 10.00132268, 10.00198381, 10.00264494,\n",
       "        10.00330607, 10.0039672 , 10.00462833, 10.00528946, 10.00595059,\n",
       "        10.00661172]),\n",
       " <a list of 10 Patch objects>)"
      ]
     },
     "execution_count": 49,
     "metadata": {},
     "output_type": "execute_result"
    },
    {
     "data": {
      "image/png": "[encoded data removed]",
      "text/plain": [
       "<Figure size 432x288 with 1 Axes>"
      ]
     },
     "metadata": {
      "needs_background": "light"
     },
     "output_type": "display_data"
    }
   ],
   "source": [
    "pl.hist(s)"
   ]
  },
  {
   "cell_type": "markdown",
   "metadata": {},
   "source": [
    "Real life examples of Pareto principle:\n",
    "* A 2002 report from Microsoft found that “80 percent of the errors and crashes in Windows and Office are caused by 20 percent of the entire pool of bugs detected.”\n",
    "* 20% of the world's population controls 82.7% of the world's income\n",
    "* 20% of patients use 80% of healthcare resources\n",
    "\n",
    "_Source:_\n",
    ">https://www.linkedin.com/pulse/3-real-world-examples-pareto-principle-gregory-warner\n"
   ]
  },
  {
   "cell_type": "markdown",
   "metadata": {},
   "source": [
    "### numpy.random.binomial"
   ]
  },
  {
   "cell_type": "markdown",
   "metadata": {},
   "source": [
    "Samples are drawn from a binomial distribution with specified parameters, n trials and p probability of success where n an integer >= 0 and p is in the interval [0,1]. (n may be input as a float, but it is truncated to an integer in use). In other words, the binomial distribution can be thought as simply the probability of a SUCCESS or FAILURE outcome in an experiment or survey that is repeated multiple times."
   ]
  },
  {
   "cell_type": "markdown",
   "metadata": {},
   "source": [
    "_Below are result of flipping a coin 10 times, tested 100 times.The probablity is 0.5 as 50% chance that each side of coin fall._"
   ]
  },
  {
   "cell_type": "code",
   "execution_count": 50,
   "metadata": {},
   "outputs": [],
   "source": [
    "n, p = 10, .5  \n",
    "s = np.random.binomial(n, p, 100)"
   ]
  },
  {
   "cell_type": "code",
   "execution_count": 51,
   "metadata": {},
   "outputs": [
    {
     "name": "stdout",
     "output_type": "stream",
     "text": [
      "[4 4 5 7 4 2 5 6 5 5 2 8 4 5 9 6 6 4 4 5 2 5 7 4 5 6 5 7 6 7 4 5 5 3 6 3 5\n",
      " 4 6 4 8 6 7 7 4 6 4 6 6 3 3 4 7 6 5 5 2 5 1 7 6 5 2 6 6 2 4 7 7 5 7 4 5 6\n",
      " 5 5 4 5 6 6 3 7 3 3 5 5 5 3 8 5 5 7 2 6 6 4 5 3 3 3]\n"
     ]
    }
   ],
   "source": [
    "print(s)"
   ]
  },
  {
   "cell_type": "markdown",
   "metadata": {},
   "source": [
    "The first result can be interpreted, that out of 10 times flipping a coin, 5 times the same side of coin was revealed. This was simulated for another 9x10 flips of the coin."
   ]
  },
  {
   "cell_type": "markdown",
   "metadata": {},
   "source": [
    "Real life example of binomial distribution.\n",
    "* New drug is introduced to cure the disease, the outcome is succes (it cures the disease) or failure\n",
    "* By purchasing the lottery tickets, the output is either win or loss\n",
    "\n",
    "_Source:_\n",
    ">https://www.statisticshowto.datasciencecentral.com/probability-and-statistics/binomial-theorem/binomial-distribution-formula/"
   ]
  },
  {
   "cell_type": "markdown",
   "metadata": {},
   "source": [
    "### Poisson distribution"
   ]
  },
  {
   "cell_type": "markdown",
   "metadata": {},
   "source": [
    "The Poisson distribution is the limit of the binomial distribution for large N and probability of success in any trial is small.\n",
    "\n",
    ">Parameters:\n",
    "* lam - total number of events divided by number of units in the data\n",
    "* size - output shape\n"
   ]
  },
  {
   "cell_type": "markdown",
   "metadata": {},
   "source": [
    "_Sample of 1000 values for lambda 5 with the plot below._"
   ]
  },
  {
   "cell_type": "code",
   "execution_count": 52,
   "metadata": {},
   "outputs": [],
   "source": [
    "s = np.random.poisson(5,1000)"
   ]
  },
  {
   "cell_type": "code",
   "execution_count": 53,
   "metadata": {},
   "outputs": [
    {
     "name": "stdout",
     "output_type": "stream",
     "text": [
      "[11  5  3  6  5  4  5  3  4  2  7  2  7  9  4  5  5  0  4  2  7  3  5  7\n",
      "  5  4  8  8  3  5  6  4  7 11  7  3  7  4  3  7  8  5 11  3  5  3 15  3\n",
      "  3  3  3  5  6  7  5  7  4  9  7  4  2  5  3  5  2  5  6  7  4  5  6  5\n",
      "  4  5  7  4  4  4  2  6  3  3  3  3  4  2  7  4  9  8  3  6  4  7  3  7\n",
      "  3 11  3  3  6  4  4  4  5  6  5  6  7  1  8  4  2 12  4  3  5  4 10  7\n",
      "  8  1  5  5  4  3  9  9  4  6  6  5  5  2  2  1  4  4  5  7  6 10  7  7\n",
      "  2  7 10  2  6  4  6  5  2  8  8  7  4  1  4  6  1  4  6  3  5  6  5  7\n",
      "  4  3  6  4  5  6  4  1  3  4  7  2  7  2  4  5  5  2  3  9 11  8  7  1\n",
      "  4  7  3  3  5  6  2  6  1  3  7  4  4  7  8  4  8  5  7  3  6  5  2  5\n",
      "  4  5  5  7 11  8  3  9  7  2  4  2  6  3  2  6  8  8  4  5  7  8  8  6\n",
      "  4  3  9  5  4  4  4  4  8  5  4  6  4  8  5  8  8  2  4  6  4  7  6  5\n",
      "  3  9  8  4  4  5  7  4  5  6  5  7  3  6  1  4  5  3  6  3  6  1  6  7\n",
      "  8  9  1  4  5  4  4  7  5  4  3  6  2  2  5  4  3  6  4  3  5  8  2  4\n",
      "  2  6  7  4  2 10  5  7  6  6  1  5  6  2  5  6  5  8  3  5  3  3  5  5\n",
      "  7  7  7  4  8  3  4  5  3  3  1  2  8 10  9  8  5  6  3  4  3  7  2  3\n",
      " 10  2  7  3  4  7  3  6  5  5  8  5  9  7  6  2  6  5  2  6  8  8  5  8\n",
      "  7  5  6  9  5  3  3  3  5  3  3  3  5  4  6  3  5  4  3  7  5  4  6  3\n",
      "  5  9  6  7  7  1  7  5  1  7  7  2  6  4  5  5  7  5  4  3  1  3 11  4\n",
      " 10  9  4  3  2  7  6  3  4 10  3  6  7  6  7  5  6  3  3  6  5  8  6  4\n",
      "  5  3  5  2  2  7  8  5  4  4 11  8  7  2  7  4  7  7  6  3  5  3  4  6\n",
      "  6  4  5  5  1  6  4  5  3  9  6  4  6  3  6  2  6  3  2  6  3  4  3  8\n",
      "  4  4  5  6  6  8  7  5  9 11  3 10  2  5  2  8  5  6  3  3  7  3  7  3\n",
      "  2  9  8  2  8  3  6  3  3  7  4  4  2  3  5  6  7  6  6  2  9  3  1  2\n",
      "  4  8  5  5  8  4  7  5  5  3  5  8  4  6  2  6  6  7  3  3  6 10  4  7\n",
      "  5  2  5 10  1  5  9  4  2  7  6  7  5  1  6  5  4  3  4 10  7  3  4  8\n",
      "  3  7  7  2  3  4  4  5  2  2  5  5  8  5  1  9  4  8  7  2  1  6  4  2\n",
      "  5  5  5  9  2  6  7  3  5  3  3  6  7  7  3  7  4  4  5  5  6  9  4  7\n",
      "  5  8  2  7  5  3  6  9  4  5  2  5  5  6  6  3  6  5  9  3  9  6  3  7\n",
      "  6 10  6  3  9  5  5  3  8  6  1  2  9  7  6  6  3  9  4  6  7  4  3  5\n",
      " 12  9  4  8  9  5  4  6  7  6  6  6  3  4  2  9  8 11  4  3  6  6  2  4\n",
      "  2  7  8  7  3  5  6  4  3  6  7  3  5  4  9  6  5  6  5  4  7  3  6  0\n",
      "  5  4  2  8  4  2  3  6  4  7  3  3  5  6  5  9  5  1  4  3  2  5  3  6\n",
      "  3  5  6  7  6  8  3  3  7  9  8  3  3  3  7  4  4  6  4  6  3  9  5  4\n",
      "  9  1  5  8  2  9  6  8  2  8  3  4  4  3  4 10  6 12  6 10  1  4  4  5\n",
      "  5 10  7  4  4  8  5  3  1  3  5  7  5  2 10  1  3  2  4  6  6  4  3  4\n",
      "  2  6  4  5 10 10  4  3  2  1  9  7  6  7  5  7  6  5  6  3  5  6  2  4\n",
      "  3  4  8  5  6  5  6  6  6  6  6  3  8  5  4  5  9  4  5  5  6  7 10  6\n",
      "  6  4  2  2  9  1  6  5  5  4  6  5  5  7 10  5  2  9  5  9  7  9  4  5\n",
      "  3  4  6  6  3  9  5  4  8  7  7  2  4  6  6  4  8  5  6  3  2  1  1  5\n",
      "  4  4  8  4  5  3  6  3  9  2  9  4  2  4  5  3  5  7  5  4  4  9  3  5\n",
      "  4  2  5  6  3  5  2  3  2  6  6  1  5  6  5  6  4  7  4  5  2  6  4  1\n",
      "  4  7  4  4  7  4  5  4  6  8  4  3  9 11  2  3]\n"
     ]
    }
   ],
   "source": [
    "print(s)"
   ]
  },
  {
   "cell_type": "code",
   "execution_count": 54,
   "metadata": {},
   "outputs": [
    {
     "data": {
      "text/plain": [
       "(array([ 36.,  84., 308., 168., 256.,  63.,  70.,  11.,   3.,   1.]),\n",
       " array([ 0. ,  1.5,  3. ,  4.5,  6. ,  7.5,  9. , 10.5, 12. , 13.5, 15. ]),\n",
       " <a list of 10 Patch objects>)"
      ]
     },
     "execution_count": 54,
     "metadata": {},
     "output_type": "execute_result"
    },
    {
     "data": {
      "image/png": "[encoded data removed]",
      "text/plain": [
       "<Figure size 432x288 with 1 Axes>"
      ]
     },
     "metadata": {
      "needs_background": "light"
     },
     "output_type": "display_data"
    }
   ],
   "source": [
    "pl.hist(s)"
   ]
  },
  {
   "cell_type": "markdown",
   "metadata": {},
   "source": [
    "Real life examples of Poisson distribution:\n",
    "* The number of aircraft/road accidents in any time interval.\n",
    "* The number of persons suffering from any rare disease in a large population.\n",
    "* The number of suicides reported in a large population.\n",
    "* The number of clicks on any website.\n",
    "\n",
    "_Source:_\n",
    ">https://www.quora.com/What-is-the-real-life-example-of-Poisson-distribution"
   ]
  },
  {
   "cell_type": "markdown",
   "metadata": {},
   "source": [
    "## 3.RANDOM GENERATOR - SEED"
   ]
  },
  {
   "cell_type": "markdown",
   "metadata": {},
   "source": [
    "The Pseudo-Random Number Generators technique was used in all of the sections above. The computer use algorithm to generate random values, which appear to be random but in fact they are patterns in the long run. Very often the same selection of the values needs to be generated. For that pupose seed is used.\n",
    "\n"
   ]
  },
  {
   "cell_type": "markdown",
   "metadata": {},
   "source": [
    "The seed during random number generation is the starting point in the sequence. This can be any number, but it usually comes from seconds on a computer system's clock. A computer counts seconds from January 1, 1970 — a system called Unix time. So for example the Unix epoch time of 1573371715 is for the Sun, 10 November 2019 07:41:55 GMT. Based on this example there is large range for seeds."
   ]
  },
  {
   "cell_type": "markdown",
   "metadata": {},
   "source": [
    "_Source_\n",
    ">https://www.statisticshowto.datasciencecentral.com/random-seed-definition/_"
   ]
  },
  {
   "cell_type": "markdown",
   "metadata": {},
   "source": [
    "I am going to use the __\"np.random.rand\"__ to demonstrate the usage of seed."
   ]
  },
  {
   "cell_type": "markdown",
   "metadata": {},
   "source": [
    "_Two examples below without the use of seed...the output is diferrent range of values_"
   ]
  },
  {
   "cell_type": "code",
   "execution_count": 55,
   "metadata": {},
   "outputs": [
    {
     "data": {
      "text/plain": [
       "array([[0.8276902 , 0.18194209, 0.68387762],\n",
       "       [0.83527622, 0.18020129, 0.2687679 ]])"
      ]
     },
     "execution_count": 55,
     "metadata": {},
     "output_type": "execute_result"
    }
   ],
   "source": [
    "np.random.rand(2,3)"
   ]
  },
  {
   "cell_type": "code",
   "execution_count": 56,
   "metadata": {},
   "outputs": [
    {
     "data": {
      "text/plain": [
       "array([[0.80166128, 0.17239951, 0.37153703],\n",
       "       [0.6426362 , 0.69075029, 0.15615431]])"
      ]
     },
     "execution_count": 56,
     "metadata": {},
     "output_type": "execute_result"
    }
   ],
   "source": [
    "np.random.rand(2,3)"
   ]
  },
  {
   "cell_type": "markdown",
   "metadata": {},
   "source": [
    "_Two examples below with the use of seed...the output are the same values selected_"
   ]
  },
  {
   "cell_type": "code",
   "execution_count": 57,
   "metadata": {},
   "outputs": [
    {
     "data": {
      "text/plain": [
       "array([[0.5488135 , 0.71518937, 0.60276338],\n",
       "       [0.54488318, 0.4236548 , 0.64589411]])"
      ]
     },
     "execution_count": 57,
     "metadata": {},
     "output_type": "execute_result"
    }
   ],
   "source": [
    "np.random.seed(0)\n",
    "np.random.rand(2,3)"
   ]
  },
  {
   "cell_type": "code",
   "execution_count": 58,
   "metadata": {},
   "outputs": [
    {
     "data": {
      "text/plain": [
       "array([[0.5488135 , 0.71518937, 0.60276338],\n",
       "       [0.54488318, 0.4236548 , 0.64589411]])"
      ]
     },
     "execution_count": 58,
     "metadata": {},
     "output_type": "execute_result"
    }
   ],
   "source": [
    "np.random.seed(0)\n",
    "np.random.rand(2,3)"
   ]
  },
  {
   "cell_type": "markdown",
   "metadata": {},
   "source": [
    "_Different seed used is giving the different output_"
   ]
  },
  {
   "cell_type": "code",
   "execution_count": 59,
   "metadata": {},
   "outputs": [
    {
     "data": {
      "text/plain": [
       "array([[0.77132064, 0.02075195, 0.63364823],\n",
       "       [0.74880388, 0.49850701, 0.22479665]])"
      ]
     },
     "execution_count": 59,
     "metadata": {},
     "output_type": "execute_result"
    }
   ],
   "source": [
    "np.random.seed(10)\n",
    "np.random.rand(2,3)"
   ]
  }
 ],
 "metadata": {
  "kernelspec": {
   "display_name": "Python 3",
   "language": "python",
   "name": "python3"
  },
  "language_info": {
   "codemirror_mode": {
    "name": "ipython",
    "version": 3
   },
   "file_extension": ".py",
   "mimetype": "text/x-python",
   "name": "python",
   "nbconvert_exporter": "python",
   "pygments_lexer": "ipython3",
   "version": "3.7.3"
  }
 },
 "nbformat": 4,
 "nbformat_minor": 2
}
