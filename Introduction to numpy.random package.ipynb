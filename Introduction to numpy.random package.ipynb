{
 "cells": [
  {
   "cell_type": "markdown",
   "metadata": {},
   "source": [
    "# NUMPY.RANDOM PACKAGE\n",
    "\n",
    "## Overal purpose of package\n",
    "\n",
    "The random module in Numpy package contains many functions used for generation of random numbers. In order to understand the main purpose of the package, the definition of random number needs to be introduced.\n",
    "\n",
    "Random numbers are numbers that occur in a such sequence that two conditions are met:\n",
    "\n",
    "* the values are uniformly distributed over a defined interval or set.\n",
    "* it is impossible to predict future values based on past or present ones.\n",
    "\n",
    "Random numbers are important in statistical analysis and probability theory (for example for generating data encryption keys, simulating and modeling complex phenomena and for selecting random samples from larger data sets).\n",
    "\n",
    "Computers use two main approaches how to generate the random numbers\n",
    "\n",
    "* Pseudo-Random Number Generators (PRNGs) \n",
    "* True Random Number Generators (TRNGs)\n"
   ]
  },
  {
   "cell_type": "markdown",
   "metadata": {},
   "source": [
    "### _Pseudo-Random Number Generators (PRNGs)_\n",
    "\n",
    "PRNGs are algorithms that use mathematical formulae or simply precalculated tables to produce sequences of numbers that appear random. The main features :\n",
    "\n",
    "    * efficiency (can produce many numbers in short time)\n",
    "    * deterministic (a given sequence of numbers can be reproduced at a later date if the starting point in the sequence is known)\n",
    "    * periodic (the sequence will eventually repeat)\n",
    "    \n",
    "These characteristics make PRNGs suitable for applications where many numbers are required and where it is useful that the same sequence can be replayed easily. Popular examples of such applications are simulation and modeling applications.\n",
    "\n",
    "Numpy’s random number routines produce pseudo random numbers using combinations of a BitGenerator to create sequences and a Generator to use those sequences to sample from different statistical distributions:\n",
    "\n",
    "    * BitGenerators: Objects that generate random numbers. These are typically unsigned integer words filled with sequences of either 32 or 64 random bits.\n",
    "    * Generators: Objects that transform sequences of random bits from a BitGenerator into sequences of numbers that follow a specific probability distribution (such as uniform, Normal or Binomial) within a specified interval.\n",
    "\n",
    "Python uses robust pseudorandom number generator called the Mersenne Twister.\n"
   ]
  },
  {
   "cell_type": "markdown",
   "metadata": {},
   "source": [
    "### _True Random Number Generators (TRNGs)_\n",
    "\n",
    "TRNGs extract randomness from physical phenomena and introduce it into a computer. The examples of physical phenoma can be the vatiations in mouse movements, athmospheric noise, radioactive source...\n",
    "The characteristics of TRNGs:\n",
    "\n",
    "    * TRNGs are generally rather inefficient compared to PRNGs, taking considerably longer time to produce numbers.\n",
    "    * non-deterministic, meaning that a given sequence of numbers cannot be reproduced, although the same sequence may of course occur several times by chance. \n",
    "    * non-periodic\n",
    "    "
   ]
  },
  {
   "cell_type": "markdown",
   "metadata": {},
   "source": [
    "_source:_\n",
    "* https://machinelearningmastery.com/how-to-generate-random-numbers-in-python/_\n",
    "* https://www.random.org/randomness/ \n",
    "* https://analyticstraining.com/random-numbers-applications/"
   ]
  },
  {
   "cell_type": "markdown",
   "metadata": {},
   "source": [
    "## 1. “SIMPLE RANDOM DATA” AND “PERMUTATIONS” METHODS\n",
    "\n",
    "###  __1a. Simple random data__\n",
    "\n",
    "Simple random data can be generated from Numpy by runing one of the functions below. They are all pseudo-random number generated.\n",
    "\n",
    "Types of random variable:\n",
    "> _Discrete random variables_ -take on only a countable number of distinct values,can be quantified <br />\n",
    "> _Continues random variable_ -the functions that take on continuous values\n",
    "\n",
    "\n",
    "### _numpy.random.rand_\n",
    "\n",
    "  * output are the random values in a given shape, from the uniform distribution from interval\n",
    " [0,1) -_zero inclusive, 1 exclusive_\n",
    "  \n"
   ]
  },
  {
   "cell_type": "markdown",
   "metadata": {},
   "source": [
    "_The below commands import librarias numpy, seaborn and matplotlib_"
   ]
  },
  {
   "cell_type": "code",
   "execution_count": 3,
   "metadata": {},
   "outputs": [],
   "source": [
    "import numpy as np\n",
    "import seaborn as sns\n",
    "import matplotlib.pyplot as pl"
   ]
  },
  {
   "cell_type": "markdown",
   "metadata": {},
   "source": [
    "Shape of array is defined by numbers in brackets:\n",
    "* the first position determines number of dimensions \n",
    "* second number defines number of samples in one array."
   ]
  },
  {
   "cell_type": "markdown",
   "metadata": {},
   "source": [
    "_By default, if no parameters are defined for the shape of array, the outcome is single integer from range zero inclusive to 1 exclusive_"
   ]
  },
  {
   "cell_type": "code",
   "execution_count": 4,
   "metadata": {},
   "outputs": [
    {
     "data": {
      "text/plain": [
       "0.6118595702108884"
      ]
     },
     "execution_count": 4,
     "metadata": {},
     "output_type": "execute_result"
    }
   ],
   "source": [
    "np.random.rand()"
   ]
  },
  {
   "cell_type": "markdown",
   "metadata": {},
   "source": [
    "_One number in bracket defines the size of one array dimension_"
   ]
  },
  {
   "cell_type": "code",
   "execution_count": 5,
   "metadata": {},
   "outputs": [
    {
     "data": {
      "text/plain": [
       "array([0.1890735 , 0.87409578, 0.53779951, 0.39907263, 0.06598846])"
      ]
     },
     "execution_count": 5,
     "metadata": {},
     "output_type": "execute_result"
    }
   ],
   "source": [
    "np.random.rand(5)"
   ]
  },
  {
   "cell_type": "markdown",
   "metadata": {},
   "source": [
    "_Demonstration of specification of 3-dimensional array with 5 random numbers in each array_"
   ]
  },
  {
   "cell_type": "code",
   "execution_count": 6,
   "metadata": {},
   "outputs": [
    {
     "data": {
      "text/plain": [
       "array([[0.0631017 , 0.19418035, 0.84503759, 0.88801752, 0.06430826],\n",
       "       [0.7698281 , 0.4734576 , 0.7960348 , 0.43621445, 0.42811367],\n",
       "       [0.4034121 , 0.18174705, 0.61403269, 0.67410365, 0.08691417]])"
      ]
     },
     "execution_count": 6,
     "metadata": {},
     "output_type": "execute_result"
    }
   ],
   "source": [
    "np.random.rand(3,5)"
   ]
  },
  {
   "cell_type": "markdown",
   "metadata": {},
   "source": [
    "_Histogram demonstrates the uniform distribution - numbers are evenly distributed in the interval. Refer below to section 2 \"Distributions\" for further details_"
   ]
  },
  {
   "cell_type": "code",
   "execution_count": 39,
   "metadata": {},
   "outputs": [
    {
     "data": {
      "text/plain": [
       "([array([1., 0., 0., 0., 0., 0., 0., 0., 0., 1.]),\n",
       "  array([0., 0., 0., 1., 0., 0., 0., 1., 0., 0.])],\n",
       " array([0.04798514, 0.10296206, 0.15793899, 0.21291591, 0.26789283,\n",
       "        0.32286976, 0.37784668, 0.43282361, 0.48780053, 0.54277746,\n",
       "        0.59775438]),\n",
       " <a list of 2 Lists of Patches objects>)"
      ]
     },
     "execution_count": 39,
     "metadata": {},
     "output_type": "execute_result"
    },
    {
     "data": {
      "image/png": "[encoded data removed]",
      "text/plain": [
       "<Figure size 432x288 with 1 Axes>"
      ]
     },
     "metadata": {
      "needs_background": "light"
     },
     "output_type": "display_data"
    }
   ],
   "source": [
    "pl.hist(np.random.rand(2,2))"
   ]
  },
  {
   "cell_type": "markdown",
   "metadata": {},
   "source": [
    "_As expected, the negative dimensions are not allowed_"
   ]
  },
  {
   "cell_type": "code",
   "execution_count": 8,
   "metadata": {},
   "outputs": [
    {
     "ename": "ValueError",
     "evalue": "negative dimensions are not allowed",
     "output_type": "error",
     "traceback": [
      "\u001b[1;31m---------------------------------------------------------------------------\u001b[0m",
      "\u001b[1;31mValueError\u001b[0m                                Traceback (most recent call last)",
      "\u001b[1;32m<ipython-input-8-3b78b5e0b307>\u001b[0m in \u001b[0;36m<module>\u001b[1;34m\u001b[0m\n\u001b[1;32m----> 1\u001b[1;33m \u001b[0mnp\u001b[0m\u001b[1;33m.\u001b[0m\u001b[0mrandom\u001b[0m\u001b[1;33m.\u001b[0m\u001b[0mrand\u001b[0m\u001b[1;33m(\u001b[0m\u001b[1;33m-\u001b[0m\u001b[1;36m2\u001b[0m\u001b[1;33m,\u001b[0m\u001b[1;33m-\u001b[0m\u001b[1;36m3\u001b[0m\u001b[1;33m)\u001b[0m\u001b[1;33m\u001b[0m\u001b[1;33m\u001b[0m\u001b[0m\n\u001b[0m",
      "\u001b[1;32mmtrand.pyx\u001b[0m in \u001b[0;36mmtrand.RandomState.rand\u001b[1;34m()\u001b[0m\n",
      "\u001b[1;32mmtrand.pyx\u001b[0m in \u001b[0;36mmtrand.RandomState.random_sample\u001b[1;34m()\u001b[0m\n",
      "\u001b[1;32mmtrand.pyx\u001b[0m in \u001b[0;36mmtrand.cont0_array\u001b[1;34m()\u001b[0m\n",
      "\u001b[1;31mValueError\u001b[0m: negative dimensions are not allowed"
     ]
    }
   ],
   "source": [
    "np.random.rand(-2,-3)"
   ]
  },
  {
   "cell_type": "markdown",
   "metadata": {},
   "source": [
    "### _numpy.random.randn_\n",
    "\n",
    "\n",
    "  * Return a sample (or samples) from the “standard normal” distribution.\n",
    "  * Generates an array of shape (d0, d1, ..., dn), filled with random floats sampled from a univariate “normal” (Gaussian) distribution of mean 0 and variance 1 "
   ]
  },
  {
   "cell_type": "markdown",
   "metadata": {},
   "source": [
    "_if no parameters used in brackets, the output is single float number_"
   ]
  },
  {
   "cell_type": "code",
   "execution_count": 9,
   "metadata": {},
   "outputs": [
    {
     "data": {
      "text/plain": [
       "0.7057432898604911"
      ]
     },
     "execution_count": 9,
     "metadata": {},
     "output_type": "execute_result"
    }
   ],
   "source": [
    "np.random.randn()"
   ]
  },
  {
   "cell_type": "markdown",
   "metadata": {},
   "source": [
    "_the paramenters in brackets defined the shape of array_\n",
    "* the first position determines number of dimensions\n",
    "* second number defines number of samples in one array."
   ]
  },
  {
   "cell_type": "markdown",
   "metadata": {},
   "source": [
    "_Two dimension arrays can be defined by the numbers in bvrackets._\n",
    "> First example-2 axes array with 5 samples<br/>\n",
    "> Second example- 2 axes array with 2 samples\n"
   ]
  },
  {
   "cell_type": "code",
   "execution_count": 30,
   "metadata": {},
   "outputs": [
    {
     "data": {
      "text/plain": [
       "array([[-0.35240688,  1.03124542, -2.19759483,  0.56905544, -0.01452374],\n",
       "       [ 1.32369457,  0.693802  ,  0.37785057, -0.15596499, -0.30550454]])"
      ]
     },
     "execution_count": 30,
     "metadata": {},
     "output_type": "execute_result"
    }
   ],
   "source": [
    "np.random.randn(2,5)"
   ]
  },
  {
   "cell_type": "code",
   "execution_count": 31,
   "metadata": {},
   "outputs": [
    {
     "data": {
      "text/plain": [
       "array([[0.66129623, 0.87199964],\n",
       "       [0.21774104, 0.42189879]])"
      ]
     },
     "execution_count": 31,
     "metadata": {},
     "output_type": "execute_result"
    }
   ],
   "source": [
    "np.random.randn(2,2)"
   ]
  },
  {
   "cell_type": "markdown",
   "metadata": {},
   "source": [
    "_To defined the mean as different value as by default value zero..._\n",
    "> Fisrt example- positive 5 as a mean<br/>\n",
    "> Second example-negative 5 as a mean<br/>\n",
    "> Plot demonstrate that the mean is -5<br/>\n",
    "> Second plot demonstrate the mean without defining any value for it, by default 0 is used\n"
   ]
  },
  {
   "cell_type": "code",
   "execution_count": 35,
   "metadata": {},
   "outputs": [
    {
     "data": {
      "text/plain": [
       "array([[5.26715595, 6.328082  ],\n",
       "       [5.12389492, 4.75071243]])"
      ]
     },
     "execution_count": 35,
     "metadata": {},
     "output_type": "execute_result"
    }
   ],
   "source": [
    "np.random.randn(2,2)+5\n"
   ]
  },
  {
   "cell_type": "code",
   "execution_count": 36,
   "metadata": {},
   "outputs": [
    {
     "data": {
      "text/plain": [
       "array([[-5.55807002, -7.74414451],\n",
       "       [-5.69195014, -4.54695894]])"
      ]
     },
     "execution_count": 36,
     "metadata": {},
     "output_type": "execute_result"
    }
   ],
   "source": [
    "np.random.randn(2,2)-5"
   ]
  },
  {
   "cell_type": "code",
   "execution_count": 37,
   "metadata": {},
   "outputs": [
    {
     "data": {
      "text/plain": [
       "([array([ 1.,  3.,  6., 22., 18., 22., 17.,  9.,  2.,  0.]),\n",
       "  array([ 1.,  4.,  6., 20., 26., 25., 12.,  4.,  2.,  0.]),\n",
       "  array([ 0.,  6.,  7., 12., 31., 20., 17.,  4.,  3.,  0.]),\n",
       "  array([ 0.,  3.,  9., 21., 21., 21., 19.,  5.,  1.,  0.]),\n",
       "  array([ 2.,  5., 13., 14., 16., 20., 16., 11.,  2.,  1.]),\n",
       "  array([ 1.,  2., 11., 27., 14., 21., 11.,  8.,  4.,  1.]),\n",
       "  array([ 1.,  4.,  8., 21., 19., 21., 19.,  5.,  1.,  1.]),\n",
       "  array([ 3.,  2.,  5., 18., 23., 27., 11.,  9.,  2.,  0.]),\n",
       "  array([ 0.,  4.,  4., 21., 20., 23., 16.,  9.,  3.,  0.]),\n",
       "  array([ 2.,  2.,  5., 18., 19., 31., 17.,  4.,  2.,  0.])],\n",
       " array([-8.00618779, -7.38494493, -6.76370208, -6.14245922, -5.52121637,\n",
       "        -4.89997351, -4.27873065, -3.6574878 , -3.03624494, -2.41500208,\n",
       "        -1.79375923]),\n",
       " <a list of 10 Lists of Patches objects>)"
      ]
     },
     "execution_count": 37,
     "metadata": {},
     "output_type": "execute_result"
    },
    {
     "data": {
      "image/png": "[encoded data removed]",
      "text/plain": [
       "<Figure size 432x288 with 1 Axes>"
      ]
     },
     "metadata": {
      "needs_background": "light"
     },
     "output_type": "display_data"
    }
   ],
   "source": [
    "pl.hist(np.random.randn(100,10)-5)"
   ]
  },
  {
   "cell_type": "code",
   "execution_count": 38,
   "metadata": {},
   "outputs": [
    {
     "data": {
      "text/plain": [
       "([array([ 0.,  3., 13., 17., 23., 15., 19.,  6.,  3.,  1.]),\n",
       "  array([ 0.,  2.,  6., 13., 28., 28., 12.,  7.,  2.,  2.]),\n",
       "  array([ 3.,  4.,  9., 19., 19., 15., 15., 11.,  4.,  1.]),\n",
       "  array([ 4.,  7.,  8.,  9., 23., 27., 13.,  6.,  3.,  0.]),\n",
       "  array([ 1.,  2.,  9., 16., 24., 27., 14.,  4.,  3.,  0.]),\n",
       "  array([ 0.,  3.,  9., 22., 26., 20., 10., 10.,  0.,  0.]),\n",
       "  array([ 0.,  3., 11., 18., 19., 17., 20.,  7.,  3.,  2.]),\n",
       "  array([ 0.,  2.,  9., 13., 19., 29., 17.,  8.,  3.,  0.]),\n",
       "  array([ 2.,  4., 11., 19., 20., 20., 15.,  8.,  0.,  1.]),\n",
       "  array([ 0.,  1.,  5., 20., 18., 28., 14.,  7.,  5.,  2.])],\n",
       " array([-2.92496377, -2.32956549, -1.73416721, -1.13876893, -0.54337065,\n",
       "         0.05202763,  0.64742592,  1.2428242 ,  1.83822248,  2.43362076,\n",
       "         3.02901904]),\n",
       " <a list of 10 Lists of Patches objects>)"
      ]
     },
     "execution_count": 38,
     "metadata": {},
     "output_type": "execute_result"
    },
    {
     "data": {
      "image/png": "[encoded data removed]",
      "text/plain": [
       "<Figure size 432x288 with 1 Axes>"
      ]
     },
     "metadata": {
      "needs_background": "light"
     },
     "output_type": "display_data"
    }
   ],
   "source": [
    "pl.hist(np.random.randn(100,10))"
   ]
  },
  {
   "cell_type": "markdown",
   "metadata": {},
   "source": [
    "### _numpy.random.randint_"
   ]
  },
  {
   "cell_type": "markdown",
   "metadata": {},
   "source": [
    "* Return random integers from low (inclusive) to high (exclusive).\n",
    "* Return random integers from the “discrete uniform” distribution of the specified dtype in the “half-open” interval "
   ]
  },
  {
   "cell_type": "markdown",
   "metadata": {},
   "source": [
    "_The output will be one dimensional array with 10 integers from the interval 0 (inclusive) to 3 (exclusive)_"
   ]
  },
  {
   "cell_type": "code",
   "execution_count": 40,
   "metadata": {},
   "outputs": [
    {
     "data": {
      "text/plain": [
       "array([2, 0, 0, 2, 0, 1, 1, 0, 2, 1])"
      ]
     },
     "execution_count": 40,
     "metadata": {},
     "output_type": "execute_result"
    }
   ],
   "source": [
    "np.random.randint(3, size=10)"
   ]
  },
  {
   "cell_type": "markdown",
   "metadata": {},
   "source": [
    "_The range can be determined by specifying the high paramenter. In this case the range is defined from -3 included to 0 excluded._ "
   ]
  },
  {
   "cell_type": "code",
   "execution_count": 41,
   "metadata": {},
   "outputs": [
    {
     "data": {
      "text/plain": [
       "array([-2, -3, -1, -3, -3, -1, -1, -3, -1, -1])"
      ]
     },
     "execution_count": 41,
     "metadata": {},
     "output_type": "execute_result"
    }
   ],
   "source": [
    "np.random.randint(-3,0, size=10)"
   ]
  },
  {
   "cell_type": "markdown",
   "metadata": {},
   "source": [
    "_Parameter \"size\" can determine more dimensional arrays of integers_"
   ]
  },
  {
   "cell_type": "code",
   "execution_count": 42,
   "metadata": {},
   "outputs": [
    {
     "data": {
      "text/plain": [
       "array([[3, 0, 0, 1],\n",
       "       [1, 1, 4, 2]])"
      ]
     },
     "execution_count": 42,
     "metadata": {},
     "output_type": "execute_result"
    }
   ],
   "source": [
    "np.random.randint(5, size=(2, 4))\n"
   ]
  },
  {
   "cell_type": "markdown",
   "metadata": {},
   "source": [
    "_TypeError below proves that parameter low integer is mandatory. The interval is not specified like in some other functions._"
   ]
  },
  {
   "cell_type": "code",
   "execution_count": 43,
   "metadata": {},
   "outputs": [
    {
     "ename": "TypeError",
     "evalue": "randint() takes at least 1 positional argument (0 given)",
     "output_type": "error",
     "traceback": [
      "\u001b[1;31m---------------------------------------------------------------------------\u001b[0m",
      "\u001b[1;31mTypeError\u001b[0m                                 Traceback (most recent call last)",
      "\u001b[1;32m<ipython-input-43-f49e882374b2>\u001b[0m in \u001b[0;36m<module>\u001b[1;34m\u001b[0m\n\u001b[1;32m----> 1\u001b[1;33m \u001b[0mnp\u001b[0m\u001b[1;33m.\u001b[0m\u001b[0mrandom\u001b[0m\u001b[1;33m.\u001b[0m\u001b[0mrandint\u001b[0m\u001b[1;33m(\u001b[0m\u001b[0msize\u001b[0m\u001b[1;33m=\u001b[0m\u001b[1;33m(\u001b[0m\u001b[1;36m2\u001b[0m\u001b[1;33m,\u001b[0m \u001b[1;36m4\u001b[0m\u001b[1;33m)\u001b[0m\u001b[1;33m)\u001b[0m\u001b[1;33m\u001b[0m\u001b[1;33m\u001b[0m\u001b[0m\n\u001b[0m",
      "\u001b[1;32mmtrand.pyx\u001b[0m in \u001b[0;36mmtrand.RandomState.randint\u001b[1;34m()\u001b[0m\n",
      "\u001b[1;31mTypeError\u001b[0m: randint() takes at least 1 positional argument (0 given)"
     ]
    }
   ],
   "source": [
    "np.random.randint(size=(2, 4))\n"
   ]
  },
  {
   "cell_type": "markdown",
   "metadata": {},
   "source": [
    "### _numpy.random.choice_"
   ]
  },
  {
   "cell_type": "markdown",
   "metadata": {},
   "source": [
    "Generates a random sample from a given 1-D array"
   ]
  },
  {
   "cell_type": "markdown",
   "metadata": {},
   "source": [
    "_Generate a uniform random sample from np.arange(5) of size 4_"
   ]
  },
  {
   "cell_type": "code",
   "execution_count": 21,
   "metadata": {},
   "outputs": [
    {
     "data": {
      "text/plain": [
       "array([4, 4, 1, 3])"
      ]
     },
     "execution_count": 21,
     "metadata": {},
     "output_type": "execute_result"
    }
   ],
   "source": [
    " np.random.choice(5, 4)"
   ]
  },
  {
   "cell_type": "markdown",
   "metadata": {},
   "source": [
    "The probabalities associated with entry can be defined by p. If p is not specified, the uniform distribution will be assumed across all samples.\n"
   ]
  },
  {
   "cell_type": "markdown",
   "metadata": {},
   "source": [
    "_In example below, 3 integers will be selected from the interval 0 to 5, when integer 2 has 60% chance to be selected. On the other side, integer 1 and 4 has zero probability to be selected._"
   ]
  },
  {
   "cell_type": "code",
   "execution_count": 22,
   "metadata": {},
   "outputs": [
    {
     "data": {
      "text/plain": [
       "array([3, 2, 2], dtype=int64)"
      ]
     },
     "execution_count": 22,
     "metadata": {},
     "output_type": "execute_result"
    }
   ],
   "source": [
    "np.random.choice(6, 3, p=[0.1, 0, 0.6, 0.2, 0, 0.1])"
   ]
  },
  {
   "cell_type": "markdown",
   "metadata": {},
   "source": [
    "__\"Replace\"__ parameter defines whether the sample is with or without replacement. \n"
   ]
  },
  {
   "cell_type": "markdown",
   "metadata": {},
   "source": [
    "_In example below we generate a non-uniform random sample with same probabilities like in example above without replacement_"
   ]
  },
  {
   "cell_type": "code",
   "execution_count": 44,
   "metadata": {},
   "outputs": [
    {
     "data": {
      "text/plain": [
       "array([5, 2, 0])"
      ]
     },
     "execution_count": 44,
     "metadata": {},
     "output_type": "execute_result"
    }
   ],
   "source": [
    "np.random.choice(6, 3, replace=False, p=[0.1, 0, 0.6, 0.2, 0, 0.1])"
   ]
  },
  {
   "cell_type": "markdown",
   "metadata": {},
   "source": [
    "_If we increase the sample size above the size of probable number specified by p, the result will be error. Based on probability defined above, only integers zero, two, three and five can be generated without repetition._"
   ]
  },
  {
   "cell_type": "code",
   "execution_count": 45,
   "metadata": {},
   "outputs": [
    {
     "ename": "ValueError",
     "evalue": "Fewer non-zero entries in p than size",
     "output_type": "error",
     "traceback": [
      "\u001b[1;31m---------------------------------------------------------------------------\u001b[0m",
      "\u001b[1;31mValueError\u001b[0m                                Traceback (most recent call last)",
      "\u001b[1;32m<ipython-input-45-b7f2f2584f65>\u001b[0m in \u001b[0;36m<module>\u001b[1;34m\u001b[0m\n\u001b[1;32m----> 1\u001b[1;33m \u001b[0mnp\u001b[0m\u001b[1;33m.\u001b[0m\u001b[0mrandom\u001b[0m\u001b[1;33m.\u001b[0m\u001b[0mchoice\u001b[0m\u001b[1;33m(\u001b[0m\u001b[1;36m6\u001b[0m\u001b[1;33m,\u001b[0m \u001b[1;36m5\u001b[0m\u001b[1;33m,\u001b[0m \u001b[0mreplace\u001b[0m\u001b[1;33m=\u001b[0m\u001b[1;32mFalse\u001b[0m\u001b[1;33m,\u001b[0m \u001b[0mp\u001b[0m\u001b[1;33m=\u001b[0m\u001b[1;33m[\u001b[0m\u001b[1;36m0.1\u001b[0m\u001b[1;33m,\u001b[0m \u001b[1;36m0\u001b[0m\u001b[1;33m,\u001b[0m \u001b[1;36m0.6\u001b[0m\u001b[1;33m,\u001b[0m \u001b[1;36m0.2\u001b[0m\u001b[1;33m,\u001b[0m \u001b[1;36m0\u001b[0m\u001b[1;33m,\u001b[0m \u001b[1;36m0.1\u001b[0m\u001b[1;33m]\u001b[0m\u001b[1;33m)\u001b[0m\u001b[1;33m\u001b[0m\u001b[1;33m\u001b[0m\u001b[0m\n\u001b[0m",
      "\u001b[1;32mmtrand.pyx\u001b[0m in \u001b[0;36mmtrand.RandomState.choice\u001b[1;34m()\u001b[0m\n",
      "\u001b[1;31mValueError\u001b[0m: Fewer non-zero entries in p than size"
     ]
    }
   ],
   "source": [
    "np.random.choice(6, 5, replace=False, p=[0.1, 0, 0.6, 0.2, 0, 0.1])"
   ]
  },
  {
   "cell_type": "markdown",
   "metadata": {},
   "source": [
    "_Any of the above can be repeated with an arbitrary array-like instead of just integers. For instance:_"
   ]
  },
  {
   "cell_type": "code",
   "execution_count": 47,
   "metadata": {},
   "outputs": [
    {
     "data": {
      "text/plain": [
       "array(['Oliver', 'Miso', 'Alan'], dtype='<U7')"
      ]
     },
     "execution_count": 47,
     "metadata": {},
     "output_type": "execute_result"
    }
   ],
   "source": [
    "crkon_family = [\"Martina\", \"Miso\", \"Oliver\",\"Alan\",\"Baba\",\"Beana\"]\n",
    "np.random.choice(crkon_family,3,replace=False, p=[0.4,0.2,0.1,0.1,0.2,0])"
   ]
  },
  {
   "cell_type": "markdown",
   "metadata": {},
   "source": [
    "### _numpy.random.random_\n"
   ]
  },
  {
   "cell_type": "markdown",
   "metadata": {},
   "source": [
    "Return random floats in the half-open interval [0.0,1.0). "
   ]
  },
  {
   "cell_type": "markdown",
   "metadata": {},
   "source": [
    "The outcome is from the \"continuous uniform\" distribution over tthe stated interval."
   ]
  },
  {
   "cell_type": "markdown",
   "metadata": {},
   "source": [
    "_Returns one integer from the interval [0.0,1.0) -zero inclusive, 1 exclusive_"
   ]
  },
  {
   "cell_type": "code",
   "execution_count": 27,
   "metadata": {},
   "outputs": [
    {
     "data": {
      "text/plain": [
       "0.10409201159397397"
      ]
     },
     "execution_count": 27,
     "metadata": {},
     "output_type": "execute_result"
    }
   ],
   "source": [
    "np.random.random_sample()"
   ]
  },
  {
   "cell_type": "markdown",
   "metadata": {},
   "source": [
    "_The numbers in the brackets defines the shape of the array_"
   ]
  },
  {
   "cell_type": "code",
   "execution_count": 48,
   "metadata": {},
   "outputs": [],
   "source": [
    "a = np.random.random_sample((2,4))"
   ]
  },
  {
   "cell_type": "markdown",
   "metadata": {},
   "source": [
    "_To confirm number of axes_"
   ]
  },
  {
   "cell_type": "code",
   "execution_count": 49,
   "metadata": {},
   "outputs": [
    {
     "data": {
      "text/plain": [
       "2"
      ]
     },
     "execution_count": 49,
     "metadata": {},
     "output_type": "execute_result"
    }
   ],
   "source": [
    "a.ndim"
   ]
  },
  {
   "cell_type": "markdown",
   "metadata": {},
   "source": [
    "_To confirm the range along each available axis_"
   ]
  },
  {
   "cell_type": "code",
   "execution_count": 50,
   "metadata": {},
   "outputs": [
    {
     "data": {
      "text/plain": [
       "(2, 4)"
      ]
     },
     "execution_count": 50,
     "metadata": {},
     "output_type": "execute_result"
    }
   ],
   "source": [
    "a.shape"
   ]
  },
  {
   "cell_type": "code",
   "execution_count": 31,
   "metadata": {},
   "outputs": [
    {
     "name": "stdout",
     "output_type": "stream",
     "text": [
      "[[0.68188195 0.24093786 0.93339188 0.77660211]\n",
      " [0.63997443 0.14199635 0.20214857 0.45009705]]\n"
     ]
    }
   ],
   "source": [
    "print(a)"
   ]
  },
  {
   "cell_type": "markdown",
   "metadata": {},
   "source": [
    "Examples how the interval can be manipulated:\n",
    "* the starting point from which the half open interval [0.0,1.0) is taken can be changed by the number behind the brackets\n",
    "\n",
    "_In this case below the interval was altered to [100.0,101.0)_"
   ]
  },
  {
   "cell_type": "code",
   "execution_count": 51,
   "metadata": {},
   "outputs": [
    {
     "data": {
      "text/plain": [
       "array([[100.84844659, 100.28169934],\n",
       "       [100.79570456, 100.04451223]])"
      ]
     },
     "execution_count": 51,
     "metadata": {},
     "output_type": "execute_result"
    }
   ],
   "source": [
    "np.random.random_sample((2,2))+100"
   ]
  },
  {
   "cell_type": "markdown",
   "metadata": {},
   "source": [
    "_The starting point can be the negative integer also.\n",
    "In example below, the range was altered to [-100.0,-99.0)_"
   ]
  },
  {
   "cell_type": "code",
   "execution_count": 33,
   "metadata": {},
   "outputs": [
    {
     "data": {
      "text/plain": [
       "array([[-99.30421412, -99.12053267],\n",
       "       [-99.11021164, -99.66222957]])"
      ]
     },
     "execution_count": 33,
     "metadata": {},
     "output_type": "execute_result"
    }
   ],
   "source": [
    "np.random.random_sample((2,2))-100"
   ]
  },
  {
   "cell_type": "markdown",
   "metadata": {},
   "source": [
    "_the interval can be altered by multiplying the range and extending the interval [0.0,1.0) by the multiplyed value. \n",
    "Example below amend the range to [100.0,103.0)_"
   ]
  },
  {
   "cell_type": "code",
   "execution_count": 52,
   "metadata": {},
   "outputs": [
    {
     "data": {
      "text/plain": [
       "array([[102.75424272, 101.60647178],\n",
       "       [101.47858453, 101.01731551]])"
      ]
     },
     "execution_count": 52,
     "metadata": {},
     "output_type": "execute_result"
    }
   ],
   "source": [
    "3 * np.random.random_sample((2,2))+100"
   ]
  },
  {
   "cell_type": "markdown",
   "metadata": {},
   "source": [
    "### 1b, Permutations\n"
   ]
  },
  {
   "cell_type": "markdown",
   "metadata": {},
   "source": [
    "### _numpy.random.permutation_"
   ]
  },
  {
   "cell_type": "markdown",
   "metadata": {},
   "source": [
    "A permutation is ordered combination. Parameter x can be integer or array. If x is integer, the outcome will be permutation. If x is array, the copy is made and the elements are shuffled randomly "
   ]
  },
  {
   "cell_type": "markdown",
   "metadata": {},
   "source": [
    "_Random permutation of values from sequence 0 to 9_"
   ]
  },
  {
   "cell_type": "code",
   "execution_count": 35,
   "metadata": {},
   "outputs": [
    {
     "data": {
      "text/plain": [
       "array([8, 6, 1, 5, 3, 9, 4, 7, 2, 0])"
      ]
     },
     "execution_count": 35,
     "metadata": {},
     "output_type": "execute_result"
    }
   ],
   "source": [
    "np.random.permutation(10)"
   ]
  },
  {
   "cell_type": "markdown",
   "metadata": {},
   "source": [
    "_Sample of randomly selected items from the list provided, with no repetition._"
   ]
  },
  {
   "cell_type": "code",
   "execution_count": 53,
   "metadata": {},
   "outputs": [
    {
     "data": {
      "text/plain": [
       "array([16,  8, 12, 15,  1])"
      ]
     },
     "execution_count": 53,
     "metadata": {},
     "output_type": "execute_result"
    }
   ],
   "source": [
    "np.random.permutation([1, 8, 12, 16, 15])"
   ]
  },
  {
   "cell_type": "markdown",
   "metadata": {},
   "source": [
    "_Examples below prove, that in case of array, the first axes are shuffled randomly but their contents remains same._"
   ]
  },
  {
   "cell_type": "code",
   "execution_count": 54,
   "metadata": {},
   "outputs": [
    {
     "data": {
      "text/plain": [
       "array([[0, 1, 2],\n",
       "       [6, 7, 8],\n",
       "       [3, 4, 5]])"
      ]
     },
     "execution_count": 54,
     "metadata": {},
     "output_type": "execute_result"
    }
   ],
   "source": [
    "arr = np.arange(9).reshape((3, 3))\n",
    "np.random.permutation(arr)"
   ]
  },
  {
   "cell_type": "code",
   "execution_count": 55,
   "metadata": {},
   "outputs": [
    {
     "data": {
      "text/plain": [
       "array([[3, 4, 5],\n",
       "       [6, 7, 8],\n",
       "       [0, 1, 2]])"
      ]
     },
     "execution_count": 55,
     "metadata": {},
     "output_type": "execute_result"
    }
   ],
   "source": [
    "arr = np.arange(9).reshape((3, 3))\n",
    "np.random.permutation(arr)"
   ]
  },
  {
   "cell_type": "markdown",
   "metadata": {},
   "source": [
    "### _numpy.random.shuffle_"
   ]
  },
  {
   "cell_type": "markdown",
   "metadata": {},
   "source": [
    "Used for sequence modification by shuffling its contents. This function only shuffles the array along the first axis of a multi-dimensional array. The order of sub-arrays is changed but their contents remains the same."
   ]
  },
  {
   "cell_type": "markdown",
   "metadata": {},
   "source": [
    "_The list 0 to 10 (exclusive) modified by shuffling its contents_"
   ]
  },
  {
   "cell_type": "code",
   "execution_count": 58,
   "metadata": {},
   "outputs": [
    {
     "data": {
      "text/plain": [
       "array([5, 4, 1, 0, 3, 7, 8, 2, 9, 6])"
      ]
     },
     "execution_count": 58,
     "metadata": {},
     "output_type": "execute_result"
    }
   ],
   "source": [
    "arr = np.arange(10)\n",
    "np.random.shuffle(arr)\n",
    "arr"
   ]
  },
  {
   "cell_type": "markdown",
   "metadata": {},
   "source": [
    "_Multi-dimensional arrays are only shuffled along the first axis:_"
   ]
  },
  {
   "cell_type": "code",
   "execution_count": 59,
   "metadata": {},
   "outputs": [
    {
     "data": {
      "text/plain": [
       "array([[0, 1, 2],\n",
       "       [6, 7, 8],\n",
       "       [3, 4, 5]])"
      ]
     },
     "execution_count": 59,
     "metadata": {},
     "output_type": "execute_result"
    }
   ],
   "source": [
    "arr = np.arange(9).reshape((3, 3))\n",
    "np.random.shuffle(arr)\n",
    "arr"
   ]
  },
  {
   "cell_type": "markdown",
   "metadata": {},
   "source": [
    "_Note: Difference between permutation and shuffle_\n",
    "* _if passed an array, it will return a shuffled copy of the array; np.random.shuffle shuffles the array inplace_\n",
    "* _if passed an integer, it will return a shuffled range i.e. np.random.shuffle(np.arange(n))_\n",
    "\n",
    "_source:https://stackoverflow.com/questions/15474159/shuffle-vs-permute-numpy_\n",
    "\n"
   ]
  },
  {
   "cell_type": "markdown",
   "metadata": {},
   "source": [
    "## 2.DISTRIBUTIONS"
   ]
  },
  {
   "cell_type": "markdown",
   "metadata": {},
   "source": [
    "A distribution is a listing of the possible values of a variable (or intervals of values), and how often (or at what density) they occur.<br/>\n",
    "_Source: Statistics for Dummies, Deborah J.Rumsey, Phd_\n",
    "\n",
    "For definitions of different kind of distributions refer to Readme document."
   ]
  },
  {
   "cell_type": "markdown",
   "metadata": {},
   "source": [
    "### _Numpy.random.standard_normal_"
   ]
  },
  {
   "cell_type": "markdown",
   "metadata": {},
   "source": [
    "Output-samples from a standard normal distribution (mean=0, standard deviation=1)."
   ]
  },
  {
   "cell_type": "code",
   "execution_count": 42,
   "metadata": {},
   "outputs": [],
   "source": [
    " s = np.random.standard_normal(100)"
   ]
  },
  {
   "cell_type": "code",
   "execution_count": 43,
   "metadata": {},
   "outputs": [
    {
     "name": "stdout",
     "output_type": "stream",
     "text": [
      "[-0.55423429  0.44172858  0.23241584 -0.21006217 -0.85095415 -0.2471137\n",
      "  1.5230385   0.58727996  0.85920455  0.68617935  1.67325183 -0.90162119\n",
      " -0.28700513  1.9308593   1.09655313 -0.44202311  0.31961058  1.75564842\n",
      " -1.60789486 -0.58138071 -1.35185067  0.56625704 -0.71122631 -0.20132561\n",
      "  0.69437856  0.3323138   0.33276528  0.8140611  -0.27735358  0.69348247\n",
      " -0.93525377 -1.14664498  1.26337375  1.67164437  0.79931218  0.21012734\n",
      "  0.50704932  1.61565445 -0.20638222  0.7327459   0.81266919 -0.30733634\n",
      "  0.37376939  1.05125889  0.11384709 -1.60077006 -0.85175624  0.2180815\n",
      "  1.31552061  1.2301465  -0.48075019  0.72807861  0.13295234  1.03275834\n",
      "  0.29982093 -1.96859203  0.7041176   0.35269367  0.0704565  -1.09594445\n",
      "  1.61589666 -0.19392838 -0.65143731 -0.62605999 -1.20453072 -0.17752916\n",
      "  1.62613815 -0.50311619 -1.22944514 -0.52112329 -0.10907845 -0.1996009\n",
      "  0.04359175 -0.15021438  0.9514465  -0.88266242  0.18812108  0.26736932\n",
      "  0.53304963  0.82065097 -0.70372931  1.2991956   0.01676679 -0.88762094\n",
      "  0.13617877 -0.27068621 -0.91954374  2.02020379 -0.47159524  0.66856622\n",
      "  1.36654507 -0.64487526 -0.63257119  0.61472215 -0.21264614  0.05196807\n",
      " -0.51703779  0.07286759 -0.41627753 -0.00934544]\n"
     ]
    }
   ],
   "source": [
    "print(s)"
   ]
  },
  {
   "cell_type": "code",
   "execution_count": 44,
   "metadata": {},
   "outputs": [
    {
     "data": {
      "text/plain": [
       "(array([ 3.,  3.,  9., 15., 16., 18., 17.,  5.,  8.,  6.]),\n",
       " array([-1.96859203, -1.56971244, -1.17083286, -0.77195328, -0.3730737 ,\n",
       "         0.02580588,  0.42468546,  0.82356504,  1.22244463,  1.62132421,\n",
       "         2.02020379]),\n",
       " <a list of 10 Patch objects>)"
      ]
     },
     "execution_count": 44,
     "metadata": {},
     "output_type": "execute_result"
    },
    {
     "data": {
      "image/png": "[encoded data removed]",
      "text/plain": [
       "<Figure size 432x288 with 1 Axes>"
      ]
     },
     "metadata": {
      "needs_background": "light"
     },
     "output_type": "display_data"
    }
   ],
   "source": [
    "pl.hist(s)\n"
   ]
  },
  {
   "cell_type": "markdown",
   "metadata": {},
   "source": [
    "The distribution is pre-defined with the mean equaling to 0 and standard deviation of 1. This is contributing that 68% of data falls within 1 standard deviation of the mean, arond 95% within 2 standard deviations of mean and 99.7% of the data within 3 standard deviations of the mean."
   ]
  },
  {
   "cell_type": "markdown",
   "metadata": {},
   "source": [
    "Examples of normal distributions from real life:\n",
    "* height\n",
    "* IQ graph\n",
    "* shares prices in the stock market\n",
    "* income distribution in economy\n",
    "* shoe size\n",
    "* birth weight"
   ]
  },
  {
   "cell_type": "markdown",
   "metadata": {},
   "source": [
    "###  _Numpy.random.uniform_"
   ]
  },
  {
   "cell_type": "markdown",
   "metadata": {},
   "source": [
    "Returns samples from uniform distribution what means that any value within the given interval is equally likely to be selected."
   ]
  },
  {
   "cell_type": "markdown",
   "metadata": {},
   "source": [
    "Parameters in brackets indicate:\n",
    "* the interval \n",
    "* - Low (included)\n",
    "* - High (excluded)\n",
    "* size -Output shape"
   ]
  },
  {
   "cell_type": "markdown",
   "metadata": {},
   "source": [
    "In example below parameters define the range from -1 (included) to 0 (excluded) and count of selected integers (10)."
   ]
  },
  {
   "cell_type": "code",
   "execution_count": 45,
   "metadata": {},
   "outputs": [],
   "source": [
    "s = np.random.uniform(-1,0,10)"
   ]
  },
  {
   "cell_type": "code",
   "execution_count": 46,
   "metadata": {},
   "outputs": [
    {
     "name": "stdout",
     "output_type": "stream",
     "text": [
      "[-0.0800821  -0.02814782 -0.65885025 -0.55839024 -0.6370821  -0.33820185\n",
      " -0.24959675 -0.18026004 -0.24039462 -0.25528413]\n"
     ]
    }
   ],
   "source": [
    "print(s)"
   ]
  },
  {
   "cell_type": "markdown",
   "metadata": {},
   "source": [
    "In the case that the first parameter is not the lowest of the values, python can still identified the lowest parameter and run the code. No error will be displayed.\n",
    "\n",
    "    "
   ]
  },
  {
   "cell_type": "code",
   "execution_count": 47,
   "metadata": {},
   "outputs": [],
   "source": [
    "s = np.random.uniform(5,-6,10)"
   ]
  },
  {
   "cell_type": "code",
   "execution_count": 48,
   "metadata": {},
   "outputs": [
    {
     "name": "stdout",
     "output_type": "stream",
     "text": [
      "[ 2.54982724 -5.04998872 -2.10792776  3.39612682  2.6316885  -3.14441826\n",
      " -4.03443113  1.53394905  0.76759615 -4.44042653]\n"
     ]
    }
   ],
   "source": [
    "print(s)"
   ]
  },
  {
   "cell_type": "markdown",
   "metadata": {},
   "source": [
    "No parameter for size, only one float number is selected"
   ]
  },
  {
   "cell_type": "code",
   "execution_count": 49,
   "metadata": {},
   "outputs": [],
   "source": [
    "s = np.random.uniform(2,4)"
   ]
  },
  {
   "cell_type": "code",
   "execution_count": 50,
   "metadata": {},
   "outputs": [
    {
     "name": "stdout",
     "output_type": "stream",
     "text": [
      "2.8838852599483613\n"
     ]
    }
   ],
   "source": [
    "print(s)"
   ]
  },
  {
   "cell_type": "markdown",
   "metadata": {},
   "source": [
    "Plot displayed below proves that the values are distributed equaly."
   ]
  },
  {
   "cell_type": "code",
   "execution_count": 51,
   "metadata": {},
   "outputs": [],
   "source": [
    "s = np.random.uniform(5,10,1000)"
   ]
  },
  {
   "cell_type": "code",
   "execution_count": 52,
   "metadata": {},
   "outputs": [
    {
     "data": {
      "text/plain": [
       "(array([116.,  98.,  98., 112.,  98.,  77., 100., 102.,  90., 109.]),\n",
       " array([5.01645532, 5.51428997, 6.01212462, 6.50995927, 7.00779391,\n",
       "        7.50562856, 8.00346321, 8.50129786, 8.99913251, 9.49696715,\n",
       "        9.9948018 ]),\n",
       " <a list of 10 Patch objects>)"
      ]
     },
     "execution_count": 52,
     "metadata": {},
     "output_type": "execute_result"
    },
    {
     "data": {
      "image/png": "[encoded data removed]",
      "text/plain": [
       "<Figure size 432x288 with 1 Axes>"
      ]
     },
     "metadata": {
      "needs_background": "light"
     },
     "output_type": "display_data"
    }
   ],
   "source": [
    "pl.hist(s)"
   ]
  },
  {
   "cell_type": "markdown",
   "metadata": {},
   "source": [
    "### Pareto\n"
   ]
  },
  {
   "cell_type": "markdown",
   "metadata": {},
   "source": [
    "the output are the samples from Pareto II or Lomax distribution with specified shape. Lomax can also be considered as a simplified version of the Generalized Pareto distribution, with the scale set to one and the location set to zero."
   ]
  },
  {
   "cell_type": "markdown",
   "metadata": {},
   "source": [
    "The Pareto distribution is also known as the “80-20 rule”. In this distribution, 80 percent of the weights are in the lowest 20 percent of the range, while the other 20 percent fill the remaining 80 percent of the range."
   ]
  },
  {
   "cell_type": "markdown",
   "metadata": {},
   "source": [
    "First parameter defined the shape of distribution. Needs to be higher than 0.Second parameter is for shape."
   ]
  },
  {
   "cell_type": "code",
   "execution_count": 53,
   "metadata": {},
   "outputs": [],
   "source": [
    "a, m = 100., 100. \n",
    "s = (np.random.pareto(a, 1000) + 10) * m"
   ]
  },
  {
   "cell_type": "code",
   "execution_count": 54,
   "metadata": {},
   "outputs": [
    {
     "data": {
      "text/plain": [
       "(array([607., 237.,  95.,  37.,  12.,   5.,   4.,   1.,   1.,   1.]),\n",
       " array([1000.00030048, 1000.92601269, 1001.85172489, 1002.77743709,\n",
       "        1003.70314929, 1004.62886149, 1005.55457369, 1006.4802859 ,\n",
       "        1007.4059981 , 1008.3317103 , 1009.2574225 ]),\n",
       " <a list of 10 Patch objects>)"
      ]
     },
     "execution_count": 54,
     "metadata": {},
     "output_type": "execute_result"
    },
    {
     "data": {
      "image/png": "[encoded data removed]",
      "text/plain": [
       "<Figure size 432x288 with 1 Axes>"
      ]
     },
     "metadata": {
      "needs_background": "light"
     },
     "output_type": "display_data"
    }
   ],
   "source": [
    "pl.hist(s)"
   ]
  },
  {
   "cell_type": "markdown",
   "metadata": {},
   "source": [
    "### numpy.random.binomial"
   ]
  },
  {
   "cell_type": "markdown",
   "metadata": {},
   "source": [
    "Samples are drawn from a binomial distribution with specified parameters, n trials and p probability of success where n an integer >= 0 and p is in the interval [0,1]. (n may be input as a float, but it is truncated to an integer in use)"
   ]
  },
  {
   "cell_type": "markdown",
   "metadata": {},
   "source": [
    "Below are result of flipping a coin 10 times, tested 100 times.The probablity is 0.5 as 50% chance that each side of coin fall."
   ]
  },
  {
   "cell_type": "code",
   "execution_count": 55,
   "metadata": {},
   "outputs": [],
   "source": [
    "n, p = 10, .5  \n",
    "s = np.random.binomial(n, p, 100)"
   ]
  },
  {
   "cell_type": "code",
   "execution_count": 56,
   "metadata": {},
   "outputs": [
    {
     "name": "stdout",
     "output_type": "stream",
     "text": [
      "[5 6 3 6 4 6 6 5 5 1 5 7 5 5 5 5 5 5 4 8 5 3 5 6 6 3 4 6 7 5 6 3 6 6 4 4 5\n",
      " 6 4 6 5 5 3 5 3 5 4 7 7 8 6 8 5 6 4 9 4 5 6 3 8 5 5 4 6 4 6 5 6 6 4 6 7 5\n",
      " 5 8 6 4 2 7 6 4 4 4 5 5 5 4 3 6 3 9 3 7 4 5 6 3 6 4]\n"
     ]
    }
   ],
   "source": [
    "print(s)"
   ]
  },
  {
   "cell_type": "markdown",
   "metadata": {},
   "source": [
    "The first result can be interpreted, that out of 10 times flipping a coin, 5 times the same side of coin was revealed. This was simulated for another 9x10 flips of the coin."
   ]
  },
  {
   "cell_type": "markdown",
   "metadata": {},
   "source": [
    "### Poisson\n"
   ]
  },
  {
   "cell_type": "markdown",
   "metadata": {},
   "source": [
    "The Poisson distribution is the limit of the binomial distribution for large N.\n",
    "Parameters:\n",
    "* lam - total number of events divided by number of units in the data\n",
    "* size - output shape\n"
   ]
  },
  {
   "cell_type": "markdown",
   "metadata": {},
   "source": [
    "Sample of 1000 values for lambda 5."
   ]
  },
  {
   "cell_type": "code",
   "execution_count": 57,
   "metadata": {},
   "outputs": [],
   "source": [
    "s = np.random.poisson(5,1000)"
   ]
  },
  {
   "cell_type": "code",
   "execution_count": 58,
   "metadata": {},
   "outputs": [
    {
     "name": "stdout",
     "output_type": "stream",
     "text": [
      "[ 2  6  7  5  4  3  7  4  9  4  7  3  1  2  3  6  7  1  4  5  3  6  5  2\n",
      "  6  8  7  1 12  7  4  3  8  2  8  2  7  2  9  4  7  5  9  3  7  4  2  5\n",
      "  4  2  5  6  3  3  7  5 11  4  6  2  6  8  2  5  4  4  6  7  4  2  4  5\n",
      "  5  2  2  5  4  5  7  4  3  7  3  7  5  6  4  2  3  7  5  4  3  3  4  8\n",
      "  4  1  2  6  2  4  4  6  4  5  5  9  3  8  9  7  5  1  7  6  5  5  8  8\n",
      "  3  5  7  3  1  6  6  7  1  1  2  7  4  7  4  9 10  1  5  4  8  3  5  4\n",
      "  4  7  9  5  7  3  4  4  3  3  2  7  7  6  5  5  6  4  7  9  7  3  3  4\n",
      " 11  4  4  6  3  5  4  5  2  7  3  7  5  9  5  2  3  9  7  1  6  5  6  4\n",
      "  8  8  1  5  4  6  6  4  4 10 12  1  4  3  6  3  6  3  1  7  8  6  3  9\n",
      "  5  4  3  4  4  7  8  9  7  5  3  5  2  4  0  7  8  5  1  3  3  7 11  3\n",
      "  6  4  8  6  1  3  2  6  6  6  4  8  3  5  4  5  9  6  4  5  5  6  4  8\n",
      "  4  5  3  6  6  4  2  8  4  5  5  3  7  7  6  6 12  3  7  7  4  3  6  5\n",
      "  6  4  3  5  5  3  3  8  6  7  5  2  2  3 10  7  4  4  5  9 10  5  3  3\n",
      "  4  6  3  3  3 10  6  5  1  6  3  2  8  6  5  4  5  3  3  3  5  4  7  9\n",
      "  3  8  2  7  4  8 10  5  5  6  9  4  5  5  7  4  4  4  2  3  2  8  3  6\n",
      "  8  7  3  5  7  3  1  5  2  3  4  8  6  7  3  3  8  4  3  9  3  4  5  5\n",
      "  4  5  7  4  4  4  6  4  3  6  5  8  5  5  5  7  8  3  2  9  3  4  8 11\n",
      "  1  4  8 10  7  4  6  7  3  3  4  6  3  6  3  7  7  4  6  6  5  2  8  4\n",
      "  6  6  2  5  8  3  6 10  7  6  7  5  1  7  7  7  7  2 10  9  8  7  6  5\n",
      "  5  5  4  8  7  9  3  4  7  3  4  3  4  4  5  6 11  5  4  3  1  4  1  1\n",
      "  3  6  6  4  3  2  4  4  4  6  8  2  7  6  8  1  7  6  5  3  5  3  3  7\n",
      "  4  4  8  6  2  3  9  6  7  2  4  3  3  4  4  7  6  7  4  4  9  7  5  7\n",
      "  5  5  4  8  4  0  3  4  6  4  6  3  2  5  5  5  1  6  8  3  4  4 12 12\n",
      "  6  6  4  8  4  4  8  5  6  3  4  4  6  3  4  2  4  5  6  9  4  2  2  6\n",
      "  4  7  4  2  2  6  6  4  7  5  4  5  6  4  7  3  4 11  4  7  5  2  7  4\n",
      "  5  7  5  6  8  7  4  6  4  4  5  3  6  3  7  4  3  6  3  8  4  8  4  4\n",
      "  0  4  9  4  6  3  7  6  4  1  9  5  7  6  4  6  7  3  7  3  9  3  2  6\n",
      "  5 12  5  7  2  5  5  5  5 11  4  5  4  7  2  3  4  5  5  5  6  4  8  6\n",
      "  2  6  5  6  4  5  2  6  7  3  7  6  8  6  4  6  7  4  5  4  7  3  5  3\n",
      "  5  3  7  2  1  5  3  7  6  4  5  4  4  4  3  1  2  3  2  5  5  3  5  4\n",
      "  5  7  7  3  5  8  5  2  4  2  5  7  6 14  2  5  8  8  3  7  3  5  5  2\n",
      "  8  0  5  7  7  4  5  6  4  5  3  5  6  8  6  5  4  2  1  4  9  7  6  5\n",
      "  9  5  4  6  5  6  5  4  9  5  3  2  4  6  2  4  6  5  5  4  4  1  7  8\n",
      "  4  8  3  7  3  3  6  4  4  2  7  5  8  4  5  5  5  2  2  1  4  6  7  2\n",
      "  4  4  7  5  2  1  6  4  7  6  3  4 11  4  6  5 10  4  6  7  6  2  7  3\n",
      "  1 11  5 11  3  1  7  3  6  4  6  3  5  6  2  4  7  8  4  6  4  5  1  5\n",
      "  8  7  3  6  7  7  8  4  5  6  4  4  4  6  3  5  3  2  5  4  4  6  6  9\n",
      "  3  6  6  4  7  4  4  3  9  8  4  8  3  4  3  5  5  6  4  2  5  3  5 11\n",
      "  7  6  5  4  7  6  5  6  2  5  4  2  7  4  6  5  0  8  4  7  9  5  5  5\n",
      "  4  4  5  5  6  8  6  7  4  2  0  4  7  7  5  5  3  6  6  6  8  3  6  4\n",
      "  3  8  7 11  3  4  4  8  4  7  6  5  7  5  2  2  1  8  2  5  6  3  4  5\n",
      "  5  5  7  4  9  4  4  5  9  7  5  7  4  4  3  5]\n"
     ]
    }
   ],
   "source": [
    "print(s)"
   ]
  },
  {
   "cell_type": "code",
   "execution_count": 59,
   "metadata": {},
   "outputs": [
    {
     "data": {
      "text/plain": [
       "(array([ 41.,  75., 330., 166., 136., 189.,  34.,  22.,   6.,   1.]),\n",
       " array([ 0. ,  1.4,  2.8,  4.2,  5.6,  7. ,  8.4,  9.8, 11.2, 12.6, 14. ]),\n",
       " <a list of 10 Patch objects>)"
      ]
     },
     "execution_count": 59,
     "metadata": {},
     "output_type": "execute_result"
    },
    {
     "data": {
      "image/png": "[encoded data removed]",
      "text/plain": [
       "<Figure size 432x288 with 1 Axes>"
      ]
     },
     "metadata": {
      "needs_background": "light"
     },
     "output_type": "display_data"
    }
   ],
   "source": [
    "pl.hist(s)"
   ]
  },
  {
   "cell_type": "markdown",
   "metadata": {},
   "source": [
    "## 3.SEEDS"
   ]
  },
  {
   "cell_type": "markdown",
   "metadata": {},
   "source": [
    "The Pseudo-Random Number Generators technique was used in all of the sections above. The computer use algorithm to generate random values, which appear to be random but in fact they are patterns in the long run. Very often the same selection of the values needs to be generated. For that pupose seed is used.\n",
    "\n"
   ]
  },
  {
   "cell_type": "markdown",
   "metadata": {},
   "source": [
    "The seed during random number generation is the starting point in the sequence. This can be any number, but it usually comes from seconds on a computer system's clock. A computer counts seconds from January 1, 1970 — a system called Unix time. So for example the Unix epoch time of 1573371715 is for the Sun, 10 November 2019 07:41:55 GMT. Based on this example there is large range for seeds. \n",
    "* _Source https://www.statisticshowto.datasciencecentral.com/random-seed-definition/_"
   ]
  },
  {
   "cell_type": "markdown",
   "metadata": {},
   "source": [
    "I am going to use the np.random.rand the usage of seed."
   ]
  },
  {
   "cell_type": "markdown",
   "metadata": {},
   "source": [
    "* Two examples below without the use of seed...the output is diferrent range of values"
   ]
  },
  {
   "cell_type": "code",
   "execution_count": 68,
   "metadata": {},
   "outputs": [
    {
     "data": {
      "text/plain": [
       "array([[0.18229912, 0.52192891, 0.6845854 ],\n",
       "       [0.28768603, 0.478235  , 0.12865067]])"
      ]
     },
     "execution_count": 68,
     "metadata": {},
     "output_type": "execute_result"
    }
   ],
   "source": [
    "np.random.rand(2,3)"
   ]
  },
  {
   "cell_type": "code",
   "execution_count": 69,
   "metadata": {},
   "outputs": [
    {
     "data": {
      "text/plain": [
       "array([[0.70995567, 0.72200532, 0.11353538],\n",
       "       [0.55912448, 0.05430343, 0.83564196]])"
      ]
     },
     "execution_count": 69,
     "metadata": {},
     "output_type": "execute_result"
    }
   ],
   "source": [
    "np.random.rand(2,3)"
   ]
  },
  {
   "cell_type": "markdown",
   "metadata": {},
   "source": [
    "* Two examples below with the use of seed...the output are the same values selected"
   ]
  },
  {
   "cell_type": "code",
   "execution_count": 74,
   "metadata": {},
   "outputs": [
    {
     "data": {
      "text/plain": [
       "array([[0.5488135 , 0.71518937, 0.60276338],\n",
       "       [0.54488318, 0.4236548 , 0.64589411]])"
      ]
     },
     "execution_count": 74,
     "metadata": {},
     "output_type": "execute_result"
    }
   ],
   "source": [
    "np.random.seed(0)\n",
    "np.random.rand(2,3)"
   ]
  },
  {
   "cell_type": "code",
   "execution_count": 75,
   "metadata": {},
   "outputs": [
    {
     "data": {
      "text/plain": [
       "array([[0.5488135 , 0.71518937, 0.60276338],\n",
       "       [0.54488318, 0.4236548 , 0.64589411]])"
      ]
     },
     "execution_count": 75,
     "metadata": {},
     "output_type": "execute_result"
    }
   ],
   "source": [
    "np.random.seed(0)\n",
    "np.random.rand(2,3)"
   ]
  },
  {
   "cell_type": "markdown",
   "metadata": {},
   "source": [
    "* Different seed used is giving the different output"
   ]
  },
  {
   "cell_type": "code",
   "execution_count": 77,
   "metadata": {},
   "outputs": [
    {
     "data": {
      "text/plain": [
       "array([[0.77132064, 0.02075195, 0.63364823],\n",
       "       [0.74880388, 0.49850701, 0.22479665]])"
      ]
     },
     "execution_count": 77,
     "metadata": {},
     "output_type": "execute_result"
    }
   ],
   "source": [
    "np.random.seed(10)\n",
    "np.random.rand(2,3)"
   ]
  },
  {
   "cell_type": "code",
   "execution_count": null,
   "metadata": {},
   "outputs": [],
   "source": []
  },
  {
   "cell_type": "code",
   "execution_count": null,
   "metadata": {},
   "outputs": [],
   "source": []
  }
 ],
 "metadata": {
  "kernelspec": {
   "display_name": "Python 3",
   "language": "python",
   "name": "python3"
  },
  "language_info": {
   "codemirror_mode": {
    "name": "ipython",
    "version": 3
   },
   "file_extension": ".py",
   "mimetype": "text/x-python",
   "name": "python",
   "nbconvert_exporter": "python",
   "pygments_lexer": "ipython3",
   "version": "3.7.3"
  }
 },
 "nbformat": 4,
 "nbformat_minor": 2
}
