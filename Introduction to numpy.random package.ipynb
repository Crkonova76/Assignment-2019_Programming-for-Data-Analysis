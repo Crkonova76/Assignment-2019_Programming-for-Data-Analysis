{
 "cells": [
  {
   "cell_type": "markdown",
   "metadata": {},
   "source": [
    "# NUMPY.RANDOM PACKAGE\n",
    "\n",
    "## Overal purpose of package\n",
    "\n",
    "The random module in Numpy package contains many functions used for generation of random numbers. In order to understand the main purpose of the package, the definition of random number needs to be introduced.\n",
    "\n",
    "Random numbers are numbers that occur in a such sequence that two conditions are met:\n",
    "\n",
    "* the values are uniformly distributed over a defined interval or set.\n",
    "* it is impossible to predict future values based on past or present ones.\n",
    "\n",
    "Random numbers are important in statistical analysis and probability theory (for example for generating data encryption keys, simulating and modeling complex phenomena and for selecting random samples from larger data sets).\n",
    "\n",
    "Computers use two main approaches how to generate the random numbers\n",
    "\n",
    "* Pseudo-Random Number Generators (PRNGs) \n",
    "* True Random Number Generators (TRNGs)\n"
   ]
  },
  {
   "cell_type": "markdown",
   "metadata": {},
   "source": [
    "### _Pseudo-Random Number Generators (PRNGs)_\n",
    "\n",
    "PRNGs are algorithms that use mathematical formulae or simply precalculated tables to produce sequences of numbers that appear random. The main features :\n",
    "\n",
    "    * efficiency (can produce many numbers in short time)\n",
    "    * deterministic (a given sequence of numbers can be reproduced at a later date if the starting point in the sequence is known)\n",
    "    * periodic (the sequence will eventually repeat)\n",
    "    \n",
    "These characteristics make PRNGs suitable for applications where many numbers are required and where it is useful that the same sequence can be replayed easily. Popular examples of such applications are simulation and modeling applications.\n",
    "\n",
    "Numpy’s random number routines produce pseudo random numbers using combinations of a BitGenerator to create sequences and a Generator to use those sequences to sample from different statistical distributions:\n",
    "\n",
    "    * BitGenerators: Objects that generate random numbers. These are typically unsigned integer words filled with sequences of either 32 or 64 random bits.\n",
    "    * Generators: Objects that transform sequences of random bits from a BitGenerator into sequences of numbers that follow a specific probability distribution (such as uniform, Normal or Binomial) within a specified interval.\n",
    "\n",
    "Python uses robust pseudorandom number generator called the Mersenne Twister.\n"
   ]
  },
  {
   "cell_type": "markdown",
   "metadata": {},
   "source": [
    "### _True Random Number Generators (TRNGs)_\n",
    "\n",
    "TRNGs extract randomness from physical phenomena and introduce it into a computer. The examples of physical phenoma can be the vatiations in mouse movements, athmospheric noise, radioactive source...\n",
    "The characteristics of TRNGs:\n",
    "\n",
    "    * TRNGs are generally rather inefficient compared to PRNGs, taking considerably longer time to produce numbers.\n",
    "    * non-deterministic, meaning that a given sequence of numbers cannot be reproduced, although the same sequence may of course occur several times by chance. \n",
    "    * non-periodic\n",
    "    "
   ]
  },
  {
   "cell_type": "markdown",
   "metadata": {},
   "source": [
    "_source:_\n",
    "* https://machinelearningmastery.com/how-to-generate-random-numbers-in-python/_\n",
    "* https://www.random.org/randomness/ \n",
    "* https://analyticstraining.com/random-numbers-applications/"
   ]
  },
  {
   "cell_type": "markdown",
   "metadata": {},
   "source": [
    "## 1. “SIMPLE RANDOM DATA” AND “PERMUTATIONS” METHODS\n",
    "\n",
    "###  __1a. Simple random data__\n",
    "\n",
    "Simple random data can be generated from Numpy by runing one of the functions below. They are all pseudo-random number generated.\n",
    "\n",
    "Types of random variable:\n",
    "> _Discrete random variables_ -take on only a countable number of distinct values,can be quantified <br />\n",
    "> _Continues random variable_ -the functions that take on continuous values\n",
    "\n",
    "\n",
    "### _numpy.random.rand_\n",
    "\n",
    "  * output are the random values in a given shape, from the uniform distribution from interval\n",
    " [0,1) -_zero inclusive, 1 exclusive_\n",
    "  \n"
   ]
  },
  {
   "cell_type": "markdown",
   "metadata": {},
   "source": [
    "_The below commands import librarias numpy, seaborn and matplotlib_"
   ]
  },
  {
   "cell_type": "code",
   "execution_count": 152,
   "metadata": {},
   "outputs": [],
   "source": [
    "import numpy as np\n",
    "import seaborn as sns\n",
    "import matplotlib.pyplot as pl"
   ]
  },
  {
   "cell_type": "markdown",
   "metadata": {},
   "source": [
    "Shape of array is defined by numbers in brackets:\n",
    "* the first position determines number of dimensions \n",
    "* second number defines number of samples in one array."
   ]
  },
  {
   "cell_type": "markdown",
   "metadata": {},
   "source": [
    "_By default, if no parameters are defined for the shape of array, the outcome is single integer from range zero inclusive to 1 exclusive_"
   ]
  },
  {
   "cell_type": "code",
   "execution_count": 153,
   "metadata": {},
   "outputs": [
    {
     "data": {
      "text/plain": [
       "0.4159481682085645"
      ]
     },
     "execution_count": 153,
     "metadata": {},
     "output_type": "execute_result"
    }
   ],
   "source": [
    "np.random.rand()"
   ]
  },
  {
   "cell_type": "markdown",
   "metadata": {},
   "source": [
    "_One number in bracket defines the size of one array dimension_"
   ]
  },
  {
   "cell_type": "code",
   "execution_count": 154,
   "metadata": {},
   "outputs": [
    {
     "data": {
      "text/plain": [
       "array([0.10086025, 0.88831303, 0.75704748, 0.51547122, 0.27456394])"
      ]
     },
     "execution_count": 154,
     "metadata": {},
     "output_type": "execute_result"
    }
   ],
   "source": [
    "np.random.rand(5)"
   ]
  },
  {
   "cell_type": "markdown",
   "metadata": {},
   "source": [
    "_Demonstration of specification of 3-dimensional array with 5 random numbers in each array_"
   ]
  },
  {
   "cell_type": "code",
   "execution_count": 155,
   "metadata": {},
   "outputs": [
    {
     "data": {
      "text/plain": [
       "array([[0.69399979, 0.16317853, 0.6089315 , 0.44100247, 0.49514524],\n",
       "       [0.93563478, 0.29184285, 0.91875781, 0.17126842, 0.47870885],\n",
       "       [0.14933031, 0.8302647 , 0.12979762, 0.49574316, 0.1960831 ]])"
      ]
     },
     "execution_count": 155,
     "metadata": {},
     "output_type": "execute_result"
    }
   ],
   "source": [
    "np.random.rand(3,5)"
   ]
  },
  {
   "cell_type": "markdown",
   "metadata": {},
   "source": [
    "_Histogram demonstrates the uniform distribution - numbers are evenly distributed in the interval. Refer below to section 2 \"Distributions\" for further details_"
   ]
  },
  {
   "cell_type": "code",
   "execution_count": 156,
   "metadata": {},
   "outputs": [
    {
     "data": {
      "text/plain": [
       "([array([1., 0., 0., 0., 0., 1., 0., 0., 0., 0.]),\n",
       "  array([0., 0., 0., 0., 0., 1., 0., 0., 0., 1.])],\n",
       " array([0.22889772, 0.30316267, 0.37742762, 0.45169257, 0.52595751,\n",
       "        0.60022246, 0.67448741, 0.74875236, 0.82301731, 0.89728225,\n",
       "        0.9715472 ]),\n",
       " <a list of 2 Lists of Patches objects>)"
      ]
     },
     "execution_count": 156,
     "metadata": {},
     "output_type": "execute_result"
    },
    {
     "data": {
      "image/png": "[encoded data removed]",
      "text/plain": [
       "<Figure size 432x288 with 1 Axes>"
      ]
     },
     "metadata": {
      "needs_background": "light"
     },
     "output_type": "display_data"
    }
   ],
   "source": [
    "pl.hist(np.random.rand(2,2))"
   ]
  },
  {
   "cell_type": "markdown",
   "metadata": {},
   "source": [
    "_As expected, the negative dimensions are not allowed_"
   ]
  },
  {
   "cell_type": "code",
   "execution_count": 157,
   "metadata": {},
   "outputs": [
    {
     "ename": "ValueError",
     "evalue": "negative dimensions are not allowed",
     "output_type": "error",
     "traceback": [
      "\u001b[1;31m---------------------------------------------------------------------------\u001b[0m",
      "\u001b[1;31mValueError\u001b[0m                                Traceback (most recent call last)",
      "\u001b[1;32m<ipython-input-157-3b78b5e0b307>\u001b[0m in \u001b[0;36m<module>\u001b[1;34m\u001b[0m\n\u001b[1;32m----> 1\u001b[1;33m \u001b[0mnp\u001b[0m\u001b[1;33m.\u001b[0m\u001b[0mrandom\u001b[0m\u001b[1;33m.\u001b[0m\u001b[0mrand\u001b[0m\u001b[1;33m(\u001b[0m\u001b[1;33m-\u001b[0m\u001b[1;36m2\u001b[0m\u001b[1;33m,\u001b[0m\u001b[1;33m-\u001b[0m\u001b[1;36m3\u001b[0m\u001b[1;33m)\u001b[0m\u001b[1;33m\u001b[0m\u001b[1;33m\u001b[0m\u001b[0m\n\u001b[0m",
      "\u001b[1;32mmtrand.pyx\u001b[0m in \u001b[0;36mmtrand.RandomState.rand\u001b[1;34m()\u001b[0m\n",
      "\u001b[1;32mmtrand.pyx\u001b[0m in \u001b[0;36mmtrand.RandomState.random_sample\u001b[1;34m()\u001b[0m\n",
      "\u001b[1;32mmtrand.pyx\u001b[0m in \u001b[0;36mmtrand.cont0_array\u001b[1;34m()\u001b[0m\n",
      "\u001b[1;31mValueError\u001b[0m: negative dimensions are not allowed"
     ]
    }
   ],
   "source": [
    "np.random.rand(-2,-3)"
   ]
  },
  {
   "cell_type": "markdown",
   "metadata": {},
   "source": [
    "### _numpy.random.randn_\n",
    "\n",
    "\n",
    "  * Return a sample (or samples) from the “standard normal” distribution.\n",
    "  * Generates an array of shape (d0, d1, ..., dn), filled with random floats sampled from a univariate “normal” (Gaussian) distribution of mean 0 and variance 1 "
   ]
  },
  {
   "cell_type": "markdown",
   "metadata": {},
   "source": [
    "_if no parameters used in brackets, the output is single float number_"
   ]
  },
  {
   "cell_type": "code",
   "execution_count": null,
   "metadata": {},
   "outputs": [],
   "source": [
    "np.random.randn()"
   ]
  },
  {
   "cell_type": "markdown",
   "metadata": {},
   "source": [
    "_the paramenters in brackets defined the shape of array_\n",
    "* the first position determines number of dimensions\n",
    "* second number defines number of samples in one array."
   ]
  },
  {
   "cell_type": "markdown",
   "metadata": {},
   "source": [
    "_Two dimension arrays can be defined by the numbers in bvrackets._\n",
    "> First example-2 axes array with 5 samples<br/>\n",
    "> Second example- 2 axes array with 2 samples\n"
   ]
  },
  {
   "cell_type": "code",
   "execution_count": 158,
   "metadata": {},
   "outputs": [
    {
     "data": {
      "text/plain": [
       "array([[ 1.63966427, -0.13156146, -0.93855803, -0.16924479,  0.87490912],\n",
       "       [-0.79525303,  0.55866484, -0.51781866, -0.92209833, -1.57916548]])"
      ]
     },
     "execution_count": 158,
     "metadata": {},
     "output_type": "execute_result"
    }
   ],
   "source": [
    "np.random.randn(2,5)"
   ]
  },
  {
   "cell_type": "code",
   "execution_count": 159,
   "metadata": {},
   "outputs": [
    {
     "data": {
      "text/plain": [
       "array([[ 2.02804425,  0.35086054],\n",
       "       [-1.13015615, -0.05450079]])"
      ]
     },
     "execution_count": 159,
     "metadata": {},
     "output_type": "execute_result"
    }
   ],
   "source": [
    "np.random.randn(2,2)"
   ]
  },
  {
   "cell_type": "markdown",
   "metadata": {},
   "source": [
    "_To defined the mean as different value as by default value zero..._\n",
    "> Fisrt example- positive 5 as a mean<br/>\n",
    "> Second example-negative 5 as a mean<br/>\n",
    "> Plot demonstrate that the mean is -5<br/>\n",
    "> Second plot demonstrate the mean without defining any value for it, by default 0 is used\n"
   ]
  },
  {
   "cell_type": "code",
   "execution_count": 160,
   "metadata": {},
   "outputs": [
    {
     "data": {
      "text/plain": [
       "array([[4.91975218, 4.39012669],\n",
       "       [4.84183524, 5.63645442]])"
      ]
     },
     "execution_count": 160,
     "metadata": {},
     "output_type": "execute_result"
    }
   ],
   "source": [
    "np.random.randn(2,2)+5\n"
   ]
  },
  {
   "cell_type": "code",
   "execution_count": 161,
   "metadata": {},
   "outputs": [
    {
     "data": {
      "text/plain": [
       "array([[-5.23136869, -5.21153838],\n",
       "       [-6.07423321, -5.55875781]])"
      ]
     },
     "execution_count": 161,
     "metadata": {},
     "output_type": "execute_result"
    }
   ],
   "source": [
    "np.random.randn(2,2)-5"
   ]
  },
  {
   "cell_type": "code",
   "execution_count": 162,
   "metadata": {},
   "outputs": [
    {
     "data": {
      "text/plain": [
       "([array([ 0.,  1.,  4., 22., 16., 27., 22.,  6.,  2.,  0.]),\n",
       "  array([ 0.,  0.,  6., 12., 27., 25., 22.,  8.,  0.,  0.]),\n",
       "  array([ 0.,  0.,  3., 13., 25., 25., 18.,  9.,  5.,  2.]),\n",
       "  array([ 0.,  2.,  5., 11., 22., 27., 21.,  8.,  3.,  1.]),\n",
       "  array([ 1.,  1.,  4., 13., 21., 24., 23., 13.,  0.,  0.]),\n",
       "  array([ 0.,  0.,  1., 18., 29., 23., 17., 10.,  2.,  0.]),\n",
       "  array([ 0.,  2.,  5., 13., 31., 25., 21.,  2.,  0.,  1.]),\n",
       "  array([ 1.,  0.,  6., 16., 33., 20., 15.,  7.,  2.,  0.]),\n",
       "  array([ 0.,  0.,  4., 14., 22., 31., 14., 11.,  3.,  1.]),\n",
       "  array([ 0.,  1.,  5., 16., 18., 22., 19., 14.,  5.,  0.])],\n",
       " array([-8.58450107, -7.90435518, -7.2242093 , -6.54406342, -5.86391754,\n",
       "        -5.18377165, -4.50362577, -3.82347989, -3.143334  , -2.46318812,\n",
       "        -1.78304224]),\n",
       " <a list of 10 Lists of Patches objects>)"
      ]
     },
     "execution_count": 162,
     "metadata": {},
     "output_type": "execute_result"
    },
    {
     "data": {
      "image/png": "[encoded data removed]",
      "text/plain": [
       "<Figure size 432x288 with 1 Axes>"
      ]
     },
     "metadata": {
      "needs_background": "light"
     },
     "output_type": "display_data"
    }
   ],
   "source": [
    "pl.hist(np.random.randn(100,10)-5)"
   ]
  },
  {
   "cell_type": "code",
   "execution_count": 163,
   "metadata": {},
   "outputs": [
    {
     "data": {
      "text/plain": [
       "([array([ 1.,  3.,  9., 13., 19., 22., 23.,  8.,  1.,  1.]),\n",
       "  array([ 1.,  3.,  5., 16., 27., 25.,  8., 12.,  2.,  1.]),\n",
       "  array([ 2.,  1.,  7., 14., 23., 27., 12.,  9.,  4.,  1.]),\n",
       "  array([ 0.,  2.,  5., 13., 20., 24., 15., 12.,  9.,  0.]),\n",
       "  array([ 0.,  3.,  4., 10., 22., 28., 21.,  6.,  5.,  1.]),\n",
       "  array([ 0.,  3.,  3.,  9., 24., 26., 17., 10.,  8.,  0.]),\n",
       "  array([ 0.,  0.,  4.,  8., 20., 30., 20., 11.,  6.,  1.]),\n",
       "  array([ 1.,  1.,  8., 10., 26., 28., 14.,  6.,  6.,  0.]),\n",
       "  array([ 0.,  1.,  4.,  8., 24., 22., 20., 13.,  7.,  1.]),\n",
       "  array([ 0.,  2.,  7.,  9., 26., 31., 12.,  9.,  3.,  1.])],\n",
       " array([-3.27338074, -2.65323168, -2.03308262, -1.41293356, -0.7927845 ,\n",
       "        -0.17263544,  0.44751362,  1.06766268,  1.68781174,  2.3079608 ,\n",
       "         2.92810986]),\n",
       " <a list of 10 Lists of Patches objects>)"
      ]
     },
     "execution_count": 163,
     "metadata": {},
     "output_type": "execute_result"
    },
    {
     "data": {
      "image/png": "[encoded data removed]",
      "text/plain": [
       "<Figure size 432x288 with 1 Axes>"
      ]
     },
     "metadata": {
      "needs_background": "light"
     },
     "output_type": "display_data"
    }
   ],
   "source": [
    "pl.hist(np.random.randn(100,10))"
   ]
  },
  {
   "cell_type": "markdown",
   "metadata": {},
   "source": [
    "### _numpy.random.randint_"
   ]
  },
  {
   "cell_type": "markdown",
   "metadata": {},
   "source": [
    "* Return random integers from low (inclusive) to high (exclusive).\n",
    "* Return random integers from the “discrete uniform” distribution of the specified dtype in the “half-open” interval "
   ]
  },
  {
   "cell_type": "markdown",
   "metadata": {},
   "source": [
    "_The output will be one dimensional array with 10 integers from the interval 0 (inclusive) to 3 (exclusive)_"
   ]
  },
  {
   "cell_type": "code",
   "execution_count": 164,
   "metadata": {},
   "outputs": [
    {
     "data": {
      "text/plain": [
       "array([0, 0, 2, 2, 2, 2, 1, 2, 0, 1])"
      ]
     },
     "execution_count": 164,
     "metadata": {},
     "output_type": "execute_result"
    }
   ],
   "source": [
    "np.random.randint(3, size=10)"
   ]
  },
  {
   "cell_type": "markdown",
   "metadata": {},
   "source": [
    "_The range can be determined by specifying the high paramenter. In this case the range is defined from -3 included to 0 excluded._ "
   ]
  },
  {
   "cell_type": "code",
   "execution_count": 165,
   "metadata": {},
   "outputs": [
    {
     "data": {
      "text/plain": [
       "array([-1, -3, -1, -1, -3, -1, -2, -3, -1, -2])"
      ]
     },
     "execution_count": 165,
     "metadata": {},
     "output_type": "execute_result"
    }
   ],
   "source": [
    "np.random.randint(-3,0, size=10)"
   ]
  },
  {
   "cell_type": "markdown",
   "metadata": {},
   "source": [
    "_Parameter \"size\" can determine more dimensional arrays of integers_"
   ]
  },
  {
   "cell_type": "code",
   "execution_count": 166,
   "metadata": {},
   "outputs": [
    {
     "data": {
      "text/plain": [
       "array([[3, 4, 4, 0],\n",
       "       [1, 2, 3, 0]])"
      ]
     },
     "execution_count": 166,
     "metadata": {},
     "output_type": "execute_result"
    }
   ],
   "source": [
    "np.random.randint(5, size=(2, 4))\n"
   ]
  },
  {
   "cell_type": "markdown",
   "metadata": {},
   "source": [
    "_TypeError below proves that parameter low integer is mandatory. The interval is not specified like in some other functions._"
   ]
  },
  {
   "cell_type": "code",
   "execution_count": 167,
   "metadata": {},
   "outputs": [
    {
     "ename": "TypeError",
     "evalue": "randint() takes at least 1 positional argument (0 given)",
     "output_type": "error",
     "traceback": [
      "\u001b[1;31m---------------------------------------------------------------------------\u001b[0m",
      "\u001b[1;31mTypeError\u001b[0m                                 Traceback (most recent call last)",
      "\u001b[1;32m<ipython-input-167-f49e882374b2>\u001b[0m in \u001b[0;36m<module>\u001b[1;34m\u001b[0m\n\u001b[1;32m----> 1\u001b[1;33m \u001b[0mnp\u001b[0m\u001b[1;33m.\u001b[0m\u001b[0mrandom\u001b[0m\u001b[1;33m.\u001b[0m\u001b[0mrandint\u001b[0m\u001b[1;33m(\u001b[0m\u001b[0msize\u001b[0m\u001b[1;33m=\u001b[0m\u001b[1;33m(\u001b[0m\u001b[1;36m2\u001b[0m\u001b[1;33m,\u001b[0m \u001b[1;36m4\u001b[0m\u001b[1;33m)\u001b[0m\u001b[1;33m)\u001b[0m\u001b[1;33m\u001b[0m\u001b[1;33m\u001b[0m\u001b[0m\n\u001b[0m",
      "\u001b[1;32mmtrand.pyx\u001b[0m in \u001b[0;36mmtrand.RandomState.randint\u001b[1;34m()\u001b[0m\n",
      "\u001b[1;31mTypeError\u001b[0m: randint() takes at least 1 positional argument (0 given)"
     ]
    }
   ],
   "source": [
    "np.random.randint(size=(2, 4))\n"
   ]
  },
  {
   "cell_type": "markdown",
   "metadata": {},
   "source": [
    "### _numpy.random.choice_"
   ]
  },
  {
   "cell_type": "markdown",
   "metadata": {},
   "source": [
    "Generates a random sample from a given 1-D array"
   ]
  },
  {
   "cell_type": "markdown",
   "metadata": {},
   "source": [
    "_Generate a uniform random sample from np.arange(5) of size 4_"
   ]
  },
  {
   "cell_type": "code",
   "execution_count": 168,
   "metadata": {},
   "outputs": [
    {
     "data": {
      "text/plain": [
       "array([2, 2, 4, 0])"
      ]
     },
     "execution_count": 168,
     "metadata": {},
     "output_type": "execute_result"
    }
   ],
   "source": [
    " np.random.choice(5, 4)"
   ]
  },
  {
   "cell_type": "markdown",
   "metadata": {},
   "source": [
    "The probabalities associated with entry can be defined by p. If p is not specified, the uniform distribution will be assumed across all samples.\n"
   ]
  },
  {
   "cell_type": "markdown",
   "metadata": {},
   "source": [
    "_In example below, 3 integers will be selected from the interval 0 to 5, when integer 2 has 60% chance to be selected. On the other side, integer 1 and 4 has zero probability to be selected._"
   ]
  },
  {
   "cell_type": "code",
   "execution_count": 169,
   "metadata": {},
   "outputs": [
    {
     "data": {
      "text/plain": [
       "array([2, 2, 2], dtype=int64)"
      ]
     },
     "execution_count": 169,
     "metadata": {},
     "output_type": "execute_result"
    }
   ],
   "source": [
    "np.random.choice(6, 3, p=[0.1, 0, 0.6, 0.2, 0, 0.1])"
   ]
  },
  {
   "cell_type": "markdown",
   "metadata": {},
   "source": [
    "__\"Replace\"__ parameter defines whether the sample is with or without replacement. \n"
   ]
  },
  {
   "cell_type": "markdown",
   "metadata": {},
   "source": [
    "_In example below we generate a non-uniform random sample with same probabilities like in example above without replacement_"
   ]
  },
  {
   "cell_type": "code",
   "execution_count": 170,
   "metadata": {},
   "outputs": [
    {
     "data": {
      "text/plain": [
       "array([2, 3, 5])"
      ]
     },
     "execution_count": 170,
     "metadata": {},
     "output_type": "execute_result"
    }
   ],
   "source": [
    "np.random.choice(6, 3, replace=False, p=[0.1, 0, 0.6, 0.2, 0, 0.1])"
   ]
  },
  {
   "cell_type": "markdown",
   "metadata": {},
   "source": [
    "_If we increase the sample size above the size of probable number specified by p, the result will be error. Based on probability defined above, only integers zero, two, three and five can be generated without repetition._"
   ]
  },
  {
   "cell_type": "code",
   "execution_count": 171,
   "metadata": {},
   "outputs": [
    {
     "ename": "ValueError",
     "evalue": "Fewer non-zero entries in p than size",
     "output_type": "error",
     "traceback": [
      "\u001b[1;31m---------------------------------------------------------------------------\u001b[0m",
      "\u001b[1;31mValueError\u001b[0m                                Traceback (most recent call last)",
      "\u001b[1;32m<ipython-input-171-b7f2f2584f65>\u001b[0m in \u001b[0;36m<module>\u001b[1;34m\u001b[0m\n\u001b[1;32m----> 1\u001b[1;33m \u001b[0mnp\u001b[0m\u001b[1;33m.\u001b[0m\u001b[0mrandom\u001b[0m\u001b[1;33m.\u001b[0m\u001b[0mchoice\u001b[0m\u001b[1;33m(\u001b[0m\u001b[1;36m6\u001b[0m\u001b[1;33m,\u001b[0m \u001b[1;36m5\u001b[0m\u001b[1;33m,\u001b[0m \u001b[0mreplace\u001b[0m\u001b[1;33m=\u001b[0m\u001b[1;32mFalse\u001b[0m\u001b[1;33m,\u001b[0m \u001b[0mp\u001b[0m\u001b[1;33m=\u001b[0m\u001b[1;33m[\u001b[0m\u001b[1;36m0.1\u001b[0m\u001b[1;33m,\u001b[0m \u001b[1;36m0\u001b[0m\u001b[1;33m,\u001b[0m \u001b[1;36m0.6\u001b[0m\u001b[1;33m,\u001b[0m \u001b[1;36m0.2\u001b[0m\u001b[1;33m,\u001b[0m \u001b[1;36m0\u001b[0m\u001b[1;33m,\u001b[0m \u001b[1;36m0.1\u001b[0m\u001b[1;33m]\u001b[0m\u001b[1;33m)\u001b[0m\u001b[1;33m\u001b[0m\u001b[1;33m\u001b[0m\u001b[0m\n\u001b[0m",
      "\u001b[1;32mmtrand.pyx\u001b[0m in \u001b[0;36mmtrand.RandomState.choice\u001b[1;34m()\u001b[0m\n",
      "\u001b[1;31mValueError\u001b[0m: Fewer non-zero entries in p than size"
     ]
    }
   ],
   "source": [
    "np.random.choice(6, 5, replace=False, p=[0.1, 0, 0.6, 0.2, 0, 0.1])"
   ]
  },
  {
   "cell_type": "markdown",
   "metadata": {},
   "source": [
    "_Any of the above can be repeated with an arbitrary array-like instead of just integers. For instance:_"
   ]
  },
  {
   "cell_type": "code",
   "execution_count": 172,
   "metadata": {},
   "outputs": [
    {
     "data": {
      "text/plain": [
       "array(['Miso', 'Baba', 'Martina'], dtype='<U7')"
      ]
     },
     "execution_count": 172,
     "metadata": {},
     "output_type": "execute_result"
    }
   ],
   "source": [
    "crkon_family = [\"Martina\", \"Miso\", \"Oliver\",\"Alan\",\"Baba\",\"Beana\"]\n",
    "np.random.choice(crkon_family,3,replace=False, p=[0.4,0.2,0.1,0.1,0.2,0])"
   ]
  },
  {
   "cell_type": "markdown",
   "metadata": {},
   "source": [
    "### _numpy.random.random_\n"
   ]
  },
  {
   "cell_type": "markdown",
   "metadata": {},
   "source": [
    "Return random floats in the half-open interval [0.0,1.0). "
   ]
  },
  {
   "cell_type": "markdown",
   "metadata": {},
   "source": [
    "The outcome is from the \"continuous uniform\" distribution over tthe stated interval."
   ]
  },
  {
   "cell_type": "markdown",
   "metadata": {},
   "source": [
    "_Returns one integer from the interval [0.0,1.0) -zero inclusive, 1 exclusive_"
   ]
  },
  {
   "cell_type": "code",
   "execution_count": 173,
   "metadata": {},
   "outputs": [
    {
     "data": {
      "text/plain": [
       "0.25310847040110684"
      ]
     },
     "execution_count": 173,
     "metadata": {},
     "output_type": "execute_result"
    }
   ],
   "source": [
    "np.random.random_sample()"
   ]
  },
  {
   "cell_type": "markdown",
   "metadata": {},
   "source": [
    "_The numbers in the brackets defines the shape of the array_"
   ]
  },
  {
   "cell_type": "code",
   "execution_count": 174,
   "metadata": {},
   "outputs": [],
   "source": [
    "a = np.random.random_sample((2,4))"
   ]
  },
  {
   "cell_type": "markdown",
   "metadata": {},
   "source": [
    "_To confirm number of axes_"
   ]
  },
  {
   "cell_type": "code",
   "execution_count": 175,
   "metadata": {},
   "outputs": [
    {
     "data": {
      "text/plain": [
       "2"
      ]
     },
     "execution_count": 175,
     "metadata": {},
     "output_type": "execute_result"
    }
   ],
   "source": [
    "a.ndim"
   ]
  },
  {
   "cell_type": "markdown",
   "metadata": {},
   "source": [
    "_To confirm the range along each available axis_"
   ]
  },
  {
   "cell_type": "code",
   "execution_count": 176,
   "metadata": {},
   "outputs": [
    {
     "data": {
      "text/plain": [
       "(2, 4)"
      ]
     },
     "execution_count": 176,
     "metadata": {},
     "output_type": "execute_result"
    }
   ],
   "source": [
    "a.shape"
   ]
  },
  {
   "cell_type": "code",
   "execution_count": 177,
   "metadata": {},
   "outputs": [
    {
     "name": "stdout",
     "output_type": "stream",
     "text": [
      "[[0.81574826 0.69735614 0.9697576  0.53180028]\n",
      " [0.98000419 0.66391595 0.42577448 0.69170948]]\n"
     ]
    }
   ],
   "source": [
    "print(a)"
   ]
  },
  {
   "cell_type": "markdown",
   "metadata": {},
   "source": [
    "Examples how the interval can be manipulated:\n",
    "* the starting point from which the half open interval [0.0,1.0) is taken can be changed by the number behind the brackets\n",
    "\n",
    "_In this case below the interval was altered to [100.0,101.0)_"
   ]
  },
  {
   "cell_type": "code",
   "execution_count": 178,
   "metadata": {},
   "outputs": [
    {
     "data": {
      "text/plain": [
       "array([[100.22923152, 100.63382632],\n",
       "       [100.63126946, 100.67163264]])"
      ]
     },
     "execution_count": 178,
     "metadata": {},
     "output_type": "execute_result"
    }
   ],
   "source": [
    "np.random.random_sample((2,2))+100"
   ]
  },
  {
   "cell_type": "markdown",
   "metadata": {},
   "source": [
    "_The starting point can be the negative integer also.\n",
    "In example below, the range was altered to [-100.0,-99.0)_"
   ]
  },
  {
   "cell_type": "code",
   "execution_count": 179,
   "metadata": {},
   "outputs": [
    {
     "data": {
      "text/plain": [
       "array([[-99.81900776, -99.28749534],\n",
       "       [-99.51396165, -99.56714251]])"
      ]
     },
     "execution_count": 179,
     "metadata": {},
     "output_type": "execute_result"
    }
   ],
   "source": [
    "np.random.random_sample((2,2))-100"
   ]
  },
  {
   "cell_type": "markdown",
   "metadata": {},
   "source": [
    "_the interval can be altered by multiplying the range and extending the interval [0.0,1.0) by the multiplyed value. \n",
    "Example below amend the range to [100.0,103.0)_"
   ]
  },
  {
   "cell_type": "code",
   "execution_count": 180,
   "metadata": {},
   "outputs": [
    {
     "data": {
      "text/plain": [
       "array([[100.48712823, 101.01707592],\n",
       "       [102.60986688, 102.17854129]])"
      ]
     },
     "execution_count": 180,
     "metadata": {},
     "output_type": "execute_result"
    }
   ],
   "source": [
    "3 * np.random.random_sample((2,2))+100"
   ]
  },
  {
   "cell_type": "markdown",
   "metadata": {},
   "source": [
    "### 1b, Permutations\n"
   ]
  },
  {
   "cell_type": "markdown",
   "metadata": {},
   "source": [
    "### _numpy.random.permutation_"
   ]
  },
  {
   "cell_type": "markdown",
   "metadata": {},
   "source": [
    "A permutation is ordered combination. Parameter x can be integer or array. If x is integer, the outcome will be permutation. If x is array, the copy is made and the elements are shuffled randomly "
   ]
  },
  {
   "cell_type": "markdown",
   "metadata": {},
   "source": [
    "_Random permutation of values from sequence 0 to 9_"
   ]
  },
  {
   "cell_type": "code",
   "execution_count": 181,
   "metadata": {},
   "outputs": [
    {
     "data": {
      "text/plain": [
       "array([8, 4, 2, 0, 3, 5, 9, 1, 6, 7])"
      ]
     },
     "execution_count": 181,
     "metadata": {},
     "output_type": "execute_result"
    }
   ],
   "source": [
    "np.random.permutation(10)"
   ]
  },
  {
   "cell_type": "markdown",
   "metadata": {},
   "source": [
    "_Sample of randomly selected items from the list provided, with no repetition._"
   ]
  },
  {
   "cell_type": "code",
   "execution_count": 182,
   "metadata": {},
   "outputs": [
    {
     "data": {
      "text/plain": [
       "array([ 1,  8, 16, 12, 15])"
      ]
     },
     "execution_count": 182,
     "metadata": {},
     "output_type": "execute_result"
    }
   ],
   "source": [
    "np.random.permutation([1, 8, 12, 16, 15])"
   ]
  },
  {
   "cell_type": "markdown",
   "metadata": {},
   "source": [
    "_Examples below prove, that in case of array, the first axes are shuffled randomly but their contents remains same._"
   ]
  },
  {
   "cell_type": "code",
   "execution_count": 183,
   "metadata": {},
   "outputs": [
    {
     "data": {
      "text/plain": [
       "array([[3, 4, 5],\n",
       "       [0, 1, 2],\n",
       "       [6, 7, 8]])"
      ]
     },
     "execution_count": 183,
     "metadata": {},
     "output_type": "execute_result"
    }
   ],
   "source": [
    "arr = np.arange(9).reshape((3, 3))\n",
    "np.random.permutation(arr)"
   ]
  },
  {
   "cell_type": "code",
   "execution_count": 184,
   "metadata": {},
   "outputs": [
    {
     "data": {
      "text/plain": [
       "array([[3, 4, 5],\n",
       "       [0, 1, 2],\n",
       "       [6, 7, 8]])"
      ]
     },
     "execution_count": 184,
     "metadata": {},
     "output_type": "execute_result"
    }
   ],
   "source": [
    "arr = np.arange(9).reshape((3, 3))\n",
    "np.random.permutation(arr)"
   ]
  },
  {
   "cell_type": "markdown",
   "metadata": {},
   "source": [
    "### _numpy.random.shuffle_"
   ]
  },
  {
   "cell_type": "markdown",
   "metadata": {},
   "source": [
    "Used for sequence modification by shuffling its contents. This function only shuffles the array along the first axis of a multi-dimensional array. The order of sub-arrays is changed but their contents remains the same."
   ]
  },
  {
   "cell_type": "markdown",
   "metadata": {},
   "source": [
    "_The list 0 to 10 (exclusive) modified by shuffling its contents_"
   ]
  },
  {
   "cell_type": "code",
   "execution_count": 185,
   "metadata": {},
   "outputs": [
    {
     "data": {
      "text/plain": [
       "array([4, 6, 8, 0, 3, 9, 7, 1, 5, 2])"
      ]
     },
     "execution_count": 185,
     "metadata": {},
     "output_type": "execute_result"
    }
   ],
   "source": [
    "arr = np.arange(10)\n",
    "np.random.shuffle(arr)\n",
    "arr"
   ]
  },
  {
   "cell_type": "markdown",
   "metadata": {},
   "source": [
    "_Multi-dimensional arrays are only shuffled along the first axis:_"
   ]
  },
  {
   "cell_type": "code",
   "execution_count": 186,
   "metadata": {},
   "outputs": [
    {
     "data": {
      "text/plain": [
       "array([[0, 1, 2],\n",
       "       [3, 4, 5],\n",
       "       [6, 7, 8]])"
      ]
     },
     "execution_count": 186,
     "metadata": {},
     "output_type": "execute_result"
    }
   ],
   "source": [
    "arr = np.arange(9).reshape((3, 3))\n",
    "np.random.shuffle(arr)\n",
    "arr"
   ]
  },
  {
   "cell_type": "markdown",
   "metadata": {},
   "source": [
    "_Note: Difference between permutation and shuffle_\n",
    "* _if passed an array, it will return a shuffled copy of the array; np.random.shuffle shuffles the array inplace_\n",
    "* _if passed an integer, it will return a shuffled range i.e. np.random.shuffle(np.arange(n))_\n",
    "\n",
    "_source:https://stackoverflow.com/questions/15474159/shuffle-vs-permute-numpy_\n",
    "\n"
   ]
  },
  {
   "cell_type": "markdown",
   "metadata": {},
   "source": [
    "## 2.DISTRIBUTIONS"
   ]
  },
  {
   "cell_type": "markdown",
   "metadata": {},
   "source": [
    "A distribution is a listing of the possible values of a variable (or intervals of values), and how often (or at what density) they occur.<br/>\n",
    "\n",
    "_Source: Statistics for Dummies, Deborah J.Rumsey, Phd_\n",
    "\n",
    "**Note: For definitions of different kind of distributions refer to Readme document.**"
   ]
  },
  {
   "cell_type": "markdown",
   "metadata": {},
   "source": [
    "### _Numpy.random.standard_normal_"
   ]
  },
  {
   "cell_type": "markdown",
   "metadata": {},
   "source": [
    "Output-samples from a standard normal distribution (mean=0, standard deviation=1)."
   ]
  },
  {
   "cell_type": "markdown",
   "metadata": {},
   "source": [
    "_The example below shows array of 100 randomply selected values which are drawn from a standard normal distribution with mean 0 and standard deviation 1.<br/>\n",
    "Plot below shows typical bell shaped graph of standard normal distribution_"
   ]
  },
  {
   "cell_type": "code",
   "execution_count": 187,
   "metadata": {},
   "outputs": [],
   "source": [
    " s = np.random.standard_normal(100)"
   ]
  },
  {
   "cell_type": "code",
   "execution_count": 188,
   "metadata": {},
   "outputs": [
    {
     "name": "stdout",
     "output_type": "stream",
     "text": [
      "[ 1.46555880e+00 -1.51872093e+00  1.27808011e+00 -1.29546019e+00\n",
      " -1.68287192e+00 -6.73475780e-01  4.35116463e-01  6.54363302e-01\n",
      " -1.12668217e+00  2.17336684e-01  3.18118690e-02  6.16791840e-01\n",
      " -2.10182761e-01  1.29109062e+00 -1.10827996e+00 -1.18825673e+00\n",
      "  1.04083582e-01 -1.94190484e-01 -1.46292503e+00 -1.77008883e+00\n",
      "  6.74277328e-01  7.86776717e-01  4.41573844e-01 -1.38387425e+00\n",
      "  9.28192839e-01 -4.92233417e-01 -3.76539593e-01  4.04957659e-01\n",
      " -5.48776371e-01 -4.36419432e-01  6.90956521e-01  7.02428808e-01\n",
      " -1.83497821e+00 -7.21553542e-02  2.24800254e+00  1.39330279e+00\n",
      " -7.62959476e-01  2.86472691e-01  3.11876635e-01  9.51309479e-01\n",
      " -4.70968824e-01  7.00634587e-01 -2.12049885e+00 -7.72514680e-01\n",
      " -1.04465194e-01 -1.07678417e-03  1.50092685e+00  7.75675780e-01\n",
      "  2.02826507e+00 -8.15061060e-01 -2.61423190e-01  9.96412715e-01\n",
      " -1.14580606e+00 -1.01116426e-01  5.79454795e-01  2.72551533e-01\n",
      " -1.63639671e-02  5.37168671e-01  2.88228938e-01 -8.35985171e-01\n",
      "  1.42489876e+00  1.44229046e-01 -2.23375307e-01  7.66765235e-01\n",
      "  3.86188132e-01 -9.27508377e-01  4.75391049e-01  1.72410355e-01\n",
      "  4.78408513e-01  6.54453827e-01 -9.03127849e-01 -2.35776999e-01\n",
      "  2.93035773e-01  7.59182365e-01 -1.37897094e+00 -1.03655415e-01\n",
      "  1.68979455e-02 -6.07191983e-01 -6.72695675e-01  1.40720338e-01\n",
      " -1.01092682e+00  8.35594970e-01  2.46134101e+00  6.75595419e-01\n",
      "  8.58593868e-01  3.75563836e-01  4.34225383e-02  8.72772110e-01\n",
      "  7.52593973e-01 -1.64621869e-01 -3.08052880e-01  1.59373131e+00\n",
      "  8.77717707e-01  7.53849742e-01 -1.73783780e+00 -3.80364673e-01\n",
      "  1.14592876e+00 -1.32634382e+00 -2.74713563e-01  8.15650267e-01]\n"
     ]
    }
   ],
   "source": [
    "print(s)"
   ]
  },
  {
   "cell_type": "code",
   "execution_count": 189,
   "metadata": {},
   "outputs": [
    {
     "data": {
      "text/plain": [
       "(array([ 5.,  6., 11., 10., 19., 17., 21.,  7.,  1.,  3.]),\n",
       " array([-2.12049885, -1.66231486, -1.20413088, -0.74594689, -0.28776291,\n",
       "         0.17042108,  0.62860506,  1.08678905,  1.54497304,  2.00315702,\n",
       "         2.46134101]),\n",
       " <a list of 10 Patch objects>)"
      ]
     },
     "execution_count": 189,
     "metadata": {},
     "output_type": "execute_result"
    },
    {
     "data": {
      "image/png": "[encoded data removed]",
      "text/plain": [
       "<Figure size 432x288 with 1 Axes>"
      ]
     },
     "metadata": {
      "needs_background": "light"
     },
     "output_type": "display_data"
    }
   ],
   "source": [
    "pl.hist(s)"
   ]
  },
  {
   "cell_type": "markdown",
   "metadata": {},
   "source": [
    "The distribution is pre-defined with the mean equaling to 0 and standard deviation of 1. This is contributing that 68% of data falls within 1 standard deviation of the mean, arond 95% within 2 standard deviations of mean and 99.7% of the data within 3 standard deviations of the mean."
   ]
  },
  {
   "cell_type": "markdown",
   "metadata": {},
   "source": [
    "Examples of normal distributions from real life:\n",
    "* height\n",
    "* IQ graph\n",
    "* shares prices in the stock market\n",
    "* income distribution in economy\n",
    "* shoe size\n",
    "* birth weight\n",
    "\n",
    "_Source:_\n",
    ">https://studiousguy.com/real-life-examples-normal-distribution/"
   ]
  },
  {
   "cell_type": "markdown",
   "metadata": {},
   "source": [
    "###  _Numpy.random.uniform_"
   ]
  },
  {
   "cell_type": "markdown",
   "metadata": {},
   "source": [
    "Returns samples from uniform distribution what means that any value within the given interval is equally likely to be selected."
   ]
  },
  {
   "cell_type": "markdown",
   "metadata": {},
   "source": [
    "Parameters in brackets indicate:\n",
    "> the interval \n",
    ">>- Low (included)<br/>\n",
    ">>- High (excluded)<br/>\n",
    "\n",
    "> size -Output shape"
   ]
  },
  {
   "cell_type": "markdown",
   "metadata": {},
   "source": [
    "\n",
    "_In example below parameters define the range from -1 (included) to 0 (excluded) and count of selected integers (10)._"
   ]
  },
  {
   "cell_type": "code",
   "execution_count": 190,
   "metadata": {},
   "outputs": [],
   "source": [
    "s = np.random.uniform(-1,0,10)"
   ]
  },
  {
   "cell_type": "code",
   "execution_count": 191,
   "metadata": {},
   "outputs": [
    {
     "name": "stdout",
     "output_type": "stream",
     "text": [
      "[-0.7282402  -0.26498646 -0.2645445  -0.68570305 -0.10893743 -0.41703075\n",
      " -0.75303872 -0.87764233 -0.39087266 -0.36680193]\n"
     ]
    }
   ],
   "source": [
    "print(s)"
   ]
  },
  {
   "cell_type": "markdown",
   "metadata": {},
   "source": [
    "_In the case that the first parameter is not the lowest of the values, python can still identified the lowest parameter and run the code. No error will be displayed._    "
   ]
  },
  {
   "cell_type": "code",
   "execution_count": 192,
   "metadata": {},
   "outputs": [],
   "source": [
    "s = np.random.uniform(5,-6,10)"
   ]
  },
  {
   "cell_type": "code",
   "execution_count": 193,
   "metadata": {},
   "outputs": [
    {
     "name": "stdout",
     "output_type": "stream",
     "text": [
      "[-5.71291369 -4.30553812  4.8124505  -0.82149612 -3.90594544  1.83624493\n",
      " -4.84743413 -3.1133498   3.34011256  4.15297268]\n"
     ]
    }
   ],
   "source": [
    "print(s)"
   ]
  },
  {
   "cell_type": "markdown",
   "metadata": {},
   "source": [
    "_If no parameter for size is provided, by default only one float number is selected_"
   ]
  },
  {
   "cell_type": "code",
   "execution_count": 194,
   "metadata": {},
   "outputs": [],
   "source": [
    "s = np.random.uniform(2,4)"
   ]
  },
  {
   "cell_type": "code",
   "execution_count": 195,
   "metadata": {},
   "outputs": [
    {
     "name": "stdout",
     "output_type": "stream",
     "text": [
      "2.1365434843144575\n"
     ]
    }
   ],
   "source": [
    "print(s)"
   ]
  },
  {
   "cell_type": "markdown",
   "metadata": {},
   "source": [
    "_Plot displayed below proves that the values are distributed equaly._"
   ]
  },
  {
   "cell_type": "code",
   "execution_count": 196,
   "metadata": {},
   "outputs": [],
   "source": [
    "s = np.random.uniform(5,10,1000)"
   ]
  },
  {
   "cell_type": "code",
   "execution_count": 197,
   "metadata": {},
   "outputs": [
    {
     "data": {
      "text/plain": [
       "(array([ 99.,  87., 102.,  94., 108., 111., 100.,  92., 107., 100.]),\n",
       " array([5.00209046, 5.50052887, 5.99896728, 6.49740568, 6.99584409,\n",
       "        7.4942825 , 7.9927209 , 8.49115931, 8.98959772, 9.48803612,\n",
       "        9.98647453]),\n",
       " <a list of 10 Patch objects>)"
      ]
     },
     "execution_count": 197,
     "metadata": {},
     "output_type": "execute_result"
    },
    {
     "data": {
      "image/png": "[encoded data removed]",
      "text/plain": [
       "<Figure size 432x288 with 1 Axes>"
      ]
     },
     "metadata": {
      "needs_background": "light"
     },
     "output_type": "display_data"
    }
   ],
   "source": [
    "pl.hist(s)"
   ]
  },
  {
   "cell_type": "markdown",
   "metadata": {},
   "source": [
    "The most common real life examples of uniform distribution are when we do not have any information that could favour one observation over another.\n",
    "* The day of the week of the hottest day of a year (can be equally any of the seven days)\n",
    "* The last digit of the social security number of USa citizen (can be equally any digit from 0 to 9)\n",
    "* The bus is scheduled to come once per hour. If you come to the bus stop and you do not know when the last bus left, the arrival time of the next bus is a continuous uniform distribution\n",
    "\n",
    "_Source:_\n",
    ">https://www.quora.com/What-are-the-real-life-examples-of-uniform-distribution <br/>\n",
    ">https://math.stackexchange.com/questions/1412305/real-world-examples-of-continuous-uniform-distribution-on-0-1"
   ]
  },
  {
   "cell_type": "markdown",
   "metadata": {},
   "source": [
    "### Pareto distribution"
   ]
  },
  {
   "cell_type": "markdown",
   "metadata": {},
   "source": [
    "The output are the samples from Pareto II or Lomax distribution with specified shape. Lomax can also be considered as a simplified version of the Generalized Pareto distribution, with the scale set to one and the location set to zero."
   ]
  },
  {
   "cell_type": "markdown",
   "metadata": {},
   "source": [
    "The Pareto distribution is also known as the “80-20 rule”. In this distribution, 80 percent of the weights are in the lowest 20 percent of the range, while the other 20 percent fill the remaining 80 percent of the range."
   ]
  },
  {
   "cell_type": "markdown",
   "metadata": {},
   "source": [
    "First parameter defined the shape of distribution. Needs to be higher than 0.Second parameter is for output shape."
   ]
  },
  {
   "cell_type": "code",
   "execution_count": 198,
   "metadata": {},
   "outputs": [],
   "source": [
    "a, m = 1000., 1.\n",
    "s = (np.random.pareto(a, 1000) + 10) * m"
   ]
  },
  {
   "cell_type": "code",
   "execution_count": 199,
   "metadata": {},
   "outputs": [
    {
     "data": {
      "text/plain": [
       "(array([437., 280., 110.,  70.,  40.,  30.,  15.,   5.,   5.,   8.]),\n",
       " array([10.00000056, 10.00058405, 10.00116755, 10.00175104, 10.00233454,\n",
       "        10.00291803, 10.00350153, 10.00408502, 10.00466852, 10.00525201,\n",
       "        10.0058355 ]),\n",
       " <a list of 10 Patch objects>)"
      ]
     },
     "execution_count": 199,
     "metadata": {},
     "output_type": "execute_result"
    },
    {
     "data": {
      "image/png": "[encoded data removed]",
      "text/plain": [
       "<Figure size 432x288 with 1 Axes>"
      ]
     },
     "metadata": {
      "needs_background": "light"
     },
     "output_type": "display_data"
    }
   ],
   "source": [
    "pl.hist(s)"
   ]
  },
  {
   "cell_type": "markdown",
   "metadata": {},
   "source": [
    "Real life examples of Pareto principle:\n",
    "* A 2002 report from Microsoft found that “80 percent of the errors and crashes in Windows and Office are caused by 20 percent of the entire pool of bugs detected.”\n",
    "* 20% of the world's population controls 82.7% of the world's income\n",
    "* 20% of patients use 80% of healthcare resources\n",
    "\n",
    "_Source:_\n",
    ">https://www.linkedin.com/pulse/3-real-world-examples-pareto-principle-gregory-warner\n"
   ]
  },
  {
   "cell_type": "markdown",
   "metadata": {},
   "source": [
    "### numpy.random.binomial"
   ]
  },
  {
   "cell_type": "markdown",
   "metadata": {},
   "source": [
    "Samples are drawn from a binomial distribution with specified parameters, n trials and p probability of success where n an integer >= 0 and p is in the interval [0,1]. (n may be input as a float, but it is truncated to an integer in use). In other words, the binomial distribution can be thought as simply the probability of a SUCCESS or FAILURE outcome in an experiment or survey that is repeated multiple times."
   ]
  },
  {
   "cell_type": "markdown",
   "metadata": {},
   "source": [
    "_Below are result of flipping a coin 10 times, tested 100 times.The probablity is 0.5 as 50% chance that each side of coin fall._"
   ]
  },
  {
   "cell_type": "code",
   "execution_count": 200,
   "metadata": {},
   "outputs": [],
   "source": [
    "n, p = 10, .5  \n",
    "s = np.random.binomial(n, p, 100)"
   ]
  },
  {
   "cell_type": "code",
   "execution_count": 201,
   "metadata": {},
   "outputs": [
    {
     "name": "stdout",
     "output_type": "stream",
     "text": [
      "[3 5 5 4 5 6 3 4 3 5 4 6 4 4 3 2 4 6 5 5 4 6 3 5 5 4 6 5 5 7 7 3 5 6 4 3 7\n",
      " 6 4 1 7 5 8 3 4 4 4 6 5 5 6 6 3 8 5 3 3 5 3 4 6 6 6 8 4 5 5 3 7 3 3 5 4 5\n",
      " 6 7 6 4 4 7 2 5 3 4 6 4 3 3 7 5 3 5 5 3 3 6 7 6 9 8]\n"
     ]
    }
   ],
   "source": [
    "print(s)"
   ]
  },
  {
   "cell_type": "markdown",
   "metadata": {},
   "source": [
    "The first result can be interpreted, that out of 10 times flipping a coin, 5 times the same side of coin was revealed. This was simulated for another 9x10 flips of the coin."
   ]
  },
  {
   "cell_type": "markdown",
   "metadata": {},
   "source": [
    "Real life example of binomial distribution.\n",
    "* New drug is introduced to cure the disease, the outcome is succes (it cures the disease) or failure\n",
    "* By purchasing the lottery tickets, the output is either win or loss\n",
    "\n",
    "_Source:_\n",
    ">https://www.statisticshowto.datasciencecentral.com/probability-and-statistics/binomial-theorem/binomial-distribution-formula/"
   ]
  },
  {
   "cell_type": "markdown",
   "metadata": {},
   "source": [
    "### Poisson distribution"
   ]
  },
  {
   "cell_type": "markdown",
   "metadata": {},
   "source": [
    "The Poisson distribution is the limit of the binomial distribution for large N and probability of success in any trial is small.\n",
    "\n",
    ">Parameters:\n",
    "* lam - total number of events divided by number of units in the data\n",
    "* size - output shape\n"
   ]
  },
  {
   "cell_type": "markdown",
   "metadata": {},
   "source": [
    "_Sample of 1000 values for lambda 5 with the plot below._"
   ]
  },
  {
   "cell_type": "code",
   "execution_count": 202,
   "metadata": {},
   "outputs": [],
   "source": [
    "s = np.random.poisson(5,1000)"
   ]
  },
  {
   "cell_type": "code",
   "execution_count": 203,
   "metadata": {},
   "outputs": [
    {
     "name": "stdout",
     "output_type": "stream",
     "text": [
      "[ 5  2  4  6  5  3  6  9  6  4  3  0  3  4  4  5  4  6  5  4  4  6  7  3\n",
      "  6  7  6  8  3  7  6  4  6  3  5  4  2  6  2  1  1  4  7  4  5  3  6  3\n",
      "  8  7  3 10  4  3  4  3  7  6  3  7  6  2  2  1  4  6  5  4  4  5  6  8\n",
      "  5  5  2  4  2  6  1  7  4  0  6  6  6  5  7  2  6  7  3  9  4  4  8  5\n",
      " 10  5  5  3  2  7  5  3  4  5  4  6  3  6  5  4  4  7  4 12  3  2  3  8\n",
      "  7  9  5 10  7  5  5  5  3  4  2  8  7  4  4  3  5  7  5  3  0  3  5  4\n",
      "  6  9  3  1  5  6  4  1  5  8  4  3  0  6  5  6 11  8  3  8  4  4  2  5\n",
      "  5  6  4  2  4  4  3  5  2  6  7  5  3  7 10 11  5  9  3  5  3  3  4  4\n",
      "  6  0  4  6  7  3  3  6  5 11  7  3  4  5  4  7  1  2  1  5  2  5  1  3\n",
      "  3  2  6  7  6  9  8  5  3  2  6  6  8  7  5  3  4  4  4  4  7  8  4  7\n",
      "  4 11  4  2  5  5  3  7  6  6  4  5  4  9  6  2  5  4  7  2  5  1  6  1\n",
      "  1  3  5  9  2  3  4  3  2  4  5  5  4  5  5  4  2  2  5  5  5  8  5  4\n",
      "  9  5 10  4  7  2  2  4  4  2  9  4  2  4  3  4  4  4  5  3  1  4  7  3\n",
      "  5  9  4  7  1  7  8  3  2  5  5  4  4  3  6  7  5  4  5  7  7  5  4  3\n",
      "  3  8  2  2  8  5  4  4  9  2  1  6  1  6  6  6  6  6  7  9  7  6  4  3\n",
      "  5  6  4  5  7  4  7  6  7  3  5  6  7  7  4  6  7  5  5  4  5  5  4  5\n",
      "  7  5  6  3  3  6  2  1  3  4  9  4  9  3  8  2  3  6  5  6  6  5  3  2\n",
      "  7  7  5  7  5 10  2 10  3  5  9  4  6  2  4  3  6  3  8  3 10  4  6  6\n",
      " 10  1  4  6  5  5  4  2  7  4  7  2  3  7  7  7  5  5  8  3  3  5  6  5\n",
      "  2  6  6  3  2  5  3  5  6  2  7  2  3  8  6  2  4  4  3  4  4  7  8  6\n",
      "  6  7  7  2  4  9  4  5  7  4  8  4  5  5  2  7  5 10  6  5  4  4  6  5\n",
      "  5  5  2  4  9  6  7  5  4 10  7  7  8  6  7  6  6  8  5  6  2  5  8 10\n",
      "  8  3  7  2  5  2  4  5  4  5  7  5  5  8  5  8  5  3  6  3  5  7  4  1\n",
      "  1  9  3  9  6 11  5  8  6  3  7 14  1  6  1  7  4  3  4  5  4  6  3  5\n",
      "  4  5  6  2  1  5  9  4  8  3  2  5  5  2  2  5  5  3  0  6  5  5  4  5\n",
      "  9  4  8  8  7  5  6  6  5  5  5  4  8  3  4  7  2  3  7  9  2  6  8  2\n",
      "  3  6  6  3 10  7  3  2  6  5  2  4  7  6  3  3  2 12  2  5  8  4  2  4\n",
      "  8  3  5  6  5  9  2  5  5  4  5  6  5  6  3  5  6  4  2  6  2  6  3  2\n",
      "  7  6  2  6  6  5  6  4  7  6  9  6  3  3  3  6  3  4  2  6  7  3  5  7\n",
      "  4  7  9  3  7  3  1  2  3 11  6  2  4  4  4  2  8  2  5  2  7  2  2  0\n",
      "  6  8  3  7  6  7  3  4  3  4  5  6  4  9  6  3  4  5  4  6  3  6  4  4\n",
      "  7  7  8  4  4  6  4  5  6  6  9  4  4  3  8  8  4  4  6  2  3  3  4  6\n",
      "  8  3  7  5  6  2  6  2  8  6  5  9  3  2  2  3  4  4  3  2  9  9  3  3\n",
      " 11  5  5  6  4  3  8  3  9  4  5  2  3  4  2  6  4  6  2  4  3  6  6  6\n",
      "  5  4  7  6  2  5  3  5  4  1  8  3  4  7  6  3  5  4  8  1  8  7  7  8\n",
      "  5  4  4  6  7  5  3  6  3  5  4  2  4  4  6  5  4  5  3  3  7  5  9  5\n",
      "  4  8  5  6  4  3  3  6  6  5  4 10  6  2  4  9  7  5  4  4  9  4  5  4\n",
      "  9  7  4  3  3  9  3  7  4  6  7  3  4  4  5  3  5  4  5  9  4  4  6  7\n",
      "  5  4  7  7  4  2  7  5 10  7  6  9  5 10  3  5  8  7  5  4  5  5  6  3\n",
      "  1  2  5  6  4  5  8  7  9  5  4  4  4  5  4  2  3  4  4  3  5  3  9  1\n",
      "  7  5  2  8  3  4  3  4  6  9  4  4  6  6  9  3  4  2  7  6  8  3  7  7\n",
      "  7  6  6  7  5  5  8  4  6  5  4  3  5  8  5  7]\n"
     ]
    }
   ],
   "source": [
    "print(s)"
   ]
  },
  {
   "cell_type": "code",
   "execution_count": 204,
   "metadata": {},
   "outputs": [
    {
     "data": {
      "text/plain": [
       "(array([ 35.,  93., 321., 175., 145., 162.,  43.,  23.,   2.,   1.]),\n",
       " array([ 0. ,  1.4,  2.8,  4.2,  5.6,  7. ,  8.4,  9.8, 11.2, 12.6, 14. ]),\n",
       " <a list of 10 Patch objects>)"
      ]
     },
     "execution_count": 204,
     "metadata": {},
     "output_type": "execute_result"
    },
    {
     "data": {
      "image/png": "[encoded data removed]",
      "text/plain": [
       "<Figure size 432x288 with 1 Axes>"
      ]
     },
     "metadata": {
      "needs_background": "light"
     },
     "output_type": "display_data"
    }
   ],
   "source": [
    "pl.hist(s)"
   ]
  },
  {
   "cell_type": "markdown",
   "metadata": {},
   "source": [
    "Real life examples of Poisson distribution:\n",
    "* The number of aircraft/road accidents in any time interval.\n",
    "* The number of persons suffering from any rare disease in a large population.\n",
    "* The number of suicides reported in a large population.\n",
    "* The number of clicks on any website.\n",
    "\n",
    "_Source:_\n",
    ">https://www.quora.com/What-is-the-real-life-example-of-Poisson-distribution"
   ]
  },
  {
   "cell_type": "markdown",
   "metadata": {},
   "source": [
    "## 3.RANDOM GENERATOR - SEED"
   ]
  },
  {
   "cell_type": "markdown",
   "metadata": {},
   "source": [
    "The Pseudo-Random Number Generators technique was used in all of the sections above. The computer use algorithm to generate random values, which appear to be random but in fact they are patterns in the long run. Very often the same selection of the values needs to be generated. For that pupose seed is used.\n",
    "\n"
   ]
  },
  {
   "cell_type": "markdown",
   "metadata": {},
   "source": [
    "The seed during random number generation is the starting point in the sequence. This can be any number, but it usually comes from seconds on a computer system's clock. A computer counts seconds from January 1, 1970 — a system called Unix time. So for example the Unix epoch time of 1573371715 is for the Sun, 10 November 2019 07:41:55 GMT. Based on this example there is large range for seeds."
   ]
  },
  {
   "cell_type": "markdown",
   "metadata": {},
   "source": [
    "_Source_\n",
    ">https://www.statisticshowto.datasciencecentral.com/random-seed-definition/_"
   ]
  },
  {
   "cell_type": "markdown",
   "metadata": {},
   "source": [
    "I am going to use the __\"np.random.rand\"__ to demonstrate the usage of seed."
   ]
  },
  {
   "cell_type": "markdown",
   "metadata": {},
   "source": [
    "_Two examples below without the use of seed...the output is diferrent range of values_"
   ]
  },
  {
   "cell_type": "code",
   "execution_count": 205,
   "metadata": {},
   "outputs": [
    {
     "data": {
      "text/plain": [
       "array([[0.16431394, 0.76208817, 0.60896165],\n",
       "       [0.70392886, 0.0283614 , 0.53785542]])"
      ]
     },
     "execution_count": 205,
     "metadata": {},
     "output_type": "execute_result"
    }
   ],
   "source": [
    "np.random.rand(2,3)"
   ]
  },
  {
   "cell_type": "code",
   "execution_count": 206,
   "metadata": {},
   "outputs": [
    {
     "data": {
      "text/plain": [
       "array([[0.45665007, 0.12503987, 0.54775972],\n",
       "       [0.93815749, 0.18178275, 0.46883034]])"
      ]
     },
     "execution_count": 206,
     "metadata": {},
     "output_type": "execute_result"
    }
   ],
   "source": [
    "np.random.rand(2,3)"
   ]
  },
  {
   "cell_type": "markdown",
   "metadata": {},
   "source": [
    "_Two examples below with the use of seed...the output are the same values selected_"
   ]
  },
  {
   "cell_type": "code",
   "execution_count": 207,
   "metadata": {},
   "outputs": [
    {
     "data": {
      "text/plain": [
       "array([[0.5488135 , 0.71518937, 0.60276338],\n",
       "       [0.54488318, 0.4236548 , 0.64589411]])"
      ]
     },
     "execution_count": 207,
     "metadata": {},
     "output_type": "execute_result"
    }
   ],
   "source": [
    "np.random.seed(0)\n",
    "np.random.rand(2,3)"
   ]
  },
  {
   "cell_type": "code",
   "execution_count": 208,
   "metadata": {},
   "outputs": [
    {
     "data": {
      "text/plain": [
       "array([[0.5488135 , 0.71518937, 0.60276338],\n",
       "       [0.54488318, 0.4236548 , 0.64589411]])"
      ]
     },
     "execution_count": 208,
     "metadata": {},
     "output_type": "execute_result"
    }
   ],
   "source": [
    "np.random.seed(0)\n",
    "np.random.rand(2,3)"
   ]
  },
  {
   "cell_type": "markdown",
   "metadata": {},
   "source": [
    "_Different seed used is giving the different output_"
   ]
  },
  {
   "cell_type": "code",
   "execution_count": 209,
   "metadata": {},
   "outputs": [
    {
     "data": {
      "text/plain": [
       "array([[0.77132064, 0.02075195, 0.63364823],\n",
       "       [0.74880388, 0.49850701, 0.22479665]])"
      ]
     },
     "execution_count": 209,
     "metadata": {},
     "output_type": "execute_result"
    }
   ],
   "source": [
    "np.random.seed(10)\n",
    "np.random.rand(2,3)"
   ]
  }
 ],
 "metadata": {
  "kernelspec": {
   "display_name": "Python 3",
   "language": "python",
   "name": "python3"
  },
  "language_info": {
   "codemirror_mode": {
    "name": "ipython",
    "version": 3
   },
   "file_extension": ".py",
   "mimetype": "text/x-python",
   "name": "python",
   "nbconvert_exporter": "python",
   "pygments_lexer": "ipython3",
   "version": "3.7.3"
  }
 },
 "nbformat": 4,
 "nbformat_minor": 2
}
