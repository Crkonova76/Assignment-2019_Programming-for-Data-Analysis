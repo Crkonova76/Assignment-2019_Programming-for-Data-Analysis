{
 "cells": [
  {
   "cell_type": "code",
   "execution_count": 2,
   "metadata": {},
   "outputs": [],
   "source": []
  },
  {
   "cell_type": "markdown",
   "metadata": {},
   "source": [
    "# NUMPY.RANDOM PACKAGE\n",
    "\n",
    "## Overal purpose of package\n",
    "\n",
    "The random module in Numpy package contains many functions for used for generation of random numbers. In order to understand the main purpose of the package, the definition of random number needs to be introduce.\n",
    "\n",
    "Random numbers are numbers that occur in a sequence such that two conditions are met:\n",
    "\n",
    "* the values are uniformly distributed over a defined interval or set\n",
    "* it is impossible to predict future values based on past or present ones.\n",
    "\n",
    "Random numbers are important in statistical analysis and probability theory (for example for generating data encryption keys, simulating and modeling complex phenomena and for selecting random samples from larger data sets).\n",
    "\n",
    "Compluters use two main approaches how to generate the random numbers\n",
    "\n",
    "* Pseudo-Random Number Generators (PRNGs) \n",
    "* True Random Number Generators (TRNGs)\n"
   ]
  },
  {
   "cell_type": "markdown",
   "metadata": {},
   "source": [
    "### _Pseudo-Random Number Generators (PRNGs)_\n",
    "\n",
    "PRNGs are algorithms that use mathematical formulae or simply precalculated tables to produce sequences of numbers that appear random. The main features :\n",
    "\n",
    "    * efficiency (can produce many numbers in short time)\n",
    "    * deterministic (a given sequence of numbers can be reproduced at a later date if the starting point in the sequence is known)\n",
    "    * periodic (the sequence will eventually repeat)\n",
    "    \n",
    "These characteristics make PRNGs suitable for applications where many numbers are required and where it is useful that the same sequence can be replayed easily. Popular examples of such applications are simulation and modeling applications.\n",
    "\n",
    "Numpy’s random number routines produce pseudo random numbers using combinations of a BitGenerator to create sequences and a Generator to use those sequences to sample from different statistical distributions:\n",
    "\n",
    "    * BitGenerators: Objects that generate random numbers. These are typically unsigned integer words filled with sequences of either 32 or 64 random bits.\n",
    "    * Generators: Objects that transform sequences of random bits from a BitGenerator into sequences of numbers that follow a specific probability distribution (such as uniform, Normal or Binomial) within a specified interval.\n"
   ]
  },
  {
   "cell_type": "markdown",
   "metadata": {},
   "source": [
    "### _True Random Number Generators (TRNGs)_\n",
    "\n",
    "TRNGs extract randomness from physical phenomena and introduce it into a computer. The examples of physical phenoma can be the vatiations in mouse movements, athmospheric noise, radioactive source...\n",
    "The characteristics of TRNGs:\n",
    "\n",
    "    * TRNGs are generally rather inefficient compared to PRNGs, taking considerably longer time to produce numbers.\n",
    "    * non-deterministic, meaning that a given sequence of numbers cannot be reproduced, although the same sequence may of course occur several times by chance. \n",
    "    * non-periodic\n",
    "    "
   ]
  },
  {
   "cell_type": "markdown",
   "metadata": {},
   "source": [
    "## “Simple random data” and “Permutations” functions\n",
    "\n",
    "### _Simple random data\n",
    "\n",
    "Numpy\n",
    "\n"
   ]
  },
  {
   "cell_type": "markdown",
   "metadata": {},
   "source": [
    "### _numpy.random.rand_\n",
    "\n",
    "  * output are the random values in a given shape, from the uniform distribution over [0,1) _zero inclusive, 1 exclusive_\n",
    "  \n"
   ]
  },
  {
   "cell_type": "code",
   "execution_count": 16,
   "metadata": {},
   "outputs": [],
   "source": [
    "import numpy as np\n",
    "import seaborn as sns\n",
    "import matplotlib.pyplot as pl"
   ]
  },
  {
   "cell_type": "code",
   "execution_count": 2,
   "metadata": {},
   "outputs": [
    {
     "data": {
      "text/plain": [
       "array([[0.01261523, 0.23769335],\n",
       "       [0.98852396, 0.31310622],\n",
       "       [0.76616359, 0.46831936]])"
      ]
     },
     "execution_count": 2,
     "metadata": {},
     "output_type": "execute_result"
    }
   ],
   "source": [
    "np.random.rand(3,2)"
   ]
  },
  {
   "cell_type": "code",
   "execution_count": 7,
   "metadata": {},
   "outputs": [
    {
     "data": {
      "text/plain": [
       "array([[0.08213994, 0.08943041]])"
      ]
     },
     "execution_count": 7,
     "metadata": {},
     "output_type": "execute_result"
    }
   ],
   "source": [
    "np.random.rand(1,2)"
   ]
  },
  {
   "cell_type": "code",
   "execution_count": 8,
   "metadata": {},
   "outputs": [
    {
     "data": {
      "text/plain": [
       "array([[0.25791048, 0.19039527, 0.86532037, 0.65729659, 0.98660705],\n",
       "       [0.37377655, 0.77502369, 0.26720518, 0.71974161, 0.07836666],\n",
       "       [0.94861041, 0.80470133, 0.6876005 , 0.73347239, 0.88710949],\n",
       "       [0.49470352, 0.07876595, 0.52092685, 0.32582402, 0.09599647],\n",
       "       [0.46532934, 0.56144727, 0.42126679, 0.73057525, 0.72278913]])"
      ]
     },
     "execution_count": 8,
     "metadata": {},
     "output_type": "execute_result"
    }
   ],
   "source": [
    "np.random.rand(5,5)"
   ]
  },
  {
   "cell_type": "markdown",
   "metadata": {},
   "source": [
    "Shape of array is defined by numbers in brackets, when the first position determines number of lines and second number defines number of samples in one line."
   ]
  },
  {
   "cell_type": "markdown",
   "metadata": {},
   "source": [
    "###  _numpy.random.randn_\n",
    "\n",
    "  * Return a sample (or samples) from the “standard normal” distribution.\n",
    "  * Generates an array of shape (d0, d1, ..., dn), filled with random floats sampled from a univariate “normal” (Gaussian) distribution of mean 0 and variance 1 "
   ]
  },
  {
   "cell_type": "markdown",
   "metadata": {},
   "source": [
    "_if no parameters used in brackets, the output is single float number_"
   ]
  },
  {
   "cell_type": "code",
   "execution_count": 9,
   "metadata": {},
   "outputs": [
    {
     "data": {
      "text/plain": [
       "0.26300396060481607"
      ]
     },
     "execution_count": 9,
     "metadata": {},
     "output_type": "execute_result"
    }
   ],
   "source": [
    "np.random.randn()\n"
   ]
  },
  {
   "cell_type": "markdown",
   "metadata": {},
   "source": [
    "_the paramenters in brackets defined the shape of array_"
   ]
  },
  {
   "cell_type": "code",
   "execution_count": 11,
   "metadata": {},
   "outputs": [
    {
     "data": {
      "text/plain": [
       "array([[ 0.10274788, -1.8277242 ],\n",
       "       [ 0.03128934, -0.08572541]])"
      ]
     },
     "execution_count": 11,
     "metadata": {},
     "output_type": "execute_result"
    }
   ],
   "source": [
    "np.random.randn(2,2)"
   ]
  },
  {
   "cell_type": "code",
   "execution_count": 12,
   "metadata": {},
   "outputs": [
    {
     "data": {
      "text/plain": [
       "array([[4.62623648, 0.46794348],\n",
       "       [3.17970284, 0.86556566]])"
      ]
     },
     "execution_count": 12,
     "metadata": {},
     "output_type": "execute_result"
    }
   ],
   "source": [
    "np.random.randn(2,2)+3"
   ]
  },
  {
   "cell_type": "code",
   "execution_count": 13,
   "metadata": {},
   "outputs": [
    {
     "data": {
      "text/plain": [
       "array([[6.40575049, 3.58027898],\n",
       "       [5.90920651, 5.2703873 ]])"
      ]
     },
     "execution_count": 13,
     "metadata": {},
     "output_type": "execute_result"
    }
   ],
   "source": [
    "np.random.randn(2,2)+5"
   ]
  },
  {
   "cell_type": "code",
   "execution_count": 14,
   "metadata": {},
   "outputs": [
    {
     "data": {
      "text/plain": [
       "array([[-4.94532265, -5.22433974],\n",
       "       [-5.53212596, -4.82643727]])"
      ]
     },
     "execution_count": 14,
     "metadata": {},
     "output_type": "execute_result"
    }
   ],
   "source": [
    "np.random.randn(2,2)-5"
   ]
  },
  {
   "cell_type": "code",
   "execution_count": 15,
   "metadata": {},
   "outputs": [
    {
     "data": {
      "text/plain": [
       "array([[ -99.35233113,  -98.16452814,  -99.5786566 ,  -99.36685091,\n",
       "        -101.06997115],\n",
       "       [ -99.45651601,  -99.76039943,  -99.26407584, -100.25179468,\n",
       "        -100.08461941]])"
      ]
     },
     "execution_count": 15,
     "metadata": {},
     "output_type": "execute_result"
    }
   ],
   "source": [
    "np.random.randn(2,5)-100\n"
   ]
  },
  {
   "cell_type": "markdown",
   "metadata": {},
   "source": [
    "### _numpy.random.randint_"
   ]
  },
  {
   "cell_type": "code",
   "execution_count": 17,
   "metadata": {},
   "outputs": [
    {
     "data": {
      "text/plain": [
       "array([1, 0, 1, 0, 0, 0, 1, 1, 0, 1])"
      ]
     },
     "execution_count": 17,
     "metadata": {},
     "output_type": "execute_result"
    }
   ],
   "source": [
    "np.random.randint(2, size=10)"
   ]
  },
  {
   "cell_type": "code",
   "execution_count": 19,
   "metadata": {},
   "outputs": [
    {
     "data": {
      "text/plain": [
       "array([0, 1, 2, 4, 2, 4, 3, 1, 0, 1])"
      ]
     },
     "execution_count": 19,
     "metadata": {},
     "output_type": "execute_result"
    }
   ],
   "source": [
    "np.random.randint(5, size=10)"
   ]
  },
  {
   "cell_type": "code",
   "execution_count": 20,
   "metadata": {},
   "outputs": [
    {
     "ename": "ValueError",
     "evalue": "Range cannot be empty (low >= high) unless no samples are taken",
     "output_type": "error",
     "traceback": [
      "\u001b[1;31m---------------------------------------------------------------------------\u001b[0m",
      "\u001b[1;31mValueError\u001b[0m                                Traceback (most recent call last)",
      "\u001b[1;32m<ipython-input-20-dec7496f241a>\u001b[0m in \u001b[0;36m<module>\u001b[1;34m\u001b[0m\n\u001b[1;32m----> 1\u001b[1;33m \u001b[0mnp\u001b[0m\u001b[1;33m.\u001b[0m\u001b[0mrandom\u001b[0m\u001b[1;33m.\u001b[0m\u001b[0mrandint\u001b[0m\u001b[1;33m(\u001b[0m\u001b[1;33m-\u001b[0m\u001b[1;36m5\u001b[0m\u001b[1;33m,\u001b[0m \u001b[0msize\u001b[0m\u001b[1;33m=\u001b[0m\u001b[1;36m10\u001b[0m\u001b[1;33m)\u001b[0m\u001b[1;33m\u001b[0m\u001b[1;33m\u001b[0m\u001b[0m\n\u001b[0m",
      "\u001b[1;32mmtrand.pyx\u001b[0m in \u001b[0;36mmtrand.RandomState.randint\u001b[1;34m()\u001b[0m\n",
      "\u001b[1;31mValueError\u001b[0m: Range cannot be empty (low >= high) unless no samples are taken"
     ]
    }
   ],
   "source": [
    "np.random.randint(-5, size=10)"
   ]
  },
  {
   "cell_type": "code",
   "execution_count": null,
   "metadata": {},
   "outputs": [],
   "source": []
  }
 ],
 "metadata": {
  "kernelspec": {
   "display_name": "Python 3",
   "language": "python",
   "name": "python3"
  },
  "language_info": {
   "codemirror_mode": {
    "name": "ipython",
    "version": 3
   },
   "file_extension": ".py",
   "mimetype": "text/x-python",
   "name": "python",
   "nbconvert_exporter": "python",
   "pygments_lexer": "ipython3",
   "version": "3.7.3"
  }
 },
 "nbformat": 4,
 "nbformat_minor": 2
}
